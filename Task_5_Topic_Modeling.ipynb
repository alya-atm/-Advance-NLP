{
 "cells": [
  {
   "cell_type": "markdown",
   "id": "759d822b",
   "metadata": {
    "id": "759d822b"
   },
   "source": [
    "# [Optional 10 points] Part 3. Topic model"
   ]
  },
  {
   "cell_type": "code",
   "execution_count": 14,
   "id": "8m8HCZ6bWJW0",
   "metadata": {
    "colab": {
     "base_uri": "https://localhost:8080/"
    },
    "id": "8m8HCZ6bWJW0",
    "outputId": "99dcf2b5-b514-4564-9fa8-27d8092ac7ba"
   },
   "outputs": [
    {
     "name": "stdout",
     "output_type": "stream",
     "text": [
      "Requirement already satisfied: gensim in /usr/local/lib/python3.7/dist-packages (3.6.0)\n",
      "Requirement already satisfied: numpy>=1.11.3 in /usr/local/lib/python3.7/dist-packages (from gensim) (1.21.5)\n",
      "Requirement already satisfied: scipy>=0.18.1 in /usr/local/lib/python3.7/dist-packages (from gensim) (1.4.1)\n",
      "Requirement already satisfied: smart-open>=1.2.1 in /usr/local/lib/python3.7/dist-packages (from gensim) (5.2.1)\n",
      "Requirement already satisfied: six>=1.5.0 in /usr/local/lib/python3.7/dist-packages (from gensim) (1.15.0)\n"
     ]
    }
   ],
   "source": [
    "!pip install gensim"
   ]
  },
  {
   "cell_type": "code",
   "execution_count": 1,
   "id": "a47f99df",
   "metadata": {
    "colab": {
     "base_uri": "https://localhost:8080/",
     "height": 383
    },
    "id": "a47f99df",
    "outputId": "6b3684c5-81cd-4bd4-c293-2164247edc71"
   },
   "outputs": [],
   "source": [
    "import pandas as pd\n",
    "import numpy as np\n",
    "import os\n",
    "import nltk\n",
    "import re\n",
    "from bs4 import BeautifulSoup\n",
    "from nltk.tokenize import sent_tokenize, word_tokenize\n",
    "from nltk.corpus import stopwords\n",
    "from nltk.stem import WordNetLemmatizer\n",
    "from collections import Counter\n",
    "from sklearn.decomposition import NMF\n",
    "from gensim import corpora\n",
    "from gensim.models import Nmf, LdaModel, CoherenceModel\n",
    "from sklearn.feature_extraction.text import TfidfVectorizer\n",
    "import matplotlib.pyplot as plt\n",
    "import plotly.express as px\n",
    "import plotly.io as pio\n",
    "import seaborn as sns\n",
    "pio.renderers.default='notebook'"
   ]
  },
  {
   "cell_type": "code",
   "execution_count": 2,
   "id": "CP171AwUGm08",
   "metadata": {
    "colab": {
     "base_uri": "https://localhost:8080/"
    },
    "id": "CP171AwUGm08",
    "outputId": "6877fdd3-937a-4d08-987b-6ef69ebad7a9"
   },
   "outputs": [],
   "source": [
    "from google.colab import drive\n",
    "drive.mount('/content/drive', force_remount=True)\n"
   ]
  },
  {
   "cell_type": "code",
   "execution_count": 3,
   "id": "9c7b4fad",
   "metadata": {
    "id": "9c7b4fad"
   },
   "outputs": [],
   "source": [
    "#os.chdir('//Users//alyaatmaeva//Desktop//itmo//Adv_Natural_Language_Processing//ANLP-2022-materials//Homeworks')\n",
    "topic_df = pd.read_csv('/content/drive/My Drive/data.csv')\n",
    "#topic_df = pd.read_csv('data.csv')"
   ]
  },
  {
   "cell_type": "markdown",
   "id": "0eb31af3",
   "metadata": {
    "id": "0eb31af3"
   },
   "source": [
    "The provided data contain chunked stories by Edgar Allan Poe (EAP), Mary Shelley (MWS), and HP Lovecraft (HPL).\n",
    "\n",
    "The dataset can be downloaded here: https://drive.google.com/file/d/14tAjAzHr6UmFVFV7ABTyNHBh-dWHAaLH/view?usp=sharing"
   ]
  },
  {
   "cell_type": "code",
   "execution_count": null,
   "id": "a3a97838",
   "metadata": {
    "id": "a3a97838"
   },
   "outputs": [],
   "source": [
    "#topic_df = pd.read_csv('data.csv')"
   ]
  },
  {
   "cell_type": "code",
   "execution_count": 4,
   "id": "80ba2686",
   "metadata": {
    "colab": {
     "base_uri": "https://localhost:8080/",
     "height": 206
    },
    "id": "80ba2686",
    "outputId": "0665ea0d-fa98-4822-bb9a-859de756d21b"
   },
   "outputs": [
    {
     "data": {
      "text/html": [
       "<div>\n",
       "<style scoped>\n",
       "    .dataframe tbody tr th:only-of-type {\n",
       "        vertical-align: middle;\n",
       "    }\n",
       "\n",
       "    .dataframe tbody tr th {\n",
       "        vertical-align: top;\n",
       "    }\n",
       "\n",
       "    .dataframe thead th {\n",
       "        text-align: right;\n",
       "    }\n",
       "</style>\n",
       "<table border=\"1\" class=\"dataframe\">\n",
       "  <thead>\n",
       "    <tr style=\"text-align: right;\">\n",
       "      <th></th>\n",
       "      <th>id</th>\n",
       "      <th>text</th>\n",
       "      <th>author</th>\n",
       "    </tr>\n",
       "  </thead>\n",
       "  <tbody>\n",
       "    <tr>\n",
       "      <th>0</th>\n",
       "      <td>id26305</td>\n",
       "      <td>This process, however, afforded me no means of...</td>\n",
       "      <td>EAP</td>\n",
       "    </tr>\n",
       "    <tr>\n",
       "      <th>1</th>\n",
       "      <td>id17569</td>\n",
       "      <td>It never once occurred to me that the fumbling...</td>\n",
       "      <td>HPL</td>\n",
       "    </tr>\n",
       "    <tr>\n",
       "      <th>2</th>\n",
       "      <td>id11008</td>\n",
       "      <td>In his left hand was a gold snuff box, from wh...</td>\n",
       "      <td>EAP</td>\n",
       "    </tr>\n",
       "    <tr>\n",
       "      <th>3</th>\n",
       "      <td>id27763</td>\n",
       "      <td>How lovely is spring As we looked from Windsor...</td>\n",
       "      <td>MWS</td>\n",
       "    </tr>\n",
       "    <tr>\n",
       "      <th>4</th>\n",
       "      <td>id12958</td>\n",
       "      <td>Finding nothing else, not even gold, the Super...</td>\n",
       "      <td>HPL</td>\n",
       "    </tr>\n",
       "  </tbody>\n",
       "</table>\n",
       "</div>"
      ],
      "text/plain": [
       "        id                                               text author\n",
       "0  id26305  This process, however, afforded me no means of...    EAP\n",
       "1  id17569  It never once occurred to me that the fumbling...    HPL\n",
       "2  id11008  In his left hand was a gold snuff box, from wh...    EAP\n",
       "3  id27763  How lovely is spring As we looked from Windsor...    MWS\n",
       "4  id12958  Finding nothing else, not even gold, the Super...    HPL"
      ]
     },
     "execution_count": 4,
     "metadata": {},
     "output_type": "execute_result"
    }
   ],
   "source": [
    "topic_df.head(5)"
   ]
  },
  {
   "cell_type": "code",
   "execution_count": 5,
   "id": "f6e3ccf1",
   "metadata": {
    "colab": {
     "base_uri": "https://localhost:8080/"
    },
    "id": "f6e3ccf1",
    "outputId": "b303c153-3274-4c84-c041-b9094cd86882"
   },
   "outputs": [
    {
     "name": "stdout",
     "output_type": "stream",
     "text": [
      "<class 'pandas.core.frame.DataFrame'>\n",
      "RangeIndex: 19579 entries, 0 to 19578\n",
      "Data columns (total 3 columns):\n",
      " #   Column  Non-Null Count  Dtype \n",
      "---  ------  --------------  ----- \n",
      " 0   id      19579 non-null  object\n",
      " 1   text    19579 non-null  object\n",
      " 2   author  19579 non-null  object\n",
      "dtypes: object(3)\n",
      "memory usage: 459.0+ KB\n"
     ]
    }
   ],
   "source": [
    "topic_df.info()"
   ]
  },
  {
   "cell_type": "code",
   "execution_count": 6,
   "id": "21bfdf96",
   "metadata": {
    "id": "21bfdf96"
   },
   "outputs": [
    {
     "data": {
      "text/plain": [
       "<AxesSubplot:xlabel='author', ylabel='id'>"
      ]
     },
     "execution_count": 6,
     "metadata": {},
     "output_type": "execute_result"
    },
    {
     "data": {
      "image/png": "[encoded data removed]",
      "text/plain": [
       "<Figure size 720x432 with 1 Axes>"
      ]
     },
     "metadata": {
      "needs_background": "light"
     },
     "output_type": "display_data"
    }
   ],
   "source": [
    "plt.figure(figsize=(10,6))\n",
    "sns.barplot(x = 'author', y ='id', data = topic_df.groupby(['author'], as_index=False)['id'].count(), palette = \"husl\" )\n"
   ]
  },
  {
   "cell_type": "code",
   "execution_count": 7,
   "id": "63726693",
   "metadata": {
    "id": "63726693"
   },
   "outputs": [],
   "source": [
    "topic_df.drop(['id'], axis = 1, inplace = True)"
   ]
  },
  {
   "cell_type": "markdown",
   "id": "ad00322d",
   "metadata": {
    "id": "ad00322d"
   },
   "source": [
    "## Preprocess dataset"
   ]
  },
  {
   "cell_type": "code",
   "execution_count": 8,
   "id": "73b74975",
   "metadata": {
    "colab": {
     "base_uri": "https://localhost:8080/"
    },
    "id": "73b74975",
    "outputId": "f8e211c1-e8a6-4f49-e56d-c82964c5d3fa"
   },
   "outputs": [
    {
     "name": "stderr",
     "output_type": "stream",
     "text": [
      "[nltk_data] Downloading package stopwords to\n",
      "[nltk_data]     /Users/alyaatmaeva/nltk_data...\n",
      "[nltk_data]   Package stopwords is already up-to-date!\n",
      "[nltk_data] Downloading package punkt to\n",
      "[nltk_data]     /Users/alyaatmaeva/nltk_data...\n",
      "[nltk_data]   Package punkt is already up-to-date!\n",
      "[nltk_data] Downloading package wordnet to\n",
      "[nltk_data]     /Users/alyaatmaeva/nltk_data...\n",
      "[nltk_data]   Package wordnet is already up-to-date!\n",
      "[nltk_data] Downloading package words to\n",
      "[nltk_data]     /Users/alyaatmaeva/nltk_data...\n",
      "[nltk_data]   Package words is already up-to-date!\n"
     ]
    }
   ],
   "source": [
    "nltk.download(\"stopwords\")\n",
    "nltk.download('punkt')  \n",
    "nltk.download('wordnet')\n",
    "nltk.download('words')\n",
    "  \n",
    "lemmatizer = WordNetLemmatizer()\n",
    "stop_words = set(stopwords.words('english')) \n",
    "words_eng = set(nltk.corpus.words.words())\n",
    "my_stop_words = set(['url','x','us','th'])\n",
    "stop_words.update(my_stop_words)"
   ]
  },
  {
   "cell_type": "code",
   "execution_count": 9,
   "id": "0475d007",
   "metadata": {
    "id": "0475d007"
   },
   "outputs": [],
   "source": [
    "def preprocessing(line):\n",
    "    soup = BeautifulSoup(line, \"html.parser\")\n",
    "    for data in soup(['style', 'script','a']):\n",
    "        data.decompose()\n",
    "    clean_text = ' '.join(soup.stripped_strings)\n",
    "    # delete numbers and all other symbols except letters\n",
    "    clean_text = re.sub(r'[0-9]+', '', clean_text)\n",
    "    clean_text = re.sub(r\"[^\\w\\s]\", '', clean_text )\n",
    "    clean_text = re.sub(r'\\n+', '\\n',  clean_text) \n",
    "    clean_text = re.sub(r'[^\\x00-\\x7f]',r' ', clean_text)\n",
    "    #tokenization \n",
    "    tokinized_words = word_tokenize(clean_text)\n",
    "    #lower \n",
    "    words = [token.lower() for token in tokinized_words \\\n",
    "                        if (token.isalpha()\n",
    "                            and token.lower()   not in stop_words ) \n",
    "                        ] \n",
    "\n",
    "\n",
    "    # lemmatization\n",
    "    words = [lemmatizer.lemmatize(i) for i in words]\n",
    "     #remove non-english words \n",
    "    words = [word for word in words if word  in words_eng and len(word)>1]\n",
    "    return ' '.join(words)\n",
    "    "
   ]
  },
  {
   "cell_type": "code",
   "execution_count": 10,
   "id": "5a161c77",
   "metadata": {
    "id": "5a161c77"
   },
   "outputs": [],
   "source": [
    "clean_text_topic = []\n",
    "for i in range(len(topic_df)):\n",
    "    f = preprocessing(topic_df.loc[i].text)\n",
    "    clean_text_topic.append(f)"
   ]
  },
  {
   "cell_type": "code",
   "execution_count": 11,
   "id": "a8cdd3ff",
   "metadata": {
    "id": "a8cdd3ff"
   },
   "outputs": [],
   "source": [
    "topic_df['clean_text'] = clean_text_topic "
   ]
  },
  {
   "cell_type": "code",
   "execution_count": 12,
   "id": "cb7d5b76",
   "metadata": {
    "colab": {
     "base_uri": "https://localhost:8080/",
     "height": 35
    },
    "id": "cb7d5b76",
    "outputId": "26f44392-d3fe-41b0-f830-62bf46877129"
   },
   "outputs": [
    {
     "data": {
      "text/plain": [
       "'left hand gold snuff box hill cutting manner fantastic step took snuff incessantly air possible self satisfaction'"
      ]
     },
     "execution_count": 12,
     "metadata": {},
     "output_type": "execute_result"
    }
   ],
   "source": [
    "topic_df.loc[2].clean_text"
   ]
  },
  {
   "cell_type": "code",
   "execution_count": 13,
   "id": "cc2fa8a5",
   "metadata": {
    "colab": {
     "base_uri": "https://localhost:8080/",
     "height": 53
    },
    "id": "cc2fa8a5",
    "outputId": "20dbb68d-cbde-4ba1-c29b-b5919a08ab31"
   },
   "outputs": [
    {
     "data": {
      "text/plain": [
       "'must commence destructive almost endless journey across mountainous ice ocean amidst cold inhabitant could long endure native genial sunny climate could hope survive'"
      ]
     },
     "execution_count": 13,
     "metadata": {},
     "output_type": "execute_result"
    }
   ],
   "source": [
    "clean_text_topic[15]"
   ]
  },
  {
   "cell_type": "markdown",
   "id": "db846adf",
   "metadata": {
    "id": "db846adf"
   },
   "source": [
    "## Quality estimation"
   ]
  },
  {
   "cell_type": "code",
   "execution_count": 21,
   "id": "48a8636f",
   "metadata": {
    "id": "48a8636f"
   },
   "outputs": [],
   "source": [
    "#quality fuctions\n",
    "def coherence(model, texts, dictionary):\n",
    "    coherence = CoherenceModel(model=model, texts=texts,\n",
    "        dictionary=dictionary, coherence='c_v')\n",
    "    return coherence.get_coherence()\n",
    "\n",
    "def nmpi(model, texts, dictionary):\n",
    "    nmpi = CoherenceModel(model=model, texts=texts,\n",
    "        dictionary=dictionary, coherence='c_npmi')\n",
    "    return nmpi.get_coherence()\n",
    "\n",
    "def mass(model, texts, dictionary):   \n",
    "    mass = CoherenceModel(model=model, texts=texts,\n",
    "        dictionary=dictionary, coherence='u_mass')\n",
    "    return mass.get_coherence()"
   ]
  },
  {
   "cell_type": "markdown",
   "id": "2b4210fc",
   "metadata": {
    "id": "2b4210fc"
   },
   "source": [
    "## Topic modeling"
   ]
  },
  {
   "cell_type": "code",
   "execution_count": 14,
   "id": "b46b7955",
   "metadata": {
    "id": "b46b7955"
   },
   "outputs": [],
   "source": [
    "X = topic_df['clean_text']\n",
    "y = topic_df['author']"
   ]
  },
  {
   "cell_type": "code",
   "execution_count": 15,
   "id": "620cee44",
   "metadata": {
    "id": "620cee44"
   },
   "outputs": [],
   "source": [
    "most_common_words_topic_df = pd.Series(' '.join(topic_df['clean_text']).split()).value_counts()[:100].reset_index().rename({'index':'words', 0:'frequency'},axis='columns')"
   ]
  },
  {
   "cell_type": "code",
   "execution_count": 16,
   "id": "a9f92b75",
   "metadata": {
    "id": "a9f92b75"
   },
   "outputs": [
    {
     "data": {
      "text/plain": [
       "Text(0.5, 1.0, 'Most common words')"
      ]
     },
     "execution_count": 16,
     "metadata": {},
     "output_type": "execute_result"
    },
    {
     "data": {
      "image/png": "[encoded data removed]",
      "text/plain": [
       "<Figure size 1440x432 with 1 Axes>"
      ]
     },
     "metadata": {
      "needs_background": "light"
     },
     "output_type": "display_data"
    }
   ],
   "source": [
    "plt.figure(figsize=(20,6))\n",
    "fig = sns.barplot( x='words',y='frequency', data = most_common_words_topic_df, color = 'lightblue')\n",
    "plt.xticks(rotation=90)\n",
    "fig.set_title('Most common words')"
   ]
  },
  {
   "cell_type": "markdown",
   "id": "76a34a2b",
   "metadata": {
    "id": "76a34a2b"
   },
   "source": [
    "### NMF"
   ]
  },
  {
   "cell_type": "code",
   "execution_count": 18,
   "id": "c459ab2f",
   "metadata": {
    "id": "c459ab2f"
   },
   "outputs": [
    {
     "name": "stdout",
     "output_type": "stream",
     "text": [
      "\n",
      "Topic #0:\n",
      "(0, '0.033*\"could\" + 0.026*\"little\" + 0.020*\"even\" + 0.016*\"might\" + 0.015*\"must\" + 0.013*\"may\" + 0.010*\"man\" + 0.008*\"make\" + 0.008*\"friend\" + 0.008*\"body\"')\n",
      "----------------------------------------------------------------------\n",
      "\n",
      "Topic #1:\n",
      "(1, '0.044*\"one\" + 0.026*\"man\" + 0.021*\"well\" + 0.013*\"old\" + 0.013*\"two\" + 0.012*\"head\" + 0.012*\"year\" + 0.010*\"night\" + 0.005*\"came\" + 0.005*\"many\"')\n",
      "----------------------------------------------------------------------\n",
      "\n",
      "Topic #2:\n",
      "(2, '0.090*\"could\" + 0.025*\"one\" + 0.017*\"say\" + 0.012*\"eye\" + 0.008*\"human\" + 0.007*\"whose\" + 0.007*\"seen\" + 0.006*\"time\" + 0.006*\"world\" + 0.006*\"beyond\"')\n",
      "----------------------------------------------------------------------\n",
      "\n",
      "Topic #3:\n",
      "(3, '0.073*\"said\" + 0.023*\"thought\" + 0.018*\"man\" + 0.013*\"hand\" + 0.012*\"saw\" + 0.008*\"word\" + 0.006*\"would\" + 0.005*\"thus\" + 0.005*\"eye\" + 0.005*\"take\"')\n",
      "----------------------------------------------------------------------\n",
      "\n",
      "Topic #4:\n",
      "(4, '0.033*\"never\" + 0.022*\"time\" + 0.015*\"heart\" + 0.013*\"shall\" + 0.012*\"day\" + 0.012*\"know\" + 0.011*\"moment\" + 0.010*\"men\" + 0.009*\"however\" + 0.008*\"nothing\"')\n",
      "----------------------------------------------------------------------\n",
      "\n",
      "Topic #5:\n",
      "(5, '0.109*\"would\" + 0.024*\"day\" + 0.013*\"night\" + 0.012*\"thing\" + 0.011*\"like\" + 0.008*\"yet\" + 0.006*\"old\" + 0.006*\"every\" + 0.004*\"see\" + 0.004*\"ever\"')\n",
      "----------------------------------------------------------------------\n",
      "\n",
      "Topic #6:\n",
      "(6, '0.078*\"one\" + 0.038*\"yet\" + 0.017*\"even\" + 0.009*\"let\" + 0.008*\"whose\" + 0.007*\"thought\" + 0.007*\"much\" + 0.006*\"mind\" + 0.006*\"hour\" + 0.005*\"saw\"')\n",
      "----------------------------------------------------------------------\n",
      "\n",
      "Topic #7:\n",
      "(7, '0.114*\"upon\" + 0.007*\"thus\" + 0.006*\"life\" + 0.005*\"found\" + 0.004*\"eye\" + 0.004*\"tree\" + 0.004*\"day\" + 0.003*\"heart\" + 0.003*\"length\" + 0.003*\"fell\"')\n",
      "----------------------------------------------------------------------\n",
      "\n",
      "Topic #8:\n",
      "(8, '0.023*\"made\" + 0.017*\"thing\" + 0.016*\"still\" + 0.014*\"house\" + 0.011*\"might\" + 0.011*\"eye\" + 0.008*\"great\" + 0.007*\"hand\" + 0.007*\"left\" + 0.007*\"door\"')\n",
      "----------------------------------------------------------------------\n",
      "\n",
      "Topic #9:\n",
      "(9, '0.016*\"life\" + 0.015*\"first\" + 0.011*\"death\" + 0.009*\"every\" + 0.009*\"word\" + 0.008*\"time\" + 0.008*\"earth\" + 0.008*\"found\" + 0.008*\"eye\" + 0.007*\"love\"')\n",
      "----------------------------------------------------------------------\n"
     ]
    }
   ],
   "source": [
    "\n",
    "X_token = []\n",
    "\n",
    "for index in range(len(X)):\n",
    "    X_token.append(X[index].split())\n",
    "\n",
    "dictionary = corpora.Dictionary(X_token)\n",
    "corpus = [dictionary.doc2bow(text) for text in X_token]\n",
    "\n",
    "#Model\n",
    "nmf = Nmf(corpus, num_topics=10, id2word=dictionary)\n",
    "nmf_topics = nmf.print_topics(num_words=10)\n",
    "\n",
    "for i,topic in enumerate(nmf_topics):\n",
    "    print(\"\\nTopic #{}:\".format(i))\n",
    "    print(topic)\n",
    "    print(\"-\"*70)\n"
   ]
  },
  {
   "cell_type": "code",
   "execution_count": 22,
   "id": "87f22cf2",
   "metadata": {
    "id": "87f22cf2"
   },
   "outputs": [
    {
     "name": "stdout",
     "output_type": "stream",
     "text": [
      "NMF model\n",
      "coherence: 0.4179425756828666\n",
      "nmpi: -0.017224484496307754\n",
      "mass: -3.719182617188457\n"
     ]
    }
   ],
   "source": [
    "print(\"NMF model\")\n",
    "print (\"coherence: {}\".format(coherence(model=nmf, texts=X_token, dictionary=dictionary)))\n",
    "print(\"nmpi: {}\".format(nmpi(model=nmf, texts=X_token, dictionary=dictionary)))\n",
    "print(\"mass: {}\".format(mass(model=nmf, texts=X_token, dictionary=dictionary)))"
   ]
  },
  {
   "cell_type": "markdown",
   "id": "8ccef429",
   "metadata": {
    "id": "8ccef429"
   },
   "source": [
    "### LDA"
   ]
  },
  {
   "cell_type": "code",
   "execution_count": 24,
   "id": "946f3677",
   "metadata": {
    "id": "946f3677"
   },
   "outputs": [
    {
     "name": "stdout",
     "output_type": "stream",
     "text": [
      "\n",
      "Topic #0:\n",
      "(0, '0.011*\"could\" + 0.010*\"said\" + 0.009*\"upon\" + 0.009*\"would\" + 0.008*\"great\" + 0.008*\"day\" + 0.007*\"thing\" + 0.007*\"one\" + 0.007*\"see\" + 0.006*\"nothing\" + 0.006*\"three\" + 0.006*\"let\" + 0.006*\"way\" + 0.005*\"made\" + 0.005*\"done\" + 0.004*\"time\" + 0.004*\"boy\" + 0.004*\"go\" + 0.004*\"say\" + 0.004*\"much\"')\n",
      "----------------------------------------------------------------------\n",
      "\n",
      "Topic #1:\n",
      "(1, '0.021*\"one\" + 0.008*\"time\" + 0.007*\"may\" + 0.007*\"could\" + 0.006*\"every\" + 0.006*\"little\" + 0.006*\"would\" + 0.005*\"yet\" + 0.005*\"upon\" + 0.005*\"word\" + 0.005*\"might\" + 0.005*\"much\" + 0.005*\"say\" + 0.005*\"never\" + 0.004*\"man\" + 0.004*\"life\" + 0.004*\"thought\" + 0.004*\"must\" + 0.004*\"even\" + 0.004*\"ever\"')\n",
      "----------------------------------------------------------------------\n",
      "\n",
      "Topic #2:\n",
      "(2, '0.015*\"would\" + 0.012*\"could\" + 0.008*\"shall\" + 0.007*\"oh\" + 0.007*\"name\" + 0.006*\"might\" + 0.006*\"life\" + 0.006*\"hope\" + 0.006*\"said\" + 0.006*\"best\" + 0.006*\"well\" + 0.005*\"death\" + 0.005*\"voice\" + 0.005*\"misery\" + 0.005*\"say\" + 0.004*\"take\" + 0.004*\"cause\" + 0.004*\"purpose\" + 0.004*\"without\" + 0.004*\"strength\"')\n",
      "----------------------------------------------------------------------\n",
      "\n",
      "Topic #3:\n",
      "(3, '0.010*\"man\" + 0.007*\"old\" + 0.006*\"one\" + 0.006*\"night\" + 0.006*\"long\" + 0.006*\"come\" + 0.006*\"know\" + 0.005*\"like\" + 0.005*\"thing\" + 0.005*\"read\" + 0.005*\"time\" + 0.004*\"death\" + 0.004*\"mystery\" + 0.004*\"upon\" + 0.004*\"say\" + 0.004*\"god\" + 0.004*\"told\" + 0.004*\"large\" + 0.004*\"first\" + 0.004*\"saw\"')\n",
      "----------------------------------------------------------------------\n",
      "\n",
      "Topic #4:\n",
      "(4, '0.018*\"upon\" + 0.006*\"one\" + 0.006*\"thing\" + 0.006*\"still\" + 0.006*\"hour\" + 0.005*\"close\" + 0.005*\"man\" + 0.005*\"night\" + 0.005*\"light\" + 0.005*\"room\" + 0.004*\"year\" + 0.004*\"always\" + 0.004*\"figure\" + 0.004*\"back\" + 0.004*\"see\" + 0.004*\"plan\" + 0.004*\"box\" + 0.004*\"whole\" + 0.004*\"since\" + 0.004*\"little\"')\n",
      "----------------------------------------------------------------------\n",
      "\n",
      "Topic #5:\n",
      "(5, '0.011*\"one\" + 0.009*\"like\" + 0.009*\"found\" + 0.007*\"upon\" + 0.007*\"could\" + 0.005*\"whose\" + 0.005*\"mountain\" + 0.004*\"eye\" + 0.004*\"dark\" + 0.004*\"came\" + 0.004*\"house\" + 0.004*\"three\" + 0.004*\"water\" + 0.004*\"fell\" + 0.004*\"said\" + 0.004*\"lay\" + 0.004*\"earth\" + 0.004*\"hill\" + 0.004*\"two\" + 0.004*\"sea\"')\n",
      "----------------------------------------------------------------------\n",
      "\n",
      "Topic #6:\n",
      "(6, '0.009*\"upon\" + 0.006*\"father\" + 0.006*\"door\" + 0.005*\"two\" + 0.005*\"time\" + 0.005*\"saw\" + 0.005*\"old\" + 0.005*\"one\" + 0.005*\"eye\" + 0.005*\"would\" + 0.005*\"small\" + 0.005*\"men\" + 0.005*\"little\" + 0.004*\"step\" + 0.004*\"turned\" + 0.004*\"left\" + 0.004*\"near\" + 0.004*\"like\" + 0.004*\"dream\" + 0.004*\"mother\"')\n",
      "----------------------------------------------------------------------\n",
      "\n",
      "Topic #7:\n",
      "(7, '0.012*\"could\" + 0.012*\"would\" + 0.009*\"yet\" + 0.008*\"thought\" + 0.008*\"even\" + 0.007*\"thing\" + 0.007*\"world\" + 0.006*\"never\" + 0.006*\"life\" + 0.006*\"love\" + 0.005*\"might\" + 0.005*\"made\" + 0.005*\"time\" + 0.005*\"every\" + 0.005*\"mind\" + 0.005*\"strange\" + 0.005*\"wonder\" + 0.004*\"home\" + 0.004*\"heart\" + 0.004*\"saw\"')\n",
      "----------------------------------------------------------------------\n",
      "\n",
      "Topic #8:\n",
      "(8, '0.011*\"eye\" + 0.010*\"friend\" + 0.009*\"upon\" + 0.008*\"de\" + 0.007*\"love\" + 0.007*\"thus\" + 0.006*\"year\" + 0.005*\"day\" + 0.005*\"wish\" + 0.005*\"heart\" + 0.005*\"dream\" + 0.005*\"great\" + 0.005*\"life\" + 0.005*\"speak\" + 0.005*\"could\" + 0.005*\"whose\" + 0.005*\"gentle\" + 0.005*\"girl\" + 0.004*\"name\" + 0.004*\"young\"')\n",
      "----------------------------------------------------------------------\n",
      "\n",
      "Topic #9:\n",
      "(9, '0.007*\"minute\" + 0.006*\"must\" + 0.006*\"street\" + 0.005*\"well\" + 0.005*\"one\" + 0.005*\"day\" + 0.005*\"end\" + 0.005*\"right\" + 0.005*\"said\" + 0.005*\"space\" + 0.005*\"beyond\" + 0.005*\"window\" + 0.004*\"ten\" + 0.004*\"shall\" + 0.004*\"house\" + 0.004*\"known\" + 0.004*\"came\" + 0.004*\"open\" + 0.004*\"many\" + 0.004*\"object\"')\n",
      "----------------------------------------------------------------------\n"
     ]
    }
   ],
   "source": [
    "lda = LdaModel(corpus, num_topics=10 , id2word=dictionary)\n",
    "lda_topics = lda.print_topics(num_words=20)\n",
    "\n",
    "for i,topic in enumerate(lda_topics):\n",
    "    print(\"\\nTopic #{}:\".format(i))\n",
    "    print(topic)\n",
    "    print(\"-\"*70)"
   ]
  },
  {
   "cell_type": "code",
   "execution_count": 25,
   "id": "2d02d3fc",
   "metadata": {
    "id": "2d02d3fc"
   },
   "outputs": [
    {
     "name": "stdout",
     "output_type": "stream",
     "text": [
      "LDA model\n",
      "coherence: 0.2982391170590597\n",
      "nmpi: -0.03529665917943201\n",
      "mass: -4.166346641914737\n"
     ]
    }
   ],
   "source": [
    "print(\"LDA model\")\n",
    "print (\"coherence: {}\".format(coherence(model=lda, texts=X_token, dictionary=dictionary)))\n",
    "print(\"nmpi: {}\".format(nmpi(model=lda, texts=X_token, dictionary=dictionary)))\n",
    "print(\"mass: {}\".format(mass(model=lda, texts=X_token, dictionary=dictionary)))"
   ]
  },
  {
   "cell_type": "code",
   "execution_count": 26,
   "id": "e9ecc76c",
   "metadata": {
    "id": "e9ecc76c"
   },
   "outputs": [
    {
     "name": "stderr",
     "output_type": "stream",
     "text": [
      "/opt/anaconda3/lib/python3.9/site-packages/past/builtins/misc.py:45: DeprecationWarning: the imp module is deprecated in favour of importlib; see the module's documentation for alternative uses\n",
      "  from imp import reload\n",
      "/opt/anaconda3/lib/python3.9/site-packages/past/builtins/misc.py:45: DeprecationWarning: the imp module is deprecated in favour of importlib; see the module's documentation for alternative uses\n",
      "  from imp import reload\n",
      "/opt/anaconda3/lib/python3.9/site-packages/past/builtins/misc.py:45: DeprecationWarning: the imp module is deprecated in favour of importlib; see the module's documentation for alternative uses\n",
      "  from imp import reload\n",
      "/opt/anaconda3/lib/python3.9/site-packages/past/builtins/misc.py:45: DeprecationWarning: the imp module is deprecated in favour of importlib; see the module's documentation for alternative uses\n",
      "  from imp import reload\n",
      "/opt/anaconda3/lib/python3.9/site-packages/past/builtins/misc.py:45: DeprecationWarning: the imp module is deprecated in favour of importlib; see the module's documentation for alternative uses\n",
      "  from imp import reload\n",
      "/opt/anaconda3/lib/python3.9/site-packages/past/builtins/misc.py:45: DeprecationWarning: the imp module is deprecated in favour of importlib; see the module's documentation for alternative uses\n",
      "  from imp import reload\n",
      "/opt/anaconda3/lib/python3.9/site-packages/past/builtins/misc.py:45: DeprecationWarning: the imp module is deprecated in favour of importlib; see the module's documentation for alternative uses\n",
      "  from imp import reload\n",
      "/opt/anaconda3/lib/python3.9/site-packages/past/builtins/misc.py:45: DeprecationWarning: the imp module is deprecated in favour of importlib; see the module's documentation for alternative uses\n",
      "  from imp import reload\n"
     ]
    },
    {
     "data": {
      "text/html": [
       "\n",
       "<link rel=\"stylesheet\" type=\"text/css\" href=\"https://cdn.jsdelivr.net/gh/bmabey/pyLDAvis@3.3.1/pyLDAvis/js/ldavis.v1.0.0.css\">\n",
       "\n",
       "\n",
       "<div id=\"ldavis_el578811401836321648967056760615\"></div>\n",
       "<script type=\"text/javascript\">\n",
       "\n",
       "var ldavis_el578811401836321648967056760615_data = {\"mdsDat\": {\"x\": [0.03593175615700967, 0.05003202328148827, -0.11415052915638513, -0.09912053580630889, -0.08508219846041053, 0.0250965146484625, -0.08908044881271897, 0.06080740604912553, -0.04674179822446162, 0.26230781032419853], \"y\": [-0.01498117054720141, 0.02525868108295208, 0.042995915920634044, 0.09961674834394231, -0.048190335055882064, -0.12582070111284333, -0.06468948916529524, 0.21841956380073482, -0.09336522687256255, -0.03924398639447829], \"topics\": [1, 2, 3, 4, 5, 6, 7, 8, 9, 10], \"cluster\": [1, 1, 1, 1, 1, 1, 1, 1, 1, 1], \"Freq\": [13.905318625291821, 13.484923296778353, 12.032405687015718, 9.820872716753154, 9.489567327562995, 9.045516386557129, 8.69938194298698, 8.276232548418823, 7.832291591239931, 7.413489877395095]}, \"tinfo\": {\"Term\": [\"would\", \"upon\", \"could\", \"friend\", \"said\", \"minute\", \"love\", \"one\", \"eye\", \"three\", \"de\", \"oh\", \"name\", \"dream\", \"shall\", \"wish\", \"father\", \"like\", \"great\", \"thing\", \"done\", \"close\", \"voice\", \"best\", \"know\", \"door\", \"may\", \"read\", \"let\", \"sea\", \"thick\", \"simple\", \"original\", \"deeply\", \"consideration\", \"closely\", \"poet\", \"sharp\", \"violent\", \"wine\", \"approaching\", \"experiment\", \"prepared\", \"lamp\", \"bestow\", \"frantic\", \"foreign\", \"mille\", \"motive\", \"reflect\", \"library\", \"nightmare\", \"sick\", \"undoubtedly\", \"extended\", \"pity\", \"due\", \"copy\", \"eve\", \"safe\", \"size\", \"possession\", \"example\", \"meaning\", \"thicket\", \"stand\", \"operation\", \"beautiful\", \"dare\", \"necessity\", \"dying\", \"judge\", \"one\", \"may\", \"given\", \"breath\", \"time\", \"therefore\", \"every\", \"word\", \"much\", \"little\", \"seen\", \"might\", \"yet\", \"say\", \"could\", \"mean\", \"never\", \"thought\", \"ever\", \"would\", \"hand\", \"life\", \"man\", \"upon\", \"must\", \"part\", \"even\", \"indeed\", \"day\", \"said\", \"found\", \"father\", \"quiet\", \"repeated\", \"anxious\", \"empty\", \"throughout\", \"wealth\", \"surprise\", \"examination\", \"locked\", \"proceeding\", \"capable\", \"treasure\", \"wait\", \"failure\", \"universal\", \"married\", \"dollar\", \"garret\", \"support\", \"society\", \"claw\", \"luxury\", \"laughter\", \"unfortunate\", \"multitude\", \"hue\", \"shake\", \"jest\", \"particularly\", \"planet\", \"law\", \"acute\", \"dread\", \"thy\", \"seem\", \"wonder\", \"nameless\", \"alteration\", \"universe\", \"theory\", \"crime\", \"world\", \"sought\", \"understanding\", \"substance\", \"home\", \"thought\", \"calm\", \"food\", \"yet\", \"limb\", \"would\", \"even\", \"strange\", \"love\", \"could\", \"action\", \"despair\", \"thing\", \"never\", \"sympathy\", \"knew\", \"mind\", \"feeling\", \"life\", \"moon\", \"heart\", \"might\", \"made\", \"make\", \"every\", \"whole\", \"place\", \"time\", \"earth\", \"men\", \"saw\", \"dream\", \"soul\", \"night\", \"must\", \"one\", \"used\", \"fail\", \"setting\", \"cellar\", \"desired\", \"benefit\", \"peak\", \"fright\", \"print\", \"gloom\", \"hellish\", \"unseen\", \"awaken\", \"lake\", \"big\", \"produce\", \"prison\", \"vegetation\", \"june\", \"instead\", \"inspire\", \"bade\", \"skull\", \"weird\", \"curtain\", \"resemble\", \"reserved\", \"highest\", \"humanity\", \"newspaper\", \"murder\", \"level\", \"draw\", \"mile\", \"monstrous\", \"gloomy\", \"ahead\", \"breeze\", \"inch\", \"physician\", \"hundred\", \"partly\", \"study\", \"wife\", \"mountain\", \"ring\", \"anything\", \"top\", \"found\", \"fell\", \"ground\", \"like\", \"hill\", \"dark\", \"order\", \"lay\", \"bottom\", \"wood\", \"one\", \"water\", \"whose\", \"three\", \"evening\", \"river\", \"sea\", \"upon\", \"could\", \"came\", \"earth\", \"horror\", \"house\", \"eye\", \"stone\", \"two\", \"said\", \"still\", \"long\", \"yet\", \"even\", \"year\", \"observation\", \"destiny\", \"em\", \"beat\", \"receive\", \"join\", \"brilliant\", \"army\", \"rue\", \"rush\", \"obliged\", \"restless\", \"bridge\", \"younger\", \"endeavor\", \"flying\", \"writhing\", \"shock\", \"sprang\", \"surrounded\", \"supreme\", \"ivory\", \"lapse\", \"holy\", \"crowned\", \"priest\", \"amusement\", \"rule\", \"decidedly\", \"desolation\", \"custom\", \"advance\", \"shut\", \"soldier\", \"footstep\", \"permitted\", \"church\", \"article\", \"wept\", \"public\", \"gradually\", \"admit\", \"gate\", \"sister\", \"silence\", \"older\", \"crowd\", \"loud\", \"grace\", \"profound\", \"father\", \"step\", \"returned\", \"hole\", \"small\", \"door\", \"turned\", \"mother\", \"attention\", \"received\", \"upon\", \"two\", \"near\", \"men\", \"saw\", \"town\", \"old\", \"left\", \"youth\", \"eye\", \"time\", \"little\", \"dream\", \"one\", \"foot\", \"would\", \"like\", \"day\", \"within\", \"night\", \"lid\", \"suspicion\", \"wrote\", \"rising\", \"prevent\", \"aside\", \"pursuit\", \"convinced\", \"search\", \"traveller\", \"curiously\", \"deck\", \"chaos\", \"eastern\", \"git\", \"previous\", \"oil\", \"start\", \"estate\", \"eyed\", \"million\", \"seated\", \"resistance\", \"store\", \"hotel\", \"breaking\", \"heat\", \"resource\", \"walking\", \"shine\", \"frame\", \"devoted\", \"rage\", \"mystery\", \"source\", \"strong\", \"candle\", \"graceful\", \"ice\", \"leaf\", \"read\", \"descent\", \"marble\", \"shoulder\", \"covered\", \"gold\", \"man\", \"large\", \"come\", \"enough\", \"know\", \"old\", \"long\", \"night\", \"god\", \"told\", \"like\", \"certain\", \"thousand\", \"thing\", \"one\", \"death\", \"time\", \"say\", \"first\", \"saw\", \"house\", \"upon\", \"must\", \"said\", \"little\", \"never\", \"throw\", \"move\", \"morrow\", \"revolution\", \"lest\", \"fragment\", \"advantage\", \"waking\", \"worthy\", \"player\", \"endure\", \"strangely\", \"getting\", \"patience\", \"credit\", \"strove\", \"te\", \"ancestor\", \"tumult\", \"chess\", \"pronounced\", \"peasant\", \"prayer\", \"phrase\", \"bare\", \"fitted\", \"volume\", \"distinctly\", \"furtive\", \"originally\", \"proceed\", \"boy\", \"break\", \"written\", \"pay\", \"noon\", \"fiend\", \"conceive\", \"ye\", \"third\", \"done\", \"yes\", \"coming\", \"occasion\", \"immediately\", \"nothing\", \"let\", \"great\", \"three\", \"said\", \"position\", \"weight\", \"impossible\", \"see\", \"way\", \"could\", \"day\", \"would\", \"thing\", \"upon\", \"go\", \"made\", \"sir\", \"one\", \"reason\", \"heavy\", \"know\", \"much\", \"say\", \"time\", \"well\", \"good\", \"might\", \"every\", \"never\", \"weak\", \"breast\", \"dwelling\", \"consider\", \"stated\", \"gas\", \"situated\", \"trembling\", \"employed\", \"faintly\", \"slater\", \"cursed\", \"regular\", \"fruit\", \"writing\", \"slumber\", \"ingenuity\", \"autumn\", \"customary\", \"steep\", \"electric\", \"countryside\", \"risen\", \"partially\", \"twelve\", \"generation\", \"painter\", \"talking\", \"obvious\", \"invention\", \"fro\", \"chapter\", \"block\", \"plainly\", \"aint\", \"geneva\", \"sit\", \"feeble\", \"weather\", \"chair\", \"close\", \"engaged\", \"plan\", \"worm\", \"ray\", \"servant\", \"queer\", \"similar\", \"captain\", \"machine\", \"box\", \"figure\", \"departure\", \"upon\", \"fully\", \"sufficient\", \"grave\", \"sat\", \"thrown\", \"always\", \"company\", \"history\", \"hour\", \"month\", \"room\", \"light\", \"still\", \"thing\", \"night\", \"back\", \"year\", \"one\", \"man\", \"since\", \"whole\", \"see\", \"sea\", \"part\", \"little\", \"day\", \"object\", \"much\", \"side\", \"many\", \"may\", \"unusual\", \"lot\", \"doctor\", \"rank\", \"obtain\", \"readily\", \"entity\", \"rim\", \"accustomed\", \"probable\", \"trust\", \"fatal\", \"friendship\", \"elder\", \"cruel\", \"magnificent\", \"slip\", \"pocket\", \"variation\", \"previously\", \"handed\", \"prefect\", \"steeple\", \"spoken\", \"sphere\", \"sufferer\", \"casual\", \"appetite\", \"apparatus\", \"superstition\", \"dwelt\", \"dawn\", \"finding\", \"sank\", \"authority\", \"peculiarly\", \"liberty\", \"cabin\", \"live\", \"lovely\", \"de\", \"girl\", \"fair\", \"brother\", \"direct\", \"gentle\", \"friend\", \"rich\", \"delight\", \"wish\", \"speak\", \"eye\", \"love\", \"till\", \"thus\", \"character\", \"name\", \"upon\", \"young\", \"year\", \"dream\", \"heart\", \"late\", \"whose\", \"city\", \"great\", \"day\", \"however\", \"life\", \"could\", \"even\", \"first\", \"one\", \"remains\", \"compartment\", \"investigation\", \"grow\", \"drawer\", \"convey\", \"forbidden\", \"seeing\", \"accompany\", \"shutter\", \"observe\", \"seeking\", \"journal\", \"root\", \"request\", \"unless\", \"unutterable\", \"warren\", \"bell\", \"rotting\", \"acquaintance\", \"grand\", \"soil\", \"constant\", \"hospital\", \"informed\", \"fearfully\", \"southward\", \"occasional\", \"bandage\", \"clock\", \"agreed\", \"cousin\", \"recollection\", \"square\", \"teeth\", \"vivid\", \"upper\", \"minute\", \"fallen\", \"ten\", \"space\", \"cant\", \"lord\", \"meeting\", \"path\", \"act\", \"following\", \"uncle\", \"street\", \"key\", \"right\", \"known\", \"end\", \"interest\", \"beyond\", \"open\", \"window\", \"well\", \"must\", \"morning\", \"none\", \"object\", \"shall\", \"day\", \"said\", \"house\", \"one\", \"came\", \"door\", \"many\", \"though\", \"first\", \"would\", \"place\", \"torn\", \"crowded\", \"conjecture\", \"shrill\", \"related\", \"exception\", \"injury\", \"whence\", \"value\", \"add\", \"allow\", \"organic\", \"positive\", \"foundation\", \"eagerly\", \"entreaty\", \"narrative\", \"dangerous\", \"talent\", \"consolation\", \"merit\", \"quietly\", \"shortly\", \"artificial\", \"complaint\", \"fat\", \"attachment\", \"demand\", \"trod\", \"identity\", \"occupation\", \"secure\", \"syllable\", \"ah\", \"communication\", \"suspect\", \"write\", \"ask\", \"bad\", \"fly\", \"residence\", \"oh\", \"best\", \"charge\", \"fever\", \"task\", \"imagine\", \"quitted\", \"strength\", \"actually\", \"business\", \"truly\", \"danger\", \"misery\", \"name\", \"cause\", \"would\", \"shall\", \"hope\", \"purpose\", \"could\", \"curiosity\", \"take\", \"die\", \"well\", \"might\", \"life\", \"voice\", \"leave\", \"said\", \"death\", \"say\", \"without\", \"nature\", \"ever\", \"thus\", \"make\", \"must\", \"friend\"], \"Freq\": [1265.0, 1483.0, 1391.0, 374.0, 722.0, 190.0, 394.0, 1706.0, 684.0, 313.0, 172.0, 169.0, 242.0, 329.0, 395.0, 168.0, 295.0, 651.0, 535.0, 758.0, 169.0, 146.0, 369.0, 137.0, 388.0, 361.0, 512.0, 169.0, 293.0, 291.0, 64.16516570421132, 90.80764474360286, 64.51140059092862, 55.56284948457652, 51.49747791568239, 50.741453643925006, 43.30635476521644, 40.54747119715339, 39.481621445465045, 45.17762767242478, 46.479098402293005, 37.70684642332477, 62.70551416979061, 37.129108031871986, 39.2550128392299, 35.92905527990268, 34.438169974021726, 34.46090605771778, 34.396045053398225, 33.2025140338426, 32.93063841404955, 32.81561549767175, 32.28567075120866, 32.24952768448778, 31.692772571165122, 34.16135626544745, 31.18234263328206, 30.461658808859106, 28.744827147716588, 31.537971406091927, 67.80638711967099, 57.715967768082265, 59.62702252317607, 61.45352870424676, 38.5372731522873, 72.78139639267134, 46.483521806893684, 78.08280901508249, 60.6816607977846, 48.974949560574274, 53.63683649553609, 39.005448598704206, 637.166058436965, 228.86334045200113, 80.25729569005627, 51.642543271606016, 247.21486200666027, 79.95765591803409, 178.96712060500218, 160.35434104126762, 157.82971075915643, 176.0966657438421, 118.28628762093454, 158.7466692158727, 169.6661799969066, 146.03369641783553, 224.7361779879204, 101.12048324418086, 143.29487113605364, 132.72075303125982, 120.3494585453065, 171.47867453102006, 118.29875521535011, 135.08380847257897, 138.88806600000063, 166.7292408967037, 122.45985084344643, 98.20852252308995, 120.47368818989302, 97.5745035964535, 116.00953355920444, 105.24169984625972, 95.55224826484024, 88.06584653082004, 65.94096713451727, 53.70716838909613, 53.14025440207277, 44.9621758135855, 44.51565539488661, 43.175169188927455, 38.63332679767385, 38.26267320995807, 38.05014067382479, 38.555564692066895, 45.37180294909101, 34.78792976833386, 34.48819016686596, 34.15432166066155, 34.07752987981597, 33.72743810206162, 33.3443448112899, 32.851835187353906, 32.107644960652934, 72.42608032153281, 31.292760641444964, 32.54465061208739, 30.70169324669234, 30.600629385304956, 29.41398502892309, 31.023872480861304, 28.727506438074634, 28.57546911332336, 27.85110073669384, 27.65193459866738, 81.43421938772615, 40.89322363805313, 51.65039751926771, 62.003354349077995, 67.97521460260047, 135.82115960857365, 45.14269810372384, 34.27192990826811, 62.741750550225426, 45.92803638298554, 41.27318257042298, 210.6971284529896, 82.46987004203174, 51.631231860042085, 43.25374455233802, 131.5861597356563, 249.18018056621614, 65.78132427863275, 49.781262327576506, 277.9309730533754, 56.234372249350784, 366.31409992179465, 247.77408923718195, 136.2507831129926, 168.15775583801283, 368.3812965472426, 73.29602882576056, 85.54365644421974, 215.35651626506666, 194.1891538450047, 63.60605860548055, 111.00573210416901, 140.84524991585516, 107.24005528184294, 177.26886800172474, 91.69342818600461, 131.25799450520762, 157.00448003154574, 152.4615730753561, 118.29444173169362, 140.91250249679842, 109.24487189241557, 116.86305215132684, 146.16271337724933, 110.10458661174994, 109.88058818769893, 119.87662955303367, 105.13730567790793, 98.48823552923427, 108.66957402022376, 109.55676498603857, 110.26655405860954, 62.780794021463244, 52.24517776669804, 48.67016405801003, 49.33550248991478, 48.27379262382172, 40.44555801704849, 36.67796765037667, 35.43930302552105, 34.93090612981192, 33.718327834277915, 33.67478521605377, 33.390333353319775, 32.356086387412724, 55.58347111733006, 60.95158672461068, 30.244569944465763, 32.61021943257916, 29.81107781314466, 29.37264310724937, 55.23086965356748, 28.91735630871329, 36.43799272998292, 50.376669683108446, 28.05087658109378, 35.63293235534234, 27.692725232081543, 27.622236706348975, 27.00866294489008, 38.113270128707434, 25.459902374727147, 70.24414391676085, 51.41483146706197, 35.90448120203294, 79.33876765932821, 43.341146800574634, 38.55113178247818, 39.88853577992362, 36.477203198722066, 78.46819559208016, 58.57850935977426, 87.2710299131884, 44.47954287570374, 87.22432616503811, 80.25252418722256, 121.18366913389237, 43.58813226625287, 69.38610425032347, 78.1599122355581, 244.45962632042227, 109.36938983886115, 95.5630131805759, 245.35201797019505, 103.53144623538417, 117.38868126972267, 68.0279831728103, 106.1754464497534, 55.62702930762281, 77.87179782228898, 289.0249930950176, 109.9473502794279, 124.3667245326338, 109.994913605765, 74.71690918123436, 74.70254550515612, 101.24192236183717, 187.72129945145107, 182.50648774514073, 115.77000834036542, 105.80689918774266, 92.45294095295704, 110.68157954282668, 118.22052871677194, 86.09713263606108, 102.32202595536259, 108.83241508285414, 95.46553203112909, 95.13771507175302, 96.93619556284065, 95.09468633179273, 91.62313033248086, 79.47236338228204, 44.79654756403666, 51.15531133544973, 43.71480351432036, 42.5322873359167, 42.68773767987699, 37.47735115469112, 46.59436524861839, 37.063598989868716, 36.08519447922683, 40.84317787430787, 32.72925864457646, 32.61940906787704, 32.45264178228983, 31.702358039514444, 30.331889626844607, 30.278784903680176, 28.95246323971536, 29.184343611505096, 28.68172600141414, 28.456180269906145, 27.261063444682037, 26.928268592737943, 28.660566472639992, 26.528141496900336, 26.280635509616285, 28.324233169944627, 31.491276233850378, 24.720191438256403, 23.780087098210394, 33.72465890358259, 34.64381470006448, 54.80604689030618, 41.189048725292594, 32.74696360828525, 43.02882196278366, 51.025868096113214, 58.051873865227925, 41.00274115886842, 79.06992561709608, 53.29019695797619, 31.30181914121871, 61.80973906696781, 71.82164820021448, 73.69937081361488, 37.018778613685896, 48.781005797363214, 41.26044561196721, 44.36413464708415, 48.769083862001516, 133.60563690359723, 94.5172967387974, 78.17955786282553, 46.835106999229204, 103.25303005432238, 126.34300740845292, 93.05143250731015, 81.91300470399302, 74.04354107296699, 63.33658565012395, 196.4109007871048, 118.88016057496564, 89.30623658613374, 102.20117472869623, 118.33726258369315, 74.71779388041864, 117.40674154776517, 91.46954166225163, 61.90468749546035, 110.76584225272852, 118.72110314651106, 99.94822890021271, 82.58846749891423, 116.59738194618258, 74.34349594987104, 103.52902921292183, 84.15196958482424, 73.84397448418746, 68.37164346577843, 68.41252884069475, 61.55386131708783, 57.85383519558636, 54.044978130105626, 47.07754288997052, 46.556692945655925, 45.920576716718706, 42.45316114086869, 42.1112677036508, 67.1682833806162, 35.47438054255357, 34.539721001213174, 32.62251021171402, 32.39299698077679, 32.09818469220463, 31.938443326273163, 33.82524099064025, 30.396174641303464, 29.09683269690968, 28.905280607057573, 31.514364202823757, 29.514729472115068, 27.51919911324418, 27.45774161010016, 26.94900336987425, 35.47750487587354, 26.565820590589666, 26.30238918448295, 25.446876964345133, 25.276495180220152, 24.9811425195329, 55.16070899850226, 44.778343052313765, 36.79634197243767, 90.0455361947812, 71.2585072939509, 63.178868341588576, 40.95852380160735, 42.081974622539114, 74.1351635112149, 55.115671438946336, 105.81005753201077, 45.704879818269596, 51.67393827598444, 44.60528151374531, 51.697478850307306, 51.79197028334157, 203.3659604808538, 81.66698795071959, 126.80161798840774, 71.35964039152701, 118.6946804192858, 137.97448938928864, 128.49348378096653, 132.0351317480087, 84.31896726747642, 82.0141328224014, 114.70824725183871, 74.0873160166605, 73.61895094214253, 106.06684236110188, 134.3096562299009, 90.0635354986875, 97.74285205076932, 84.5522606469824, 81.04303500684568, 79.74462397623198, 73.77731927165429, 84.57432747917319, 72.96894714984748, 72.01904665862463, 69.0421170266949, 69.30580388143784, 48.644456263766486, 69.83483877786384, 40.05552561103099, 39.81022284987437, 39.73294587764195, 39.60875392117657, 39.427644943715904, 37.75770048423476, 37.116977782359456, 35.32319022022322, 43.5236522541378, 33.707786361486, 43.782717181045555, 31.874693042522587, 31.68161767697855, 31.50090906194447, 32.97090643820897, 30.540708850160954, 30.25052101251317, 34.98257076463062, 30.21654405617078, 31.162132210034446, 28.390261581060727, 28.132250239486083, 27.46927581537552, 27.09469579254572, 44.144504336630675, 25.84917296605264, 26.898440940596434, 24.528833874405137, 57.11119911347024, 84.33215423103498, 39.59106773538478, 45.9441732462264, 38.73232779117964, 43.361676386326394, 37.75696297450158, 45.66312350536777, 73.96816642208518, 56.75568664386897, 107.73298686960348, 67.61253230644411, 65.76378505073143, 52.33036133652763, 67.93196064903677, 129.43556169883908, 120.41589726631982, 170.662205940139, 123.97457137425475, 195.62713985562453, 61.878476076525374, 53.123228784406066, 66.40916459977907, 134.35955128564154, 114.69404857846071, 217.63032833470422, 151.09951443106365, 177.80480274319163, 139.19397207132533, 178.33734564436406, 81.84720064257493, 107.85588642806024, 59.24346384102175, 136.83061627811048, 66.78822118962422, 57.95086448054463, 77.90623894977332, 80.96513900169624, 81.43220976896856, 88.7031660438042, 75.7925735153023, 68.1362297734199, 68.82100404872286, 67.76984430318095, 67.50934181761869, 46.04971138774442, 49.085546333104425, 57.293034131365985, 38.08174686766096, 36.785068797223154, 34.823999259109904, 36.783382267287685, 33.010085650065534, 58.84407874478109, 29.551033017801913, 29.256622084474348, 31.851842640285305, 27.634047435732157, 27.397068588564846, 51.5197697054896, 26.62032135223794, 26.579191638217587, 29.17955960048045, 26.342104709025037, 26.07044504200984, 29.62657559831592, 24.944315903978122, 24.177678840428584, 23.71388310817509, 24.984677785277523, 25.212505687641443, 23.356676518184894, 23.073616449216065, 32.826379982795714, 22.127464148583492, 26.59219976029662, 30.15456304672469, 34.894756958298316, 32.92829457746752, 27.172411092274537, 32.597820275052584, 35.88554038022715, 47.59672093888402, 32.22807391842605, 58.06183959054684, 105.27022631617244, 38.39060926844624, 78.24273070265198, 33.372678327646696, 57.720629140291706, 63.290874992013755, 48.1360547482338, 55.38588626530165, 50.995382739546535, 50.65691036726407, 74.95376315076948, 81.5911748923388, 43.50374020809975, 349.82909108423297, 59.06062558576091, 58.12457219936142, 61.68982442825571, 66.0619900370623, 59.436084527762986, 82.34659619406115, 57.910011365595324, 44.07853392856267, 107.19667132715928, 69.1784992074262, 95.41849567481755, 98.07453038349513, 108.47554288393931, 117.44379303733702, 99.22949490517651, 81.37291224920834, 86.41127294448651, 122.52518839233035, 99.75417909668897, 72.98214886006905, 74.32738728376225, 80.78581969495701, 70.17638902251436, 67.93562346846777, 71.33620822849596, 69.02333845336321, 62.69419466144036, 63.02133193132611, 61.39049125936216, 62.60519361707551, 62.47864757919398, 68.42392271985568, 43.16601544336455, 41.08835092942184, 41.06247764586838, 37.72366728877326, 40.99447619586663, 37.72872284012167, 37.238844198825674, 45.07189403623429, 31.981252882008473, 33.61016652174766, 31.05211537838388, 42.17363641986371, 37.376462304641336, 31.02722535672403, 46.430324967919326, 28.281223381068997, 59.36295657849661, 27.227018820506018, 26.969453474583627, 26.567104421464023, 25.64017979264575, 23.29170267450158, 52.4489631325746, 23.137332699387347, 22.850700075394336, 22.20952763344865, 24.571213450581947, 21.18396619876689, 25.74253971217176, 46.4526250906045, 47.64184072054627, 45.52632383697368, 33.39554551391073, 30.070470832767324, 30.33457197833549, 31.931483549602643, 37.06795371015255, 77.68015738986456, 75.87777621557422, 139.01910191908303, 82.88640701211926, 57.07140796759149, 65.90035857698264, 38.867742843285434, 83.39127664847298, 185.15689469164766, 53.872070846594966, 66.35218776783348, 89.84438803913804, 86.56060178879522, 205.48375856695657, 129.31467976894038, 80.94583791139517, 126.46469409921608, 74.83746371030551, 82.5837508609711, 169.28695347271605, 82.0994633167172, 104.67246581247203, 88.06488537688206, 89.01674287101568, 60.48232419688479, 83.84658474415002, 74.85693186736246, 86.96240672749003, 94.39551532521787, 76.52905119148564, 86.86642837045001, 86.52847761590503, 72.4465906528662, 70.17978425300949, 66.82507461536015, 56.380422002054644, 56.82180439049229, 48.82238364398373, 34.329312892124555, 39.2273717059166, 32.7133638040526, 43.637351876711186, 30.07269405506253, 34.948844106892786, 28.22547950587134, 37.28243236072576, 27.333158154193796, 27.18683957414453, 27.40210780748172, 30.130376113367234, 26.62048581241783, 26.129581147936626, 29.69619663334545, 25.929474905041946, 27.191709088924966, 55.08229288532296, 24.411185740166573, 24.248061049571984, 27.570837913716574, 24.340827130686975, 24.80151728713833, 22.97993560426017, 23.28378562291434, 22.37802951917602, 22.92738863377348, 54.91579683624382, 43.07102852411092, 29.983299332432082, 49.21377748310575, 41.310838812963034, 43.83465439814818, 40.01339491521377, 41.268379563353726, 129.91975717982478, 59.673985832066776, 77.44919874604757, 81.591294785665, 41.676510585667806, 62.16867758322369, 37.41854361066699, 52.66353475015947, 54.47975023585868, 45.660641349809815, 57.84488093130759, 97.42766234339334, 46.86344799153053, 85.84137160599244, 74.37550100929022, 86.53902183930751, 61.74641645349092, 80.85921331212053, 72.23410654365247, 80.33617633736873, 94.45326864993537, 109.35635984449804, 62.74301678155329, 60.037808729884055, 69.34248243781143, 77.28098356768709, 91.36002798125318, 85.63947933373824, 74.43215118457108, 91.54490736090227, 72.4567418946883, 68.76603892793226, 69.91562554383442, 66.69408674343074, 68.9130163723877, 63.60959984861281, 60.56809118582874, 61.08063722171557, 38.897831907952494, 38.668081244793854, 33.72944747704012, 34.650085010617225, 35.4705649788465, 37.553806263244056, 31.854933668469773, 30.868820304468887, 33.15145565987621, 26.98883910760631, 26.238557319565572, 25.379064717014003, 25.005018540807853, 24.41406280856444, 24.394342536913744, 25.138142367414726, 24.06753904709858, 24.936514726666573, 29.92951979900555, 27.371163307739785, 35.67711261341701, 22.60245929541768, 32.33369665546914, 22.359374374430807, 21.09743625535681, 23.332550687593024, 30.03135446053154, 20.383319492109372, 19.801595464343094, 49.38691333984108, 34.47918238589233, 33.28400766192807, 38.50326528949349, 30.375677273122886, 29.38275766181782, 51.288291389251135, 49.75364092929275, 31.153022864935295, 52.09170105130111, 31.15061659650579, 118.39358001665555, 98.0112736902007, 46.78987809838915, 54.32931961455845, 55.48209489098025, 59.25788696749467, 36.126678008372295, 63.107229497679555, 40.04502326002833, 57.323838163474825, 42.31989484983298, 58.66861600692678, 78.64514948874377, 108.41086649810349, 69.42567975443761, 255.01979748326914, 128.7360133955488, 102.60004677400141, 67.84904816154413, 192.39972796672572, 45.72689079035107, 74.01361620902361, 56.06748972536984, 95.88600521988374, 103.70316158235666, 103.3739057711277, 82.55482526610596, 54.27112015565355, 99.75011924478179, 85.4681677547021, 78.43776522495854, 66.91860901780922, 61.87604901549269, 61.525416944052694, 57.626406270303875, 56.20785154600867, 56.28008181412929, 56.12643754526956], \"Total\": [1265.0, 1483.0, 1391.0, 374.0, 722.0, 190.0, 394.0, 1706.0, 684.0, 313.0, 172.0, 169.0, 242.0, 329.0, 395.0, 168.0, 295.0, 651.0, 535.0, 758.0, 169.0, 146.0, 369.0, 137.0, 388.0, 361.0, 512.0, 169.0, 293.0, 291.0, 65.09367767443987, 92.15318520009932, 65.47079163066623, 56.49129499220715, 52.42589899530677, 51.68071915483769, 44.23479311654462, 41.475909443187064, 40.41003579630634, 46.24216907482628, 47.605516891949435, 38.63527290829106, 64.27339992025266, 38.064411307803546, 40.26370982544602, 36.85757246475857, 35.36661503269806, 35.389968264317275, 35.324519860511366, 34.131020872443216, 33.85914137340012, 33.74408901437483, 33.21419863594446, 33.1796365773072, 32.621278262012204, 35.16326004153125, 32.13560191841781, 31.400260734682096, 29.67328199610803, 32.56098514935384, 70.06259827808775, 60.02328726069498, 62.10482752182276, 64.1437726461271, 39.917437952977366, 78.0280806151723, 49.64557055061688, 89.65278140932388, 69.66612251931583, 54.63197633579977, 61.46508375211656, 41.5894167575763, 1706.4847645060345, 512.1971748768792, 122.15713355893041, 63.65962048385335, 906.5272478656469, 138.06268974286968, 543.6637901466956, 457.9141676369154, 469.8000845108052, 573.3939703882376, 314.6041463582493, 615.4815924521387, 718.2988367501115, 535.6786147553063, 1391.8990839886824, 266.690982305753, 655.1762922006723, 568.1830126792437, 455.89418912054305, 1265.7307638371308, 454.25440058342184, 676.1967106465755, 813.9865872165418, 1483.087924681531, 659.7888033808728, 303.92741311860766, 714.0922912774441, 323.46760305837216, 766.5968893992856, 722.4612507791995, 606.6434719639651, 295.330107802318, 66.86560279151115, 54.63182381074274, 54.06499703107368, 45.886864097648655, 45.440564237656915, 44.09981625936572, 39.55801600665895, 39.187296083157925, 38.97480495741196, 39.49819848487225, 46.51588392091524, 35.71254738879935, 35.412888474638606, 35.07896487190837, 35.00218472168467, 34.6521546319076, 34.269324547566235, 33.77663719232219, 33.04065691347973, 74.53797743865151, 32.21742836644907, 33.52118710423335, 31.626339920489773, 31.525267321315308, 30.338547798467463, 32.01400040175511, 29.652159248615504, 29.503811882997226, 28.7814969197888, 28.57661882450488, 85.6806348562413, 42.70657791576836, 54.63133982557657, 66.78824287950869, 73.67080705940647, 155.1638336613859, 48.18550265741086, 35.7235333838182, 72.72891680044901, 50.502828703261684, 44.98591946513482, 352.41771279909733, 110.15020121817295, 61.221905920793695, 48.4305639727167, 218.37905789633066, 568.1830126792437, 87.41362227777852, 59.4870387035061, 718.2988367501115, 71.69537278983576, 1265.7307638371308, 714.0922912774441, 281.34335513106, 394.10602766718483, 1391.8990839886824, 110.5473305546561, 144.21426550877283, 758.5899270514636, 655.1762922006723, 89.87030534339958, 252.92679672510803, 396.44695403465386, 240.72386452357134, 676.1967106465755, 188.10015953104696, 406.2783278795881, 615.4815924521387, 596.2358491187773, 350.86543018177736, 543.6637901466956, 316.45320325911246, 411.63639419262734, 906.5272478656469, 372.99945479142616, 378.74084564719595, 554.8126405869642, 329.5967607940461, 274.03554065815274, 606.4803226137577, 659.7888033808728, 1706.4847645060345, 63.70597080410068, 53.170422135732835, 49.59549101337121, 50.38488469091448, 49.39692004191874, 41.3949737475134, 37.60309838755223, 36.364467958711934, 35.85604906951593, 34.64342793567076, 34.59998151662413, 34.31551245798071, 33.28258502388313, 57.27019286139706, 62.805122779254496, 31.16981349304636, 33.62083232080756, 30.736235387258873, 30.297806223031987, 56.97122157169819, 29.843053520471504, 37.60635472392434, 52.026358856529605, 28.976007401784436, 36.81896578937923, 28.6180305105356, 28.54752547656161, 27.933814119953063, 39.42878144516005, 26.385042497617697, 73.19614258610012, 53.62879589336661, 37.457233211380085, 86.02901489467965, 45.806692899686745, 40.59065240066368, 42.24131545984723, 38.38151454124874, 91.34757674507769, 66.51780319615028, 106.44629788652699, 48.37813175371091, 107.79171250010056, 102.10410596146976, 177.86470845816018, 48.089559505128314, 89.50019929621628, 105.56807366731536, 606.6434719639651, 188.08809680699522, 156.3017520523129, 651.5310422965164, 177.51449994841744, 221.12205108271178, 100.87031165985394, 219.10933758470512, 72.37400851589139, 135.36902246590418, 1706.4847645060345, 298.79942528568967, 400.9230235568689, 313.30347091679573, 130.90834522482007, 135.5659824653228, 291.81465637199005, 1483.087924681531, 1391.8990839886824, 453.81274475979086, 372.99945479142616, 258.78894645909577, 468.26123606589925, 684.5790476448514, 215.99800819643505, 475.4156484017897, 722.4612507791995, 522.2500738850474, 559.5776753153134, 718.2988367501115, 714.0922912774441, 466.47903825264893, 80.40055428455642, 45.724795708567974, 52.227012958069444, 44.64519821975136, 43.46056736849089, 43.64274516394125, 38.40559424902921, 47.756538732591856, 37.99175389112484, 37.01338440730483, 41.90779168950011, 33.657600299966, 33.547575614184005, 33.38083428578813, 32.630578896308315, 31.2601939858166, 31.20723755960467, 29.88072894842193, 30.12370038591683, 29.609983896749654, 29.384374695749933, 28.189377721730832, 27.85657632512474, 29.656733539636935, 27.456339749856923, 27.208808981777263, 29.324987046607518, 32.63484005486883, 25.648861255670457, 24.723830267077616, 35.06793952691883, 36.141736461133725, 57.997936005509494, 43.544580495515184, 34.2151459038758, 45.69566596095471, 55.24725041234715, 63.95613496188946, 43.951404248060584, 96.06739718873075, 60.835781922547376, 32.75810494030903, 74.94660448973052, 90.43066821622347, 95.61972643744501, 40.20392699643885, 58.404468448679744, 46.88618448496975, 52.58854999112015, 61.59915569609889, 295.330107802318, 176.2884877460816, 131.67108514153495, 58.959225523689526, 246.02590745586744, 361.1975308749987, 206.1809963193664, 174.53759736704617, 151.11245440755337, 109.21662175341666, 1483.087924681531, 475.4156484017897, 267.52436581544606, 378.74084564719595, 554.8126405869642, 187.06960815319064, 641.8663176651951, 337.8265809444542, 116.37738297861453, 684.5790476448514, 906.5272478656469, 573.3939703882376, 329.5967607940461, 1706.4847645060345, 255.79088810661085, 1265.7307638371308, 651.5310422965164, 766.5968893992856, 322.64631014543505, 606.4803226137577, 62.48182702672843, 58.781751964029446, 55.02853883179839, 48.005448804449316, 47.484691291603845, 46.84844505603231, 43.381034020980266, 43.03917445180554, 68.91298134032785, 36.40224116190484, 35.4716853199505, 33.55038230831122, 33.32082126652547, 33.02610044678318, 32.86628345655376, 34.82017658699027, 31.32405666582065, 30.024758448104254, 29.833194857767264, 32.52697344178974, 30.501050713399614, 28.44704452885537, 28.38572231415997, 27.878277580967673, 36.714054517825915, 27.49503389217955, 27.23025069538488, 26.37483839979016, 26.204306859394492, 25.90901928925862, 57.37618510897623, 46.56241321557661, 38.20158801949447, 102.09868878162595, 80.48461493669942, 70.66719392756771, 44.033764823541816, 45.55712359962344, 86.97490427270837, 64.19985816774671, 169.01761167132045, 54.66771807062013, 69.83559577900533, 55.786190425094304, 70.78079142058543, 74.31822500413028, 813.9865872165418, 168.32720315584865, 382.96568822583083, 137.19141801095066, 388.14652394298946, 641.8663176651951, 559.5776753153134, 606.4803226137577, 229.82824616395436, 230.46298010213354, 651.5310422965164, 218.71319010907175, 229.6500197226866, 758.5899270514636, 1706.4847645060345, 453.9416725238446, 906.5272478656469, 535.6786147553063, 572.3232332489762, 554.8126405869642, 468.26123606589925, 1483.087924681531, 659.7888033808728, 722.4612507791995, 573.3939703882376, 655.1762922006723, 49.57070183025707, 71.3296662107648, 40.98166821367222, 40.73644247991479, 40.65917686471632, 40.53496913006144, 40.35391442820978, 38.68396668491352, 38.04327453949378, 36.249313333856946, 44.68737493275919, 34.634064036660206, 44.99007770935305, 32.80096550175161, 32.60793738025922, 32.4272230280167, 33.955909053279385, 31.46709496196806, 31.17708799810726, 36.055156061165505, 31.14373809725722, 32.148708951134225, 29.316552642548363, 29.05845935876981, 28.39548176038189, 28.020944433250918, 45.724851961559956, 26.77604585579971, 27.88084375054722, 25.455071657789617, 60.08522216104349, 92.35952465625212, 42.28566949472561, 49.904297423668524, 41.40548783527403, 47.149700828775494, 40.49712787321797, 51.93583688318432, 96.43951458389137, 71.86402056684261, 169.53955398960997, 96.33360789270252, 95.75067013236166, 70.03990828224505, 104.92522940611043, 288.65201645033744, 293.560948035482, 535.666405216769, 313.30347091679573, 722.4612507791995, 97.27811497198684, 73.40927533178325, 115.8297938735233, 491.93174125946564, 357.91084154775297, 1391.8990839886824, 766.5968893992856, 1265.7307638371308, 758.5899270514636, 1483.087924681531, 217.12239812282618, 596.2358491187773, 108.6764640964298, 1706.4847645060345, 175.10205946617555, 106.98757132679103, 388.14652394298946, 469.8000845108052, 535.6786147553063, 906.5272478656469, 436.50714472004256, 289.71118391369333, 615.4815924521387, 543.6637901466956, 655.1762922006723, 46.981969921642076, 50.08678355255414, 58.546068656426385, 39.010728316843455, 37.7141761125807, 35.77351515959945, 37.8173364996674, 33.938983943830785, 60.59030316239406, 30.48010673418091, 30.18560369542702, 32.912978786771234, 28.562916363115846, 28.326026858791785, 53.31032442623842, 27.54919930345014, 27.508165210635244, 30.218064880465906, 27.295173743325684, 27.026991973672253, 30.72176353114108, 25.87331311341883, 25.106721067273078, 24.642873909515895, 25.968537717236348, 26.21094654268283, 24.286607731514753, 24.00247471420635, 34.172078588805334, 23.06388532234455, 27.7205608654865, 31.477891078534277, 36.536506867986674, 34.54553754885155, 28.42409644525694, 34.540090245959256, 39.05568340799549, 54.50424403354373, 34.782990422343445, 70.47204419071116, 146.4657605146773, 43.28976735177263, 107.47384017328763, 36.710351533927486, 74.7856998240492, 85.41624959410969, 59.67000325882591, 72.28902444034405, 65.79688877239934, 65.41676926147284, 117.56065174044649, 135.96393572687657, 53.93596864589026, 1483.087924681531, 88.74720474251133, 88.09958470299969, 97.59707198166707, 110.49109169637262, 98.87601394742241, 183.74474606019544, 95.57923470326031, 57.034745457957456, 340.90195691852546, 147.3346990058767, 310.8855525009644, 360.90889727706593, 522.2500738850474, 758.5899270514636, 606.4803226137577, 327.5248324142159, 466.47903825264893, 1706.4847645060345, 813.9865872165418, 262.8932326171953, 316.45320325911246, 491.93174125946564, 291.81465637199005, 303.92741311860766, 573.3939703882376, 766.5968893992856, 254.68705344367626, 469.8000845108052, 226.57786303363002, 468.0763410153599, 512.1971748768792, 69.3528646666157, 44.13855928140854, 42.0172030325801, 42.094316268437524, 38.72070210087975, 42.09217870299734, 38.74122096576856, 38.27705716824695, 46.375855478263574, 32.91023940870133, 34.60968842261232, 31.98105405023113, 43.45900235108264, 38.5883415334997, 32.03947797805747, 47.950750514301085, 29.210359718062723, 61.334047082833266, 28.15600437637344, 27.900695765897755, 27.496099172198225, 26.569090713710484, 24.220764311616282, 54.543928353760165, 24.070165631466544, 23.78080765477129, 23.138526357527674, 25.625982071542243, 22.113001872892667, 26.889827981648178, 48.636570481214164, 50.080512908492565, 48.226827019961576, 35.22472073798012, 31.592627283832886, 31.948050693155615, 33.791824472942366, 39.73843538683421, 89.16146695889589, 87.97930849060008, 172.47872390982184, 100.55120703418046, 66.40836029348667, 78.56603045968048, 42.5141019342663, 122.05914521020819, 374.426941099238, 71.47030928710817, 102.12387887943397, 168.382395493781, 160.27786115764223, 684.5790476448514, 394.10602766718483, 165.84175565929053, 405.31361493471, 183.8769368513258, 242.3213637160174, 1483.087924681531, 242.43301280163806, 466.47903825264893, 329.5967607940461, 406.2783278795881, 124.35068342974827, 400.9230235568689, 284.42557894771005, 535.666405216769, 766.5968893992856, 352.34074600293127, 676.1967106465755, 1391.8990839886824, 714.0922912774441, 572.3232332489762, 1706.4847645060345, 57.30948358009751, 57.793046861081045, 49.75133467312881, 35.25900990115444, 40.29649637272372, 33.64242127120846, 44.965094046934915, 31.019216699173867, 36.085708690972446, 29.154398298892946, 38.54756722940154, 28.26214235324697, 28.11581775263763, 28.34139167273773, 31.168085938126104, 27.559491507706884, 27.05870110131184, 30.756307975612724, 26.85837100841975, 28.174652627374723, 57.184273014795124, 25.349022981150377, 25.18163873390555, 28.635565547335894, 25.284990171682452, 25.784579777182483, 23.909030712246466, 24.229334894283237, 23.307033961964017, 23.894543532023015, 57.299924440218426, 45.00871629086451, 31.448215304500085, 52.51562029571102, 43.846098486266186, 46.65197462900349, 43.82355526765934, 47.4701004101979, 190.42964761145137, 74.4903741618739, 104.2889375291291, 131.9922555286091, 51.71507636616521, 94.0061960143253, 44.607069313818094, 75.65167776069651, 83.38715138681343, 63.87151744444558, 98.30017466367602, 249.08574291829615, 71.2928468054603, 224.7821348044053, 186.4438308778745, 273.70067873650964, 134.88675348192982, 254.12206566696597, 201.2345125457551, 264.73707994777556, 436.50714472004256, 659.7888033808728, 166.15793488710742, 149.32628185315832, 254.68705344367626, 395.43861624449625, 766.5968893992856, 722.4612507791995, 468.26123606589925, 1706.4847645060345, 453.81274475979086, 361.1975308749987, 468.0763410153599, 329.88988251114614, 572.3232332489762, 1265.7307638371308, 411.63639419262734, 62.00615346823853, 39.82320169863484, 39.59361453319413, 34.654802411706385, 35.608709196077164, 36.45681888796509, 38.627856272597285, 32.78032578601365, 31.794179554763538, 34.28767740593365, 27.914138747458253, 27.16390289734346, 26.304491485764455, 25.930368234732665, 25.33940502676109, 25.31976150772288, 26.09803427204404, 24.992895846793484, 25.90864547146193, 31.133077301879673, 28.48204700753515, 37.13622910952744, 23.52783160590774, 33.67686388215832, 23.3244419869974, 22.022881985053097, 24.365185322760798, 31.40432443922773, 21.335415707489148, 20.726888869663362, 51.97789682493799, 36.25587356814344, 35.18963625356583, 41.02218919164132, 32.05798375514544, 30.992816814937296, 58.003144506163856, 56.56712854319515, 33.7108824524135, 61.786090601491345, 33.78582189772587, 169.00931658583704, 137.66282258492805, 55.9325507687948, 70.10295559531718, 73.52675026837767, 81.15648144137255, 41.394419587020046, 90.11054440423699, 47.823339812039514, 82.30050011822891, 52.60064372263708, 87.06188604436517, 137.94316523768856, 242.3213637160174, 117.1023128489715, 1265.7307638371308, 395.43861624449625, 274.28553391308776, 127.2745693667022, 1391.8990839886824, 65.03072437918206, 211.2539712218918, 108.6975393751861, 436.50714472004256, 615.4815924521387, 676.1967106465755, 369.87526102211285, 108.28595669225331, 722.4612507791995, 453.9416725238446, 535.6786147553063, 389.7119809460263, 327.00049749742726, 455.89418912054305, 405.31361493471, 350.86543018177736, 659.7888033808728, 374.426941099238], \"Category\": [\"Default\", \"Default\", \"Default\", \"Default\", \"Default\", \"Default\", \"Default\", \"Default\", \"Default\", \"Default\", \"Default\", \"Default\", \"Default\", \"Default\", \"Default\", \"Default\", \"Default\", \"Default\", \"Default\", \"Default\", \"Default\", \"Default\", \"Default\", \"Default\", \"Default\", \"Default\", \"Default\", \"Default\", \"Default\", \"Default\", \"Topic1\", \"Topic1\", \"Topic1\", \"Topic1\", \"Topic1\", \"Topic1\", \"Topic1\", \"Topic1\", \"Topic1\", \"Topic1\", \"Topic1\", \"Topic1\", \"Topic1\", \"Topic1\", \"Topic1\", \"Topic1\", \"Topic1\", \"Topic1\", \"Topic1\", \"Topic1\", \"Topic1\", \"Topic1\", \"Topic1\", \"Topic1\", \"Topic1\", \"Topic1\", \"Topic1\", \"Topic1\", \"Topic1\", \"Topic1\", \"Topic1\", \"Topic1\", \"Topic1\", \"Topic1\", \"Topic1\", \"Topic1\", \"Topic1\", \"Topic1\", \"Topic1\", \"Topic1\", \"Topic1\", \"Topic1\", \"Topic1\", \"Topic1\", \"Topic1\", \"Topic1\", \"Topic1\", \"Topic1\", \"Topic1\", \"Topic1\", \"Topic1\", \"Topic1\", \"Topic1\", \"Topic1\", \"Topic1\", \"Topic1\", \"Topic1\", \"Topic1\", \"Topic1\", \"Topic1\", \"Topic1\", \"Topic1\", \"Topic1\", \"Topic1\", \"Topic1\", \"Topic1\", \"Topic1\", \"Topic1\", \"Topic1\", \"Topic1\", \"Topic1\", \"Topic1\", \"Topic1\", \"Topic1\", \"Topic2\", \"Topic2\", \"Topic2\", \"Topic2\", \"Topic2\", \"Topic2\", \"Topic2\", \"Topic2\", \"Topic2\", \"Topic2\", \"Topic2\", \"Topic2\", \"Topic2\", \"Topic2\", \"Topic2\", \"Topic2\", \"Topic2\", \"Topic2\", \"Topic2\", \"Topic2\", \"Topic2\", \"Topic2\", \"Topic2\", \"Topic2\", \"Topic2\", \"Topic2\", \"Topic2\", \"Topic2\", \"Topic2\", \"Topic2\", \"Topic2\", \"Topic2\", \"Topic2\", \"Topic2\", \"Topic2\", \"Topic2\", \"Topic2\", \"Topic2\", \"Topic2\", \"Topic2\", \"Topic2\", \"Topic2\", \"Topic2\", \"Topic2\", \"Topic2\", \"Topic2\", \"Topic2\", \"Topic2\", \"Topic2\", \"Topic2\", \"Topic2\", \"Topic2\", \"Topic2\", \"Topic2\", \"Topic2\", \"Topic2\", \"Topic2\", \"Topic2\", \"Topic2\", \"Topic2\", \"Topic2\", \"Topic2\", \"Topic2\", \"Topic2\", \"Topic2\", \"Topic2\", \"Topic2\", \"Topic2\", \"Topic2\", \"Topic2\", \"Topic2\", \"Topic2\", \"Topic2\", \"Topic2\", \"Topic2\", \"Topic2\", \"Topic2\", \"Topic2\", \"Topic2\", \"Topic2\", \"Topic2\", \"Topic2\", \"Topic3\", \"Topic3\", \"Topic3\", \"Topic3\", \"Topic3\", \"Topic3\", \"Topic3\", \"Topic3\", \"Topic3\", \"Topic3\", \"Topic3\", \"Topic3\", \"Topic3\", \"Topic3\", \"Topic3\", \"Topic3\", \"Topic3\", \"Topic3\", \"Topic3\", \"Topic3\", \"Topic3\", \"Topic3\", \"Topic3\", \"Topic3\", \"Topic3\", \"Topic3\", \"Topic3\", \"Topic3\", \"Topic3\", \"Topic3\", \"Topic3\", \"Topic3\", \"Topic3\", \"Topic3\", \"Topic3\", \"Topic3\", \"Topic3\", \"Topic3\", \"Topic3\", \"Topic3\", \"Topic3\", \"Topic3\", \"Topic3\", \"Topic3\", \"Topic3\", \"Topic3\", \"Topic3\", \"Topic3\", \"Topic3\", \"Topic3\", \"Topic3\", \"Topic3\", \"Topic3\", \"Topic3\", \"Topic3\", \"Topic3\", \"Topic3\", \"Topic3\", \"Topic3\", \"Topic3\", \"Topic3\", \"Topic3\", \"Topic3\", \"Topic3\", \"Topic3\", \"Topic3\", \"Topic3\", \"Topic3\", \"Topic3\", \"Topic3\", \"Topic3\", \"Topic3\", \"Topic3\", \"Topic3\", \"Topic3\", \"Topic3\", \"Topic3\", \"Topic3\", \"Topic3\", \"Topic3\", \"Topic4\", \"Topic4\", \"Topic4\", \"Topic4\", \"Topic4\", \"Topic4\", \"Topic4\", \"Topic4\", \"Topic4\", \"Topic4\", \"Topic4\", \"Topic4\", \"Topic4\", \"Topic4\", \"Topic4\", \"Topic4\", \"Topic4\", \"Topic4\", \"Topic4\", \"Topic4\", \"Topic4\", \"Topic4\", \"Topic4\", \"Topic4\", \"Topic4\", \"Topic4\", \"Topic4\", \"Topic4\", \"Topic4\", \"Topic4\", \"Topic4\", \"Topic4\", \"Topic4\", \"Topic4\", \"Topic4\", \"Topic4\", \"Topic4\", \"Topic4\", \"Topic4\", \"Topic4\", \"Topic4\", \"Topic4\", \"Topic4\", \"Topic4\", \"Topic4\", \"Topic4\", \"Topic4\", \"Topic4\", \"Topic4\", \"Topic4\", \"Topic4\", \"Topic4\", \"Topic4\", \"Topic4\", \"Topic4\", \"Topic4\", \"Topic4\", \"Topic4\", \"Topic4\", \"Topic4\", \"Topic4\", \"Topic4\", \"Topic4\", \"Topic4\", \"Topic4\", \"Topic4\", \"Topic4\", \"Topic4\", \"Topic4\", \"Topic4\", \"Topic4\", \"Topic4\", \"Topic4\", \"Topic4\", \"Topic4\", \"Topic4\", \"Topic4\", \"Topic4\", \"Topic4\", \"Topic4\", \"Topic5\", \"Topic5\", \"Topic5\", \"Topic5\", \"Topic5\", \"Topic5\", \"Topic5\", \"Topic5\", \"Topic5\", \"Topic5\", \"Topic5\", \"Topic5\", \"Topic5\", \"Topic5\", \"Topic5\", \"Topic5\", \"Topic5\", \"Topic5\", \"Topic5\", \"Topic5\", \"Topic5\", \"Topic5\", \"Topic5\", \"Topic5\", \"Topic5\", \"Topic5\", \"Topic5\", \"Topic5\", \"Topic5\", \"Topic5\", \"Topic5\", \"Topic5\", \"Topic5\", \"Topic5\", \"Topic5\", \"Topic5\", \"Topic5\", \"Topic5\", \"Topic5\", \"Topic5\", \"Topic5\", \"Topic5\", \"Topic5\", \"Topic5\", \"Topic5\", \"Topic5\", \"Topic5\", \"Topic5\", \"Topic5\", \"Topic5\", \"Topic5\", \"Topic5\", \"Topic5\", \"Topic5\", \"Topic5\", \"Topic5\", \"Topic5\", \"Topic5\", \"Topic5\", \"Topic5\", \"Topic5\", \"Topic5\", \"Topic5\", \"Topic5\", \"Topic5\", \"Topic5\", \"Topic5\", \"Topic5\", \"Topic5\", \"Topic5\", \"Topic5\", \"Topic5\", \"Topic6\", \"Topic6\", \"Topic6\", \"Topic6\", \"Topic6\", \"Topic6\", \"Topic6\", \"Topic6\", \"Topic6\", \"Topic6\", \"Topic6\", \"Topic6\", \"Topic6\", \"Topic6\", \"Topic6\", \"Topic6\", \"Topic6\", \"Topic6\", \"Topic6\", \"Topic6\", \"Topic6\", \"Topic6\", \"Topic6\", \"Topic6\", \"Topic6\", \"Topic6\", \"Topic6\", \"Topic6\", \"Topic6\", \"Topic6\", \"Topic6\", \"Topic6\", \"Topic6\", \"Topic6\", \"Topic6\", \"Topic6\", \"Topic6\", \"Topic6\", \"Topic6\", \"Topic6\", \"Topic6\", \"Topic6\", \"Topic6\", \"Topic6\", \"Topic6\", \"Topic6\", \"Topic6\", \"Topic6\", \"Topic6\", \"Topic6\", \"Topic6\", \"Topic6\", \"Topic6\", \"Topic6\", \"Topic6\", \"Topic6\", \"Topic6\", \"Topic6\", \"Topic6\", \"Topic6\", \"Topic6\", \"Topic6\", \"Topic6\", \"Topic6\", \"Topic6\", \"Topic6\", \"Topic6\", \"Topic6\", \"Topic6\", \"Topic6\", \"Topic6\", \"Topic6\", \"Topic6\", \"Topic6\", \"Topic6\", \"Topic7\", \"Topic7\", \"Topic7\", \"Topic7\", \"Topic7\", \"Topic7\", \"Topic7\", \"Topic7\", \"Topic7\", \"Topic7\", \"Topic7\", \"Topic7\", \"Topic7\", \"Topic7\", \"Topic7\", \"Topic7\", \"Topic7\", \"Topic7\", \"Topic7\", \"Topic7\", \"Topic7\", \"Topic7\", \"Topic7\", \"Topic7\", \"Topic7\", \"Topic7\", \"Topic7\", \"Topic7\", \"Topic7\", \"Topic7\", \"Topic7\", \"Topic7\", \"Topic7\", \"Topic7\", \"Topic7\", \"Topic7\", \"Topic7\", \"Topic7\", \"Topic7\", \"Topic7\", \"Topic7\", \"Topic7\", \"Topic7\", \"Topic7\", \"Topic7\", \"Topic7\", \"Topic7\", \"Topic7\", \"Topic7\", \"Topic7\", \"Topic7\", \"Topic7\", \"Topic7\", \"Topic7\", \"Topic7\", \"Topic7\", \"Topic7\", \"Topic7\", \"Topic7\", \"Topic7\", \"Topic7\", \"Topic7\", \"Topic7\", \"Topic7\", \"Topic7\", \"Topic7\", \"Topic7\", \"Topic7\", \"Topic7\", \"Topic7\", \"Topic7\", \"Topic7\", \"Topic7\", \"Topic7\", \"Topic7\", \"Topic7\", \"Topic7\", \"Topic7\", \"Topic7\", \"Topic7\", \"Topic7\", \"Topic7\", \"Topic7\", \"Topic7\", \"Topic7\", \"Topic8\", \"Topic8\", \"Topic8\", \"Topic8\", \"Topic8\", \"Topic8\", \"Topic8\", \"Topic8\", \"Topic8\", \"Topic8\", \"Topic8\", \"Topic8\", \"Topic8\", \"Topic8\", \"Topic8\", \"Topic8\", \"Topic8\", \"Topic8\", \"Topic8\", \"Topic8\", \"Topic8\", \"Topic8\", \"Topic8\", \"Topic8\", \"Topic8\", \"Topic8\", \"Topic8\", \"Topic8\", \"Topic8\", \"Topic8\", \"Topic8\", \"Topic8\", \"Topic8\", \"Topic8\", \"Topic8\", \"Topic8\", \"Topic8\", \"Topic8\", \"Topic8\", \"Topic8\", \"Topic8\", \"Topic8\", \"Topic8\", \"Topic8\", \"Topic8\", \"Topic8\", \"Topic8\", \"Topic8\", \"Topic8\", \"Topic8\", \"Topic8\", \"Topic8\", \"Topic8\", \"Topic8\", \"Topic8\", \"Topic8\", \"Topic8\", \"Topic8\", \"Topic8\", \"Topic8\", \"Topic8\", \"Topic8\", \"Topic8\", \"Topic8\", \"Topic8\", \"Topic8\", \"Topic8\", \"Topic8\", \"Topic8\", \"Topic8\", \"Topic8\", \"Topic8\", \"Topic8\", \"Topic9\", \"Topic9\", \"Topic9\", \"Topic9\", \"Topic9\", \"Topic9\", \"Topic9\", \"Topic9\", \"Topic9\", \"Topic9\", \"Topic9\", \"Topic9\", \"Topic9\", \"Topic9\", \"Topic9\", \"Topic9\", \"Topic9\", \"Topic9\", \"Topic9\", \"Topic9\", \"Topic9\", \"Topic9\", \"Topic9\", \"Topic9\", \"Topic9\", \"Topic9\", \"Topic9\", \"Topic9\", \"Topic9\", \"Topic9\", \"Topic9\", \"Topic9\", \"Topic9\", \"Topic9\", \"Topic9\", \"Topic9\", \"Topic9\", \"Topic9\", \"Topic9\", \"Topic9\", \"Topic9\", \"Topic9\", \"Topic9\", \"Topic9\", \"Topic9\", \"Topic9\", \"Topic9\", \"Topic9\", \"Topic9\", \"Topic9\", \"Topic9\", \"Topic9\", \"Topic9\", \"Topic9\", \"Topic9\", \"Topic9\", \"Topic9\", \"Topic9\", \"Topic9\", \"Topic9\", \"Topic9\", \"Topic9\", \"Topic9\", \"Topic9\", \"Topic9\", \"Topic9\", \"Topic9\", \"Topic9\", \"Topic9\", \"Topic9\", \"Topic9\", \"Topic9\", \"Topic9\", \"Topic9\", \"Topic9\", \"Topic10\", \"Topic10\", \"Topic10\", \"Topic10\", \"Topic10\", \"Topic10\", \"Topic10\", \"Topic10\", \"Topic10\", \"Topic10\", \"Topic10\", \"Topic10\", \"Topic10\", \"Topic10\", \"Topic10\", \"Topic10\", \"Topic10\", \"Topic10\", \"Topic10\", \"Topic10\", \"Topic10\", \"Topic10\", \"Topic10\", \"Topic10\", \"Topic10\", \"Topic10\", \"Topic10\", \"Topic10\", \"Topic10\", \"Topic10\", \"Topic10\", \"Topic10\", \"Topic10\", \"Topic10\", \"Topic10\", \"Topic10\", \"Topic10\", \"Topic10\", \"Topic10\", \"Topic10\", \"Topic10\", \"Topic10\", \"Topic10\", \"Topic10\", \"Topic10\", \"Topic10\", \"Topic10\", \"Topic10\", \"Topic10\", \"Topic10\", \"Topic10\", \"Topic10\", \"Topic10\", \"Topic10\", \"Topic10\", \"Topic10\", \"Topic10\", \"Topic10\", \"Topic10\", \"Topic10\", \"Topic10\", \"Topic10\", \"Topic10\", \"Topic10\", \"Topic10\", \"Topic10\", \"Topic10\", \"Topic10\", \"Topic10\", \"Topic10\", \"Topic10\", \"Topic10\", \"Topic10\", \"Topic10\", \"Topic10\", \"Topic10\", \"Topic10\", \"Topic10\", \"Topic10\"], \"logprob\": [30.0, 29.0, 28.0, 27.0, 26.0, 25.0, 24.0, 23.0, 22.0, 21.0, 20.0, 19.0, 18.0, 17.0, 16.0, 15.0, 14.0, 13.0, 12.0, 11.0, 10.0, 9.0, 8.0, 7.0, 6.0, 5.0, 4.0, 3.0, 2.0, 1.0, -6.1776, -5.8303, -6.1722, -6.3215, -6.3975, -6.4123, -6.5708, -6.6366, -6.6632, -6.5285, -6.5001, -6.7092, -6.2006, -6.7247, -6.669, -6.7575, -6.7999, -6.7992, -6.8011, -6.8364, -6.8447, -6.8482, -6.8644, -6.8656, -6.883, -6.808, -6.8992, -6.9226, -6.9806, -6.8879, -6.1224, -6.2835, -6.2509, -6.2208, -6.6874, -6.0516, -6.5, -5.9813, -6.2334, -6.4477, -6.3568, -6.6754, -3.882, -4.9059, -5.9538, -6.3947, -4.8288, -5.9576, -5.1519, -5.2617, -5.2775, -5.168, -5.5659, -5.2717, -5.2052, -5.3552, -4.9241, -5.7227, -5.3742, -5.4508, -5.5487, -5.1946, -5.5658, -5.4332, -5.4054, -5.2227, -5.5313, -5.752, -5.5476, -5.7584, -5.5854, -5.6828, -5.7794, -5.861, -6.1196, -6.3248, -6.3354, -6.5025, -6.5125, -6.5431, -6.6542, -6.6639, -6.6695, -6.6563, -6.4935, -6.7591, -6.7677, -6.7775, -6.7797, -6.79, -6.8015, -6.8163, -6.8393, -6.0258, -6.865, -6.8257, -6.884, -6.8873, -6.9269, -6.8736, -6.9505, -6.9558, -6.9815, -6.9887, -5.9086, -6.5974, -6.3639, -6.1812, -6.0892, -5.397, -6.4985, -6.774, -6.1693, -6.4813, -6.5881, -4.9579, -5.8959, -6.3642, -6.5413, -5.4287, -4.7902, -6.122, -6.4007, -4.681, -6.2788, -4.4049, -4.7958, -5.3939, -5.1835, -4.3992, -6.0138, -5.8593, -4.9361, -5.0395, -6.1556, -5.5988, -5.3607, -5.6333, -5.1307, -5.7899, -5.4312, -5.2521, -5.2814, -5.5352, -5.3602, -5.6148, -5.5474, -5.3236, -5.6069, -5.609, -5.5219, -5.6531, -5.7184, -5.62, -5.6119, -5.6055, -6.0547, -6.2384, -6.3093, -6.2957, -6.3175, -6.4944, -6.5922, -6.6266, -6.641, -6.6763, -6.6776, -6.6861, -6.7176, -6.1765, -6.0843, -6.7851, -6.7098, -6.7995, -6.8143, -6.1829, -6.8299, -6.5988, -6.2749, -6.8604, -6.6211, -6.8732, -6.8758, -6.8982, -6.5538, -6.9573, -5.9424, -6.2545, -6.6135, -5.8207, -6.4253, -6.5424, -6.5083, -6.5977, -5.8317, -6.124, -5.7254, -6.3994, -5.7259, -5.8092, -5.3971, -6.4196, -5.9547, -5.8356, -4.6953, -5.4997, -5.6346, -4.6917, -5.5545, -5.4289, -5.9745, -5.5293, -6.1757, -5.8393, -4.5279, -5.4944, -5.3712, -5.494, -5.8807, -5.8809, -5.5769, -4.9594, -4.9876, -5.4428, -5.5328, -5.6677, -5.4877, -5.4218, -5.7389, -5.5663, -5.5046, -5.6356, -5.6391, -5.6203, -5.6395, -5.6767, -5.6159, -6.1892, -6.0564, -6.2136, -6.241, -6.2374, -6.3676, -6.1498, -6.3787, -6.4054, -6.2816, -6.503, -6.5064, -6.5115, -6.5349, -6.5791, -6.5808, -6.6256, -6.6177, -6.635, -6.6429, -6.6858, -6.6981, -6.6358, -6.7131, -6.7225, -6.6476, -6.5416, -6.7837, -6.8224, -6.4731, -6.4462, -5.9875, -6.2731, -6.5025, -6.2294, -6.059, -5.93, -6.2777, -5.621, -6.0155, -6.5476, -5.8672, -5.7171, -5.6913, -6.3799, -6.104, -6.2714, -6.1989, -6.1042, -5.0964, -5.4425, -5.6323, -6.1447, -5.3541, -5.1523, -5.4581, -5.5856, -5.6866, -5.8428, -4.7111, -5.2132, -5.4992, -5.3644, -5.2178, -5.6776, -5.2256, -5.4753, -5.8657, -5.2839, -5.2145, -5.3866, -5.5774, -5.2326, -5.6826, -5.3514, -5.5587, -5.6893, -5.7663, -5.7657, -5.8371, -5.8991, -5.9672, -6.1052, -6.1163, -6.1301, -6.2086, -6.2167, -5.7498, -6.3882, -6.4149, -6.472, -6.479, -6.4882, -6.4932, -6.4358, -6.5427, -6.5863, -6.593, -6.5065, -6.5721, -6.6421, -6.6443, -6.663, -6.3881, -6.6774, -6.6873, -6.7204, -6.7271, -6.7389, -5.9467, -6.1553, -6.3516, -5.4567, -5.6907, -5.811, -6.2444, -6.2174, -5.6511, -5.9475, -5.2953, -6.1348, -6.012, -6.1591, -6.0116, -6.0097, -4.642, -5.5543, -5.1144, -5.6892, -5.1804, -5.0299, -5.1011, -5.0739, -5.5224, -5.5501, -5.2146, -5.6517, -5.6581, -5.2929, -5.0568, -5.4565, -5.3746, -5.5196, -5.562, -5.5781, -5.6559, -5.5193, -5.6669, -5.68, -5.7223, -5.7184, -6.0245, -5.6629, -6.2188, -6.2249, -6.2269, -6.23, -6.2346, -6.2779, -6.295, -6.3445, -6.1357, -6.3913, -6.1298, -6.4472, -6.4533, -6.459, -6.4134, -6.49, -6.4995, -6.3542, -6.5007, -6.4698, -6.563, -6.5721, -6.596, -6.6097, -6.1216, -6.6568, -6.617, -6.7092, -5.8641, -5.4743, -6.2304, -6.0816, -6.2524, -6.1395, -6.2779, -6.0878, -5.6054, -5.8703, -5.2294, -5.6953, -5.723, -5.9515, -5.6905, -5.0459, -5.1181, -4.7694, -5.089, -4.6328, -5.7839, -5.9364, -5.7132, -5.0085, -5.1668, -4.5263, -4.8911, -4.7284, -4.9732, -4.7254, -5.5042, -5.2283, -5.8274, -4.9903, -5.7075, -5.8495, -5.5535, -5.515, -5.5093, -5.4238, -5.5811, -5.6875, -5.6775, -5.6929, -5.6968, -6.0403, -5.9765, -5.8219, -6.2303, -6.2649, -6.3197, -6.265, -6.3732, -5.7951, -6.4839, -6.4939, -6.4089, -6.551, -6.5596, -5.9281, -6.5884, -6.5899, -6.4966, -6.5989, -6.6092, -6.4814, -6.6534, -6.6846, -6.704, -6.6518, -6.6427, -6.7192, -6.7313, -6.3788, -6.7732, -6.5894, -6.4637, -6.3177, -6.3757, -6.5678, -6.3858, -6.2897, -6.0073, -6.3972, -5.8085, -5.2135, -6.2222, -5.5102, -6.3623, -5.8144, -5.7223, -5.996, -5.8557, -5.9383, -5.945, -5.5532, -5.4683, -6.0972, -4.0126, -5.7915, -5.8074, -5.7479, -5.6794, -5.7851, -5.4591, -5.8111, -6.0841, -5.1954, -5.6333, -5.3118, -5.2843, -5.1835, -5.1041, -5.2726, -5.471, -5.4109, -5.0617, -5.2673, -5.5798, -5.5616, -5.4782, -5.619, -5.6515, -5.6026, -5.6356, -5.7318, -5.7266, -5.7528, -5.7332, -5.7352, -5.5944, -6.0551, -6.1044, -6.1051, -6.1899, -6.1067, -6.1898, -6.2028, -6.0119, -6.355, -6.3053, -6.3845, -6.0784, -6.1991, -6.3853, -5.9822, -6.478, -5.7365, -6.516, -6.5255, -6.5405, -6.576, -6.6721, -5.8603, -6.6787, -6.6912, -6.7197, -6.6186, -6.7669, -6.572, -5.9817, -5.9565, -6.0019, -6.3117, -6.4166, -6.4079, -6.3566, -6.2074, -5.4676, -5.491, -4.8856, -5.4027, -5.7759, -5.632, -6.16, -5.3966, -4.599, -5.8336, -5.6252, -5.3221, -5.3593, -4.4948, -4.9579, -5.4264, -4.9802, -5.5049, -5.4064, -4.6886, -5.4122, -5.1693, -5.3421, -5.3313, -5.7178, -5.3912, -5.5046, -5.3547, -5.2727, -5.4825, -5.3558, -5.3597, -5.5373, -5.5691, -5.6181, -5.7329, -5.7251, -5.8769, -6.229, -6.0957, -6.2773, -5.9891, -6.3614, -6.2112, -6.4248, -6.1465, -6.4569, -6.4623, -6.4544, -6.3595, -6.4834, -6.502, -6.374, -6.5097, -6.4621, -5.7562, -6.57, -6.5767, -6.4483, -6.5729, -6.5541, -6.6304, -6.6173, -6.657, -6.6327, -5.7592, -6.0022, -6.3644, -5.8689, -6.0439, -5.9846, -6.0758, -6.0449, -4.8981, -5.6761, -5.4154, -5.3633, -6.0351, -5.6352, -6.1429, -5.8011, -5.7672, -5.9438, -5.7073, -5.1859, -5.9178, -5.3125, -5.4559, -5.3044, -5.642, -5.3723, -5.4851, -5.3788, -5.2169, -5.0704, -5.626, -5.6701, -5.526, -5.4176, -5.2502, -5.3149, -5.4552, -5.2482, -5.482, -5.5343, -5.5177, -5.5649, -5.5322, -5.6123, -5.6613, -5.5979, -6.0491, -6.0551, -6.1917, -6.1648, -6.1414, -6.0843, -6.2489, -6.2803, -6.209, -6.4147, -6.4429, -6.4762, -6.491, -6.5149, -6.5157, -6.4857, -6.5292, -6.4938, -6.3112, -6.4006, -6.1356, -6.592, -6.234, -6.6028, -6.6609, -6.5602, -6.3078, -6.6954, -6.7243, -5.8104, -6.1697, -6.205, -6.0593, -6.2964, -6.3297, -5.7726, -5.803, -6.2712, -5.7571, -6.2713, -4.9361, -5.125, -5.8644, -5.715, -5.694, -5.6282, -6.1231, -5.5652, -6.0201, -5.6614, -5.9648, -5.6382, -5.3451, -5.0242, -5.4698, -4.1687, -4.8523, -5.0792, -5.4928, -4.4505, -5.8874, -5.4058, -5.6835, -5.1469, -5.0686, -5.0717, -5.2966, -5.7161, -5.1074, -5.2619, -5.3478, -5.5066, -5.585, -5.5906, -5.6561, -5.681, -5.6797, -5.6825], \"loglift\": [30.0, 29.0, 28.0, 27.0, 26.0, 25.0, 24.0, 23.0, 22.0, 21.0, 20.0, 19.0, 18.0, 17.0, 16.0, 15.0, 14.0, 13.0, 12.0, 11.0, 10.0, 9.0, 8.0, 7.0, 6.0, 5.0, 4.0, 3.0, 2.0, 1.0, 1.9585, 1.9582, 1.9581, 1.9563, 1.955, 1.9546, 1.9517, 1.9503, 1.9497, 1.9496, 1.949, 1.9486, 1.9482, 1.948, 1.9475, 1.9474, 1.9463, 1.9463, 1.9463, 1.9453, 1.9451, 1.945, 1.9445, 1.9445, 1.944, 1.944, 1.9428, 1.9426, 1.9411, 1.941, 1.9402, 1.9337, 1.9322, 1.9301, 1.9377, 1.9033, 1.9071, 1.8347, 1.8348, 1.8636, 1.8367, 1.9088, 0.9877, 1.1673, 1.5528, 1.7637, 0.6735, 1.4267, 0.8618, 0.9236, 0.8821, 0.7924, 0.9947, 0.6178, 0.5298, 0.6732, 0.1494, 1.0031, 0.4529, 0.5187, 0.641, -0.026, 0.6275, 0.3623, 0.2046, -0.2126, 0.2888, 0.8432, 0.1933, 0.7744, 0.0846, 0.0465, 0.1246, 0.7629, 1.9897, 1.9865, 1.9863, 1.9832, 1.983, 1.9824, 1.9799, 1.9797, 1.9796, 1.9794, 1.9787, 1.9774, 1.9771, 1.9769, 1.9768, 1.9765, 1.9762, 1.9758, 1.975, 1.9749, 1.9745, 1.974, 1.9739, 1.9738, 1.9726, 1.9722, 1.9719, 1.9716, 1.9707, 1.9707, 1.9528, 1.9602, 1.9475, 1.9293, 1.9231, 1.8705, 1.9384, 1.9621, 1.8559, 1.9086, 1.9175, 1.4892, 1.7142, 1.8332, 1.8906, 1.497, 1.1793, 1.7193, 1.8255, 1.0541, 1.7607, 0.7637, 0.9451, 1.2785, 1.1519, 0.6743, 1.5927, 1.4813, 0.7444, 0.7875, 1.6579, 1.1801, 0.9687, 1.195, 0.6648, 1.2851, 0.8737, 0.6375, 0.6399, 0.9164, 0.6534, 0.94, 0.7445, 0.1787, 0.7835, 0.7661, 0.4714, 0.861, 0.9803, 0.2842, 0.2081, -0.7357, 2.1029, 2.1, 2.0987, 2.0965, 2.0946, 2.0944, 2.0927, 2.0918, 2.0914, 2.0905, 2.0905, 2.0902, 2.0893, 2.0877, 2.0876, 2.0874, 2.087, 2.087, 2.0866, 2.0865, 2.0861, 2.086, 2.0853, 2.0851, 2.0848, 2.0847, 2.0846, 2.0839, 2.0836, 2.0819, 2.0764, 2.0754, 2.0752, 2.0366, 2.0622, 2.066, 2.0603, 2.0667, 1.9656, 1.9905, 1.9189, 2.0335, 1.9058, 1.8768, 1.7339, 2.0193, 1.863, 1.817, 1.2087, 1.5754, 1.6256, 1.1409, 1.5784, 1.4843, 1.7237, 1.3931, 1.8544, 1.5646, 0.3419, 1.1178, 0.947, 1.0708, 1.5568, 1.5216, 1.059, 0.0506, 0.0859, 0.7515, 0.8576, 1.0883, 0.6752, 0.3613, 1.1978, 0.5815, 0.2247, 0.4182, 0.3457, 0.1147, 0.1014, 0.49, 2.309, 2.3002, 2.2999, 2.2996, 2.2991, 2.2985, 2.2962, 2.296, 2.2959, 2.2953, 2.2949, 2.2927, 2.2926, 2.2925, 2.2918, 2.2905, 2.2905, 2.2891, 2.289, 2.2888, 2.2886, 2.2872, 2.2868, 2.2865, 2.2863, 2.286, 2.2859, 2.285, 2.2838, 2.2817, 2.2816, 2.2783, 2.2641, 2.265, 2.2768, 2.2605, 2.2412, 2.2238, 2.2512, 2.1259, 2.1882, 2.2752, 2.1279, 2.0903, 2.0603, 2.2381, 2.1406, 2.1928, 2.1506, 2.0871, 1.5275, 1.6973, 1.7994, 2.0904, 1.4524, 1.2702, 1.5251, 1.5642, 1.6073, 1.7758, 0.299, 0.9346, 1.2235, 1.0108, 0.7756, 1.4029, 0.6219, 1.0141, 1.6894, 0.4993, 0.2878, 0.5737, 0.9367, -0.3628, 1.085, -0.1829, 0.274, -0.0193, 0.7691, 0.1385, 2.34, 2.3391, 2.3369, 2.3355, 2.3352, 2.335, 2.3334, 2.3332, 2.3293, 2.3292, 2.3284, 2.3269, 2.3267, 2.3265, 2.3263, 2.326, 2.3249, 2.3236, 2.3234, 2.3234, 2.3221, 2.3218, 2.3217, 2.3211, 2.3207, 2.3206, 2.3203, 2.3192, 2.3189, 2.3185, 2.3156, 2.3159, 2.3175, 2.2294, 2.2332, 2.243, 2.2826, 2.2756, 2.1952, 2.2024, 1.8866, 2.1759, 2.0538, 2.1313, 2.0408, 1.9939, 0.968, 1.6317, 1.2497, 1.7013, 1.1701, 0.8177, 0.8837, 0.8304, 1.3523, 1.3218, 0.618, 1.2725, 1.2173, 0.3876, -0.1871, 0.7375, 0.1277, 0.5088, 0.4003, 0.4152, 0.507, -0.5093, 0.1531, 0.0492, 0.2381, 0.1086, 2.384, 2.3817, 2.38, 2.3799, 2.3799, 2.3798, 2.3797, 2.3787, 2.3783, 2.377, 2.3765, 2.3758, 2.3757, 2.3743, 2.3741, 2.3739, 2.3735, 2.373, 2.3727, 2.3727, 2.3727, 2.3717, 2.3708, 2.3705, 2.3697, 2.3693, 2.3677, 2.3677, 2.367, 2.3658, 2.3521, 2.312, 2.3371, 2.3202, 2.3362, 2.3191, 2.3328, 2.2742, 2.1376, 2.1669, 1.9495, 2.0489, 2.0272, 2.1114, 1.9682, 1.6009, 1.5118, 1.2591, 1.4758, 1.0964, 1.9505, 2.0795, 1.8466, 1.1051, 1.2649, 0.5473, 0.7789, 0.4402, 0.7073, 0.2847, 1.4273, 0.6931, 1.7962, -0.1205, 1.4391, 1.7898, 0.797, 0.6446, 0.5191, 0.0786, 0.6521, 0.9555, 0.212, 0.3207, 0.1303, 2.4219, 2.4217, 2.4203, 2.4178, 2.417, 2.415, 2.4142, 2.4142, 2.4127, 2.411, 2.4107, 2.4091, 2.4089, 2.4086, 2.4078, 2.4076, 2.4076, 2.4069, 2.4064, 2.4059, 2.4056, 2.4054, 2.4042, 2.4035, 2.4033, 2.4031, 2.4029, 2.4025, 2.4017, 2.4005, 2.4004, 2.399, 2.3959, 2.394, 2.3969, 2.384, 2.3573, 2.3064, 2.3656, 2.2482, 2.1117, 2.3218, 2.1245, 2.3466, 2.1829, 2.1421, 2.2271, 2.1756, 2.1871, 2.1862, 1.9918, 1.9312, 2.227, 0.9975, 2.0347, 2.026, 1.9832, 1.9276, 1.933, 1.6393, 1.9409, 2.1842, 1.285, 1.6859, 1.2608, 1.139, 0.8703, 0.5764, 0.6317, 1.0494, 0.7558, -0.192, 0.3427, 1.1604, 0.9932, 0.6354, 1.0168, 0.9437, 0.3577, 0.0344, 1.0402, 0.4331, 1.1361, 0.4301, 0.338, 2.4783, 2.4695, 2.4694, 2.467, 2.4657, 2.4654, 2.4653, 2.4643, 2.4633, 2.4631, 2.4625, 2.4623, 2.4618, 2.4599, 2.4597, 2.4596, 2.4595, 2.4591, 2.4582, 2.4578, 2.4574, 2.4562, 2.4527, 2.4526, 2.4523, 2.4519, 2.4508, 2.4498, 2.4489, 2.4482, 2.4458, 2.4419, 2.4342, 2.4385, 2.4424, 2.44, 2.4352, 2.4222, 2.3539, 2.3438, 2.2761, 2.2986, 2.3403, 2.316, 2.4021, 2.1108, 1.7876, 2.2091, 2.0606, 1.8636, 1.8757, 1.2883, 1.3774, 1.7745, 1.3271, 1.5928, 1.4153, 0.3215, 1.409, 0.9974, 1.172, 0.9736, 1.771, 0.927, 1.1569, 0.6737, 0.3973, 0.9649, 0.4397, -0.2862, 0.2036, 0.3931, -0.7483, 2.5306, 2.53, 2.5281, 2.5202, 2.52, 2.5189, 2.5169, 2.5159, 2.5149, 2.5145, 2.5135, 2.5135, 2.5133, 2.5132, 2.5131, 2.5122, 2.512, 2.5118, 2.5117, 2.5114, 2.5095, 2.5092, 2.5091, 2.509, 2.5089, 2.508, 2.5073, 2.5071, 2.5062, 2.5056, 2.5044, 2.5029, 2.4992, 2.482, 2.4874, 2.4846, 2.456, 2.4069, 2.1645, 2.3251, 2.2494, 2.0659, 2.3311, 2.1334, 2.3712, 2.1847, 2.1212, 2.2113, 2.0167, 1.6082, 2.1274, 1.5843, 1.6279, 1.3955, 1.7655, 1.4018, 1.5224, 1.3544, 1.0162, 0.7496, 1.573, 1.6358, 1.2459, 0.9144, 0.4198, 0.4144, 0.7078, -0.3784, 0.7122, 0.8882, 0.6456, 0.9483, 0.4301, -0.4437, 0.6305, 2.5868, 2.5784, 2.5782, 2.5748, 2.5746, 2.5744, 2.5737, 2.5732, 2.5723, 2.5682, 2.5682, 2.5672, 2.5661, 2.5655, 2.5647, 2.5646, 2.5644, 2.5641, 2.5636, 2.5624, 2.5621, 2.5618, 2.5617, 2.5612, 2.5596, 2.5589, 2.5586, 2.5572, 2.5562, 2.5562, 2.5507, 2.5516, 2.5462, 2.5385, 2.548, 2.5485, 2.4788, 2.4735, 2.523, 2.4312, 2.5207, 2.2459, 2.2621, 2.4234, 2.347, 2.3203, 2.2874, 2.4658, 2.2457, 2.4244, 2.2402, 2.3844, 2.2072, 2.04, 1.7975, 2.0791, 0.9998, 1.4796, 1.6185, 1.9728, 0.623, 2.2497, 1.5531, 1.9399, 1.0862, 0.821, 0.7237, 1.1022, 1.9111, 0.6219, 0.932, 0.6806, 0.8399, 0.937, 0.5991, 0.6512, 0.7705, 0.1403, 0.7041]}, \"token.table\": {\"Topic\": [9, 8, 2, 9, 1, 3, 7, 9, 1, 2, 5, 6, 9, 10, 2, 5, 10, 2, 3, 10, 4, 9, 4, 8, 6, 6, 9, 6, 10, 3, 6, 7, 10, 2, 6, 1, 4, 5, 6, 7, 4, 6, 2, 1, 3, 4, 5, 8, 8, 1, 4, 4, 9, 9, 10, 5, 5, 9, 10, 10, 1, 2, 4, 7, 9, 2, 8, 7, 3, 1, 2, 3, 4, 5, 6, 7, 8, 9, 2, 10, 3, 9, 6, 4, 1, 5, 9, 3, 1, 2, 3, 4, 5, 6, 7, 8, 10, 1, 1, 2, 3, 4, 5, 6, 7, 8, 9, 3, 10, 3, 7, 1, 2, 3, 9, 3, 5, 7, 9, 5, 6, 9, 6, 8, 5, 7, 1, 2, 8, 10, 3, 8, 4, 4, 2, 5, 7, 8, 2, 3, 4, 5, 10, 8, 10, 1, 2, 4, 6, 7, 10, 1, 2, 3, 4, 5, 6, 7, 8, 9, 10, 4, 5, 6, 9, 2, 5, 6, 7, 8, 2, 3, 6, 7, 8, 9, 10, 3, 1, 2, 3, 5, 6, 7, 8, 9, 10, 1, 7, 5, 7, 1, 2, 3, 4, 5, 6, 7, 8, 10, 3, 10, 6, 4, 8, 1, 2, 3, 4, 5, 7, 8, 9, 10, 2, 1, 9, 1, 5, 7, 10, 1, 1, 2, 3, 4, 5, 6, 7, 8, 9, 10, 3, 6, 7, 4, 10, 2, 3, 7, 9, 10, 9, 10, 3, 6, 10, 7, 1, 10, 9, 9, 5, 1, 1, 2, 3, 4, 5, 6, 7, 8, 9, 10, 7, 2, 9, 1, 2, 5, 6, 2, 6, 9, 3, 4, 10, 4, 8, 2, 3, 6, 10, 5, 7, 3, 4, 7, 3, 5, 9, 10, 10, 1, 2, 5, 9, 1, 2, 3, 4, 5, 6, 7, 8, 9, 10, 4, 8, 1, 2, 3, 4, 6, 7, 8, 9, 10, 1, 2, 3, 4, 6, 8, 10, 1, 2, 3, 4, 5, 7, 8, 9, 10, 4, 5, 1, 2, 5, 8, 9, 10, 3, 4, 5, 7, 1, 5, 3, 4, 1, 2, 3, 5, 6, 8, 9, 4, 1, 5, 1, 5, 6, 10, 8, 9, 6, 8, 2, 1, 3, 4, 6, 9, 1, 2, 3, 4, 5, 6, 7, 8, 9, 10, 3, 5, 9, 2, 4, 10, 1, 2, 3, 4, 6, 8, 10, 1, 7, 5, 8, 1, 6, 9, 10, 10, 1, 2, 3, 4, 5, 6, 7, 8, 9, 10, 5, 8, 7, 4, 3, 7, 2, 1, 2, 3, 4, 6, 7, 9, 4, 6, 4, 5, 7, 1, 2, 4, 5, 6, 8, 10, 5, 1, 1, 2, 3, 4, 5, 6, 7, 8, 9, 10, 1, 2, 3, 4, 8, 1, 2, 3, 4, 5, 6, 7, 8, 9, 10, 1, 2, 3, 4, 5, 6, 7, 8, 10, 2, 1, 4, 10, 1, 1, 1, 2, 3, 4, 5, 6, 7, 8, 9, 10, 5, 3, 2, 7, 1, 2, 3, 8, 2, 3, 8, 9, 10, 8, 1, 2, 3, 4, 6, 7, 9, 10, 9, 3, 7, 10, 1, 2, 3, 4, 5, 6, 7, 8, 10, 1, 3, 4, 5, 6, 9, 10, 2, 10, 6, 7, 1, 2, 3, 5, 7, 9, 10, 2, 8, 9, 1, 2, 3, 4, 5, 6, 7, 8, 9, 10, 6, 3, 7, 10, 4, 7, 9, 2, 3, 5, 9, 1, 2, 3, 4, 5, 6, 7, 8, 9, 10, 4, 5, 9, 1, 1, 2, 3, 4, 5, 6, 7, 8, 9, 10, 10, 6, 4, 5, 1, 1, 2, 3, 4, 5, 6, 7, 8, 9, 10, 8, 3, 7, 7, 3, 6, 7, 8, 6, 2, 7, 3, 4, 5, 6, 8, 7, 5, 7, 1, 2, 3, 4, 6, 8, 9, 6, 3, 4, 5, 8, 5, 1, 2, 4, 5, 7, 8, 10, 3, 3, 5, 1, 2, 4, 5, 6, 7, 9, 1, 2, 3, 4, 5, 6, 7, 2, 3, 5, 7, 8, 9, 1, 2, 3, 4, 5, 6, 7, 8, 9, 10, 1, 3, 4, 2, 5, 6, 7, 4, 5, 8, 9, 5, 7, 1, 2, 3, 4, 5, 6, 7, 8, 9, 10, 1, 2, 3, 4, 5, 6, 8, 9, 9, 1, 2, 3, 4, 5, 6, 7, 8, 9, 8, 1, 2, 3, 4, 5, 6, 7, 8, 9, 10, 5, 2, 4, 5, 6, 9, 10, 3, 3, 1, 2, 3, 5, 6, 8, 9, 4, 7, 1, 4, 6, 4, 1, 2, 3, 4, 5, 10, 1, 2, 3, 4, 7, 8, 9, 10, 1, 2, 3, 4, 5, 7, 8, 9, 10, 9, 5, 1, 2, 3, 4, 5, 6, 7, 8, 9, 10, 1, 2, 3, 4, 5, 6, 7, 8, 9, 10, 1, 2, 3, 4, 5, 6, 7, 8, 9, 10, 2, 3, 1, 3, 5, 9, 10, 2, 10, 1, 3, 4, 5, 6, 7, 8, 9, 1, 4, 5, 6, 9, 1, 3, 9, 1, 2, 3, 4, 5, 6, 7, 8, 9, 10, 9, 7, 10, 3, 3, 6, 1, 4, 5, 7, 8, 9, 7, 9, 4, 2, 4, 9, 1, 2, 3, 4, 5, 8, 9, 1, 2, 3, 4, 5, 6, 7, 8, 9, 10, 1, 2, 3, 4, 5, 6, 8, 9, 10, 1, 2, 3, 4, 5, 7, 8, 9, 3, 10, 1, 4, 1, 2, 3, 5, 6, 8, 9, 2, 3, 6, 7, 8, 10, 2, 2, 3, 8, 1, 2, 3, 4, 5, 6, 9, 10, 4, 5, 10, 1, 2, 6, 8, 10, 1, 2, 3, 4, 5, 6, 7, 8, 9, 10, 6, 1, 2, 4, 5, 6, 7, 8, 9, 10, 2, 3, 8, 10, 1, 5, 1, 2, 3, 4, 5, 6, 7, 8, 9, 10, 1, 2, 3, 4, 5, 6, 7, 8, 9, 10, 1, 2, 3, 4, 5, 6, 7, 8, 10, 1, 2, 1, 2, 3, 4, 5, 6, 7, 8, 9, 10, 1, 3, 8, 2, 1, 2, 3, 4, 5, 6, 7, 8, 9, 10, 1, 3, 9, 10, 8, 1, 3, 4, 1, 2, 3, 4, 5, 7, 8, 9, 10, 5, 8, 9, 2, 2, 3, 4, 5, 7, 8, 1, 2, 3, 4, 5, 6, 7, 8, 9, 10, 8, 1, 2, 3, 4, 5, 6, 7, 8, 10, 1, 2, 3, 4, 5, 6, 7, 8, 9, 10, 1, 2, 3, 4, 5, 6, 7, 8, 9, 10, 1, 2, 5, 9, 2, 1, 2, 3, 4, 5, 6, 7, 9, 10, 1, 2, 4, 5, 6, 8, 9, 10, 1, 5, 3, 9, 1, 2, 4, 5, 6, 7, 8, 9, 10, 10, 1, 2, 3, 4, 5, 6, 7, 8, 10, 1, 2, 3, 4, 1, 5, 1, 2, 3, 4, 5, 6, 8, 9, 10, 1, 2, 4, 7, 9, 1, 3, 4, 8, 9, 10, 2, 3, 1, 2, 3, 4, 5, 6, 7, 1, 2, 3, 4, 5, 7, 8, 2, 3, 4, 5, 6, 7, 8, 9, 6, 1, 4, 5, 7, 9, 1, 1, 2, 3, 4, 5, 6, 7, 9, 4, 6, 1, 2, 3, 4, 5, 6, 7, 8, 9, 10, 2, 1, 3, 6, 1, 2, 3, 4, 5, 6, 7, 8, 9, 10, 1, 4, 5, 1, 3, 5, 6, 7, 8, 9, 10, 2, 8, 10, 1, 2, 3, 4, 5, 6, 7, 8, 9, 10, 1, 2, 3, 4, 6, 7, 8, 9, 10, 1, 3, 5, 1, 2, 3, 4, 5, 6, 7, 8, 9, 10, 3, 1, 2, 3, 4, 5, 6, 7, 8, 9, 10, 1, 1, 2, 5, 7, 8, 9, 2, 6, 1, 2, 3, 4, 5, 6, 7, 8, 9, 10, 1, 3, 4, 5, 6, 7, 8, 9, 4, 4, 9, 8, 6, 7, 2, 6, 8, 9, 1, 10, 1, 2, 4, 10, 5, 1, 2, 3, 4, 5, 6, 7, 8, 9, 10, 3, 4, 8, 1, 2, 3, 4, 5, 6, 7, 8, 9, 10, 1, 2, 3, 4, 5, 6, 7, 8, 9, 10, 1, 8, 2, 3, 4, 6, 8, 10, 10, 1, 6, 7, 1, 2, 3, 4, 5, 7, 8, 9, 10, 7, 2, 3, 6, 7, 10, 1, 2, 9, 10, 6, 5, 6, 3, 6, 7, 8, 3, 4, 9, 6, 2, 3, 1, 1, 2, 3, 4, 5, 6, 7, 8, 9, 5, 7, 6, 7, 8, 2, 6, 1, 4, 8, 1, 3, 4, 5, 6, 8, 10, 1, 2, 8, 6, 8, 1, 5, 5, 5, 8, 4, 3, 3, 8, 2, 4, 6, 2, 3, 4, 7, 6, 2, 3, 4, 10, 1, 2, 3, 5, 9, 10, 5, 1, 3, 7, 9, 2, 10, 7, 10, 4, 5, 8, 2, 7, 8, 9, 1, 4, 5, 7, 8, 8, 1, 2, 3, 5, 6, 7, 8, 9, 10, 4, 1, 2, 4, 5, 7, 8, 9, 10, 6, 9, 1, 7, 10, 9, 2, 9, 3, 3, 4, 10, 5, 5, 4, 1, 3, 4, 5, 6, 7, 9, 10, 6, 5, 6, 8, 9, 1, 2, 4, 5, 6, 7, 9, 10, 8, 1, 3, 6, 9, 7, 5, 2, 3, 4, 5, 6, 7, 8, 9, 10, 1, 2, 3, 4, 5, 6, 7, 8, 9, 10, 9, 9, 4, 4, 4, 1, 1, 2, 3, 4, 5, 6, 7, 8, 9, 10, 7, 8, 1, 3, 5, 7, 9, 1, 2, 3, 4, 5, 6, 7, 8, 9, 1, 2, 3, 4, 5, 6, 7, 8, 9, 10, 1, 2, 3, 4, 5, 6, 7, 8, 10, 1, 5, 5, 10, 1, 2, 3, 4, 5, 6, 7, 8, 9, 10, 9, 9, 1, 2, 5, 1, 2, 3, 4, 5, 6, 7, 9, 1, 6, 7, 9, 10, 3, 2, 1, 2, 3, 4, 5, 6, 7, 8, 9, 10, 1, 5, 4, 10, 2, 5, 6, 8, 10, 1, 4, 9, 1, 1, 2, 3, 4, 6, 7, 8, 9, 10, 2, 4, 5, 6, 8, 2, 5, 7, 9, 1, 1, 2, 3, 4, 5, 6, 7, 8, 9, 10, 1, 3, 5, 6, 8, 9, 3, 4, 9, 2, 3, 7, 7, 1, 4, 3, 8, 7, 8, 7, 1, 2, 3, 4, 5, 6, 7, 8, 9, 10, 2, 6, 9, 3, 4, 5, 1, 2, 3, 5, 6, 1, 2, 3, 4, 5, 8, 9, 10, 5, 9, 9, 1, 2, 3, 4, 6, 9, 10, 1, 2, 3, 4, 5, 7, 8, 10, 8, 8, 9, 4, 1, 9, 1, 3, 9, 5, 7, 7, 8, 1, 2, 3, 4, 5, 6, 7, 8, 9, 1, 2, 3, 4, 5, 6, 7, 8, 9, 10, 1, 2, 3, 4, 5, 6, 7, 9, 10, 5, 1, 2, 3, 5, 6, 7, 8, 9, 10, 6, 1, 2, 3, 4, 5, 6, 7, 8, 9, 4, 6, 7, 10, 5, 7, 6, 2, 3, 6, 8, 9, 2, 4, 10, 8, 2, 3, 4, 7, 8, 8, 2, 4, 2, 4, 7, 10, 5, 2, 10, 1, 2, 4, 5, 8, 9, 1, 2, 3, 4, 7, 9, 10, 10, 7, 3, 6, 7, 10, 6, 2, 9, 6, 7, 9, 2, 3, 6, 1, 4, 5, 9, 1, 1, 3, 1, 2, 3, 4, 5, 6, 7, 8, 9, 10, 3, 6, 7, 1, 2, 3, 4, 5, 6, 7, 8, 9, 10, 1, 2, 3, 4, 5, 6, 7, 8, 9, 10, 1, 2, 3, 4, 5, 8, 9, 1, 2, 3, 4, 5, 6, 9, 10, 2, 6, 2, 4, 5, 6, 7, 1, 2, 3, 4, 5, 6, 7, 8, 9, 10, 2, 9, 1, 5, 6, 8, 9, 10, 1, 2, 3, 4, 5, 6, 7, 8, 9, 10, 1, 2, 3, 4, 5, 6, 8, 9, 1, 2, 3, 6, 9, 10, 1, 4, 6, 7, 8, 10, 5, 2, 7, 10, 9, 10, 8, 6, 1, 2, 3, 4, 6, 8, 7, 1, 2, 3, 4, 5, 6, 7, 8, 9, 1, 2, 4, 5, 8, 9, 10, 2, 7, 1, 2, 2, 2, 4, 6, 8, 9, 3, 8, 9, 1, 2, 3, 4, 5, 6, 7, 8, 9, 10, 4, 9, 3, 10, 8, 3, 1, 4, 6, 9, 1, 2, 3, 5, 6, 7, 8, 10, 6, 8, 2, 6, 5, 9, 1, 3, 4, 5, 6, 7, 8, 9, 1, 2, 3, 4, 6, 7, 8, 9, 10, 7, 2, 6, 7, 2, 4, 6, 3, 1, 2, 3, 4, 5, 6, 7, 8, 9, 10, 4, 5, 10, 1, 2, 4, 5, 6, 7, 8, 9, 10, 1, 2, 3, 4, 5, 6, 7, 8, 10, 1, 3, 9, 10, 2, 3, 4, 5, 6, 9, 10, 1, 1, 3, 7, 8, 1, 2, 3, 4, 5, 6, 7, 8, 9, 10, 1, 2, 3, 4, 5, 6, 7, 8, 9, 10, 2, 5, 6, 8, 10, 1, 3, 4, 5, 7, 10, 1, 2, 3, 4, 5, 6, 7, 8, 9, 10, 1, 2, 3, 4, 5, 6, 7, 8, 9, 4, 7, 6, 1, 2, 3, 4, 5, 6, 7, 8, 9, 10, 4, 10, 4, 3, 7, 4, 6, 8, 5, 1, 3, 5, 6, 1, 2, 3, 4, 5, 6, 7, 8, 10, 1, 4, 6, 8, 1, 2, 3, 4, 5, 6, 7, 8, 9, 10, 1, 2, 3, 4, 5, 6, 7, 8, 9, 4, 3, 4, 7, 8, 10], \"Freq\": [0.9699130561555507, 0.9703325046174417, 0.01748732557536008, 0.9618029066448044, 0.28781412484843893, 0.03597676560605487, 0.01199225520201829, 0.6475817809089877, 0.18996388148529117, 0.6603506356393455, 0.0180917982366944, 0.0995048903018192, 0.0180917982366944, 0.0090458991183472, 0.08364116800962113, 0.06273087600721584, 0.8364116800962114, 0.9600394599835581, 0.02341559658496483, 0.9624448926449941, 0.9463306884353474, 0.030526796401140237, 0.9684094741169526, 0.027668842117627216, 0.9664489939230453, 0.022217918714623985, 0.9553705047288312, 0.02437705104738194, 0.9507049908478956, 0.9469402068697949, 0.023673505171744873, 0.9498982686046095, 0.9672517660054445, 0.9517535579333563, 0.027992751703922243, 0.34286694640706067, 0.16871230696220446, 0.0054423324826517565, 0.03265399489591054, 0.446271263577444, 0.9548171310527211, 0.9851560824876716, 0.9803015427807833, 0.022346318954895916, 0.770948003943909, 0.0782121163421357, 0.12290475425192754, 0.9496675359008111, 0.975572367537188, 0.9662745623455054, 0.9841584262036237, 0.9068715618065626, 0.07817858291435885, 0.029693976360126287, 0.9502072435240412, 0.981889579152146, 0.07071244560249448, 0.03535622280124724, 0.883905570031181, 0.9439698362776044, 0.059558294088234556, 0.423525646849668, 0.4897015291699286, 0.006617588232026062, 0.02647035292810425, 0.031652954691480724, 0.9495886407444216, 0.9596908377394705, 0.9614637798427387, 0.15571338400228854, 0.0061064072157760215, 0.22593706698371277, 0.1465537731786245, 0.13128775513918445, 0.05495766494198419, 0.24730949223892887, 0.021372425255216074, 0.009159610823664031, 0.05932802271857501, 0.9195843521379128, 0.9572850190953921, 0.9625628532796969, 0.9508554997531719, 0.9855483177255574, 0.8700232025583091, 0.12269557984796667, 0.9680408388077348, 0.9663008906341632, 0.02179237606543492, 0.029056501420579896, 0.02179237606543492, 0.03632062677572487, 0.02179237606543492, 0.14528250710289947, 0.007264125355144974, 0.007264125355144974, 0.7118842848042074, 0.9686141731369379, 0.16133978720970907, 0.08657256874667316, 0.2479123559563822, 0.08263745198546074, 0.019675583806062078, 0.019675583806062078, 0.04722140113454899, 0.011805350283637248, 0.3187444576582057, 0.9712583512399285, 0.015922268053113583, 0.027369885238706305, 0.9579459833547207, 0.09671980512814884, 0.06908557509153489, 0.7737584410251908, 0.05526846007322791, 0.27219992000937904, 0.01701249500058619, 0.6379685625219821, 0.07655622750263785, 0.0649635218709827, 0.9094893061937577, 0.010827253645163782, 0.9459469479368015, 0.04729734739684007, 0.9819955162040971, 0.9783019895575084, 0.8168443293372962, 0.015708544794948005, 0.03141708958989601, 0.12566835835958404, 0.9379515225046859, 0.0260542089584635, 0.983677639765048, 0.9634013149252407, 0.07636888315337705, 0.012728147192229507, 0.06364073596114754, 0.8400577146871475, 0.03645178335113815, 0.012150594450379384, 0.0729035667022763, 0.17010832230531137, 0.6925838836716248, 0.9310884950507768, 0.025164553920291266, 0.18303783304112514, 0.7550310612946411, 0.011439864565070321, 0.011439864565070321, 0.011439864565070321, 0.03431959369521096, 0.06390300919237094, 0.033053280616743584, 0.25561203676948374, 0.12560246634362562, 0.12780601838474187, 0.008814208164464956, 0.09254918572688205, 0.11017760205581195, 0.15865574696036921, 0.019831968370046152, 0.04541969118504121, 0.9311036692933449, 0.17403048844549873, 0.8121422794123274, 0.9674114776902337, 0.07599143505547352, 0.13678458309985236, 0.77511263756583, 0.9507952088246416, 0.11101403280365849, 0.02561862295469042, 0.042697704924484034, 0.1280931147734521, 0.02561862295469042, 0.08539540984896807, 0.5892283279578796, 0.9725138858725183, 0.256043085339631, 0.059438573382414345, 0.10973275085984187, 0.3383426484845124, 0.06401077133490775, 0.009144395904986823, 0.06401077133490775, 0.06858296928740117, 0.032005385667453874, 0.15609026425048556, 0.823021393320742, 0.9603604828356261, 0.9530498699913827, 0.10876839881322937, 0.09245313899124498, 0.05438419940661469, 0.05438419940661469, 0.10876839881322937, 0.11964523869455232, 0.03263051964396881, 0.4078814955496102, 0.016315259821984406, 0.14302941471539793, 0.8402978114529628, 0.9707349467750052, 0.9231228634792306, 0.05430134491054297, 0.010547574557461066, 0.18282462566265845, 0.03515858185820355, 0.13008675287535312, 0.20391977477758058, 0.059769589158946035, 0.26368936393652664, 0.10195988738879029, 0.017579290929101776, 0.9622121184657653, 0.03490405998853663, 0.9598616496847573, 0.06144780847328555, 0.19799849396947566, 0.7168910988549981, 0.020482602824428518, 0.9868283730186064, 0.18539519905535778, 0.11228159942789274, 0.039167999800427705, 0.013055999933475901, 0.3316223983102879, 0.15406079921501564, 0.06266879968068433, 0.04439039977381806, 0.02872319985364698, 0.02872319985364698, 0.1044379113605829, 0.6892902149798471, 0.19843203158510753, 0.031193477657168497, 0.9358043297150549, 0.1569378541957329, 0.04185009445219544, 0.6068263695568339, 0.1569378541957329, 0.031387570839146575, 0.9862778153401859, 0.9432165627912671, 0.09627263754786802, 0.8857082654403858, 0.9850073164525947, 0.974091016485661, 0.9728016300600889, 0.963605354816266, 0.9778050289844887, 0.9809044281911345, 0.9758551490580009, 0.9554060793789688, 0.16164965017092395, 0.26438698339066674, 0.1314750488056848, 0.02442705824805073, 0.004310657337891305, 0.1566205499433841, 0.03161148714453624, 0.06250453139942393, 0.025863944027347832, 0.13794103481252176, 0.9662465680529372, 0.03179830684563219, 0.9539492053689657, 0.24017815651402605, 0.028256253707532476, 0.7346625963958444, 0.9813561534674908, 0.9113962877156706, 0.04445835549832539, 0.022229177749162696, 0.13697582072901895, 0.8389769019652411, 0.9793285907832202, 0.9833794397208644, 0.9675563385031003, 0.12301877422360372, 0.10764142744565325, 0.06150938711180186, 0.7073579517857214, 0.9867024835246492, 0.9722608277820728, 0.9777569583549937, 0.9695465561613891, 0.9525493497310167, 0.1148608243440095, 0.0689164946064057, 0.1378329892128114, 0.6776788636296561, 0.9602728770255381, 0.8756049252358915, 0.01435417910222773, 0.04306253730668319, 0.07177089551113865, 0.11305973274754325, 0.08592539688813287, 0.5291195492585024, 0.17637318308616748, 0.04070150378911557, 0.01356716792970519, 0.00452238930990173, 0.02713433585941038, 0.00452238930990173, 0.00904477861980346, 0.03993569322371783, 0.958456637369228, 0.15131811986727337, 0.13044665505799427, 0.044351862719718055, 0.09653052474291576, 0.19697444913757137, 0.09000819199001606, 0.12261985575451462, 0.11870645610277479, 0.04826526237145788, 0.0057978165499579905, 0.046382532399663924, 0.0057978165499579905, 0.034786899299747945, 0.02898908274978995, 0.8058965004441606, 0.06957379859949589, 0.12997264532240285, 0.20927798823098764, 0.05507315479762833, 0.017623409535241066, 0.198263357271462, 0.13437849770621313, 0.06388485956524886, 0.0022029261919051333, 0.18724872631193631, 0.9747021417753193, 0.9835953491303472, 0.9913031734840753, 0.14688043741179074, 0.06854420412550234, 0.6462739246118793, 0.12729637909021865, 0.9552824502897581, 0.1668645289211056, 0.018540503213456176, 0.018540503213456176, 0.8157821413920717, 0.14633864888352474, 0.8414472310802672, 0.9717205032068134, 0.970723376626579, 0.041604760658265176, 0.5963349027684675, 0.04853888743464271, 0.08320952131653035, 0.04853888743464271, 0.13868253552755058, 0.05547301421102023, 0.9841487381772563, 0.021476550095678205, 0.9664447543055192, 0.30359472891189815, 0.02759952081017256, 0.14719744432092033, 0.5151910551232212, 0.917342675150479, 0.07056482116542145, 0.9710171598906335, 0.9757907961700506, 0.9629603278055744, 0.0176949857977322, 0.2713231155652271, 0.06488161459168473, 0.6370194887183592, 0.005898328599244067, 0.013842841029083262, 0.030454250263983178, 0.09966845540939949, 0.3488395939328982, 0.16611409234899915, 0.04706565949888309, 0.09413131899776618, 0.0055371364116333045, 0.19103120620134903, 0.0027685682058166522, 0.9610960798103647, 0.026697113328065687, 0.9678260769687831, 0.9518346093290455, 0.018304511717866262, 0.036609023435732524, 0.009102031199495311, 0.31857109198233585, 0.1425984887920932, 0.2518228631860369, 0.009102031199495311, 0.26699291518519574, 0.00303401039983177, 0.9646621861541368, 0.9735922720020812, 0.020560660221432537, 0.9457903701858967, 0.8785475704837138, 0.032538798906804216, 0.04880819836020633, 0.04880819836020633, 0.9471414176715461, 0.08311004105176127, 0.2949065972804432, 0.2841827210156998, 0.10991973171361974, 0.021447752529486778, 0.0509384122575311, 0.07774810291938958, 0.048257443191345256, 0.0053619381323716945, 0.024128721595672628, 0.9689306205424829, 0.9588388235830033, 0.9765064420729147, 0.9765061624517076, 0.01650429107970959, 0.9737531737028658, 0.9806728109429884, 0.04384351568069125, 0.12787692073534948, 0.18268131533621357, 0.20460307317655918, 0.04018988937396698, 0.08403340505465824, 0.3178654886850116, 0.9806752157749903, 0.9846181402735453, 0.023100147244359166, 0.0693004417330775, 0.8778055952856484, 0.007289085676774474, 0.1676489705658129, 0.11662537082839158, 0.5175250830509877, 0.18222714191936185, 0.9808673824084301, 0.9478762267440657, 0.9720715511114514, 0.9773101608310014, 0.16804550541405686, 0.34729404452238416, 0.13303602511946166, 0.042011376353514214, 0.054614789259568475, 0.002800758423567614, 0.06301706453027132, 0.10082730324843411, 0.05041365162421706, 0.03781023871816279, 0.068750391615932, 0.09166718882124265, 0.5729199301327665, 0.16041758043717463, 0.1069450536247831, 0.2632189724363229, 0.11406155472240659, 0.05045030305029522, 0.07896569173089688, 0.08115918316786623, 0.04606332017635651, 0.04606332017635651, 0.14257694340300825, 0.04167633730241779, 0.13599646909210017, 0.32924760347144105, 0.25935146418700106, 0.014714976691461053, 0.04782367424724843, 0.05885990676584421, 0.12507730187741894, 0.09012923223519895, 0.005518116259297895, 0.07173551137087264, 0.9697020156573598, 0.9661084716629612, 0.016101807861049353, 0.9600398791665828, 0.9835571781827707, 0.980954815534139, 0.054047812487528844, 0.11393863173046621, 0.17236869928455145, 0.16214343746258653, 0.04674405404326819, 0.0029215033777042617, 0.0759590878203108, 0.2994540962146868, 0.0613515709317895, 0.008764510133112786, 0.9837988787142212, 0.9779873454315448, 0.9692418269510451, 0.9842485218845212, 0.015058344997234935, 0.045175034991704804, 0.06023337998893974, 0.8583256648423913, 0.040273659969551845, 0.1342455332318395, 0.013424553323183949, 0.8054731993910369, 0.9535536726870114, 0.969323898809269, 0.297971651637034, 0.10496728637213697, 0.03724645645462925, 0.4537295604473017, 0.003386041495875386, 0.006772082991750772, 0.006772082991750772, 0.09142312038863543, 0.961979608325115, 0.055041585351659955, 0.8806653656265593, 0.055041585351659955, 0.16616549455603832, 0.44449269793740254, 0.016616549455603834, 0.03738723627510862, 0.012462412091702874, 0.004154137363900958, 0.09139102200582108, 0.004154137363900958, 0.2284775550145527, 0.13823309630635292, 0.5795156729766333, 0.005316657550244343, 0.12228312365561989, 0.005316657550244343, 0.07974986325366513, 0.06911654815317646, 0.21397100696567473, 0.770295625076429, 0.9383381487932778, 0.02469310917877047, 0.11767826456672077, 0.007354891535420048, 0.04412934921252029, 0.154452722243821, 0.603101105904444, 0.05148424074794034, 0.022064674606260146, 0.020735347145813467, 0.9538259687074194, 0.020735347145813467, 0.15375926554726743, 0.17647370250311376, 0.14327567925995374, 0.01572537943097053, 0.1415284148787348, 0.05241793143656844, 0.05241793143656844, 0.12230850668532636, 0.1205612423041074, 0.020967172574627376, 0.9635649527915476, 0.01618487252171062, 0.12947898017368495, 0.8416133711289522, 0.9596869428773098, 0.26615932547377363, 0.7201958218702109, 0.8405192305706933, 0.11767269227989706, 0.016810384611413865, 0.016810384611413865, 0.05082276423615896, 0.007818886805562917, 0.23065716076410606, 0.28929881180582795, 0.14464940590291397, 0.13683051909735106, 0.0664605378472848, 0.007818886805562917, 0.0469133208333775, 0.007818886805562917, 0.964485146218881, 0.029226822612693364, 0.9785368168933987, 0.9613586137255556, 0.1582478085344046, 0.10220170967846964, 0.40221318002494505, 0.08242073361166907, 0.10714695369516979, 0.03791353746136777, 0.032968293444667625, 0.07253024557826877, 0.0032968293444667627, 0.0032968293444667627, 0.9641205159020274, 0.9868022810540468, 0.01742883389860569, 0.9585858644233131, 0.9767328012288781, 0.0373904718471886, 0.11751291151973559, 0.032048975869018795, 0.056085707770782894, 0.016024487934509397, 0.008012243967254699, 0.06142720374895269, 0.49408837798070643, 0.026707479890848998, 0.1495618873887544, 0.9664280753778902, 0.962477989221205, 0.9740062667208284, 0.9531869801083587, 0.02253592105579826, 0.19155532897428518, 0.6648096711460486, 0.11267960527899129, 0.9684068474244101, 0.977006675119845, 0.9783774349222183, 0.026685665262847873, 0.827255623148284, 0.013342832631423936, 0.10674266105139149, 0.013342832631423936, 0.9537999690049009, 0.028951864134662678, 0.9554115164438683, 0.03277099797078923, 0.06554199594157846, 0.09831299391236768, 0.09012024441967037, 0.016385498985394615, 0.6799982078938764, 0.008192749492697307, 0.9779934207771501, 0.07956145168183364, 0.03978072584091682, 0.05967108876137523, 0.825450061199024, 0.9736421838599759, 0.6548942142736741, 0.032744710713683706, 0.1473511982115767, 0.11460648749789297, 0.008186177678420926, 0.008186177678420926, 0.032744710713683706, 0.9814271284912817, 0.9608123470161896, 0.024636214026056143, 0.2164677638343516, 0.018422788411434177, 0.036845576822868355, 0.21186206673149305, 0.3776671624344006, 0.04605697102858544, 0.09211394205717088, 0.0739682797208163, 0.1087768819423769, 0.0739682797208163, 0.20885161332936364, 0.36549032332638637, 0.10442580666468182, 0.06526612916542614, 0.0672782483666977, 0.026911299346679077, 0.699693783013656, 0.013455649673339539, 0.053822598693358155, 0.1345564967333954, 0.13806853936269245, 0.07248598316541353, 0.06558255619727892, 0.05177570226100967, 0.2140062360121733, 0.23471651691657716, 0.031065421356605803, 0.04142056180880774, 0.02071028090440387, 0.13116511239455783, 0.019015546162973785, 0.1331088231408165, 0.8366840311708467, 0.021950463966699287, 0.92191948660137, 0.021950463966699287, 0.021950463966699287, 0.8711978103195346, 0.06575077813732337, 0.032875389068661685, 0.9467820522253061, 0.35861731596388985, 0.635264959707462, 0.0448040044443106, 0.0448040044443106, 0.14561301444400943, 0.018668335185129416, 0.10640951055523766, 0.319228531665713, 0.005600500555538825, 0.1624145161106259, 0.07840700777754354, 0.07280650722200471, 0.04478516656458949, 0.019193642813395494, 0.6141965700286558, 0.24951735657414142, 0.03198940468899249, 0.006397880937798498, 0.03198940468899249, 0.006397880937798498, 0.9642925338889559, 0.25976633324508613, 0.06604228811315749, 0.18271699711306905, 0.03522255366035066, 0.1078690705848239, 0.11447329939613965, 0.07044510732070132, 0.11007048018859582, 0.05283383049052599, 0.9819574708000821, 0.08614783905080269, 0.3224390547330043, 0.08122510539075682, 0.13291380882123843, 0.017229567810160537, 0.007384100490068802, 0.02461366830022934, 0.21906164787204113, 0.014768200980137603, 0.0935319395408715, 0.9548204418259951, 0.1588969614804499, 0.11216256104502347, 0.1588969614804499, 0.5421190450509468, 0.009346880087085289, 0.009346880087085289, 0.9826594844758555, 0.9665704756270272, 0.06760011155982744, 0.01126668525997124, 0.5858676335185045, 0.13520022311965488, 0.01126668525997124, 0.16336693626958296, 0.028166713149928097, 0.21039806356014457, 0.7714595663871968, 0.10176524448390574, 0.797161081790595, 0.08480437040325478, 0.9778554998729312, 0.06868790507888732, 0.6044535646942084, 0.1053214544542939, 0.0641087114069615, 0.128217422813923, 0.03205435570348075, 0.1677084436198371, 0.17500011508156915, 0.047395864501258315, 0.047395864501258315, 0.05468753596299036, 0.05833337169385639, 0.07656255034818651, 0.3755210802792005, 0.07341890084553183, 0.3361812828190142, 0.35550204619941733, 0.05796229014120935, 0.06182644281728997, 0.019320763380403116, 0.03477737408472561, 0.0502339847890481, 0.007728305352161246, 0.9491797242966082, 0.9533133961820075, 0.038134131342364104, 0.06746807852879803, 0.0850684468406584, 0.16133670952538662, 0.07626826268472821, 0.07626826268472821, 0.31387323489484303, 0.017600368311860355, 0.15546992008809982, 0.008800184155930178, 0.08755796303888369, 0.11532024400243218, 0.23704716822722172, 0.14094696489186156, 0.1580314454848145, 0.08115128281652635, 0.01922004066707203, 0.0021355600741191144, 0.1580314454848145, 0.0021355600741191144, 0.19299499354364846, 0.031219778367354897, 0.08230668842302655, 0.019867131688316754, 0.09649749677182423, 0.04257242504639304, 0.14474624515773635, 0.21853844857148427, 0.07663036508350747, 0.09933565844158376, 0.9683263450668439, 0.9637629824510989, 0.1690993520431139, 0.8173135348750505, 0.8508201373579467, 0.13797083308507244, 0.9649301506736371, 0.25875936988680814, 0.7269906106343658, 0.009530596269935474, 0.019061192539870948, 0.009530596269935474, 0.028591788809806423, 0.6480805463556122, 0.24779550301832232, 0.009530596269935474, 0.028591788809806423, 0.2762674345681854, 0.01726671466051159, 0.06906685864204636, 0.5698015837968824, 0.06043350131179055, 0.07663038527595313, 0.8538814359320491, 0.04378879158625893, 0.30296697126208083, 0.11747698885672521, 0.08347049208241002, 0.015457498533779633, 0.03400649677431519, 0.1051109900297015, 0.058738494428362605, 0.07419599296214224, 0.10201949032294558, 0.10820248973645744, 0.9695717446643525, 0.9815267500851428, 0.9837460233835785, 0.9717504269496688, 0.9653996962445783, 0.017552721749901426, 0.2965450570011578, 0.014827252850057891, 0.051895384975202616, 0.13344527565052103, 0.037068132125144725, 0.4596448383517946, 0.953872241928213, 0.9848982006600395, 0.9578075921550423, 0.9829238376046057, 0.9852725771138635, 0.9603135230689511, 0.9377385652539936, 0.04808915719251249, 0.9571650101172866, 0.014026652670060164, 0.1542931793706618, 0.1542931793706618, 0.6592526754928277, 0.003953713141304059, 0.43886215868475054, 0.05930569711956088, 0.03558341827173653, 0.015814852565216236, 0.15024109936955424, 0.04349084455434465, 0.015814852565216236, 0.20954679648911512, 0.03162970513043247, 0.038645199878701436, 0.07213770644024269, 0.0025763466585800956, 0.03606885322012134, 0.3065852523710314, 0.20095503936924747, 0.16746253280770623, 0.11335925297752421, 0.0644086664645024, 0.05899900226361087, 0.19845118943214568, 0.016090636980984785, 0.026817728301641305, 0.10190736754623697, 0.010727091320656523, 0.18772409811148916, 0.39690237886429136, 0.9778210479494783, 0.01746109014195497, 0.9720365750780616, 0.9692504809231648, 0.07128972486336384, 0.00594081040528032, 0.2910997098587357, 0.4871464532329863, 0.00594081040528032, 0.06534891445808352, 0.06534891445808352, 0.06433418602415311, 0.12866837204830622, 0.056292412771133976, 0.1608354650603828, 0.4825063951811484, 0.10454305228924882, 0.9801956242149922, 0.9453711464195536, 0.023342497442458112, 0.011671248721229056, 0.15060973833323094, 0.09127862929286723, 0.48377673525219633, 0.059331109040363705, 0.10497042368679732, 0.018255725858573445, 0.09127862929286723, 0.004563931464643361, 0.015576358399221337, 0.8566997119571735, 0.1246108671937707, 0.21240057993268302, 0.2308701955790033, 0.018469615646320263, 0.027704423469480394, 0.49867962245064706, 0.2575285809564661, 0.03552118358020222, 0.01480049315841759, 0.2693689754832001, 0.18648621379606162, 0.05624187400198684, 0.11840394526734072, 0.01776059179010111, 0.023680789053468144, 0.01480049315841759, 0.9837877469357146, 0.26229646863891853, 0.03065802880195152, 0.0034064476446612796, 0.16350948694374143, 0.4087737173593536, 0.013625790578645118, 0.04087737173593536, 0.0170322382233064, 0.057909609959241756, 0.018646698724848507, 0.9509816349672738, 0.9469746158755912, 0.029592956746112224, 0.9746260141707236, 0.9922885253255748, 0.199646046593326, 0.2617581499779163, 0.017746315252740088, 0.026619472879110134, 0.04436578813185022, 0.035492630505480176, 0.08577385705491043, 0.12866078558236566, 0.04732350734064024, 0.15232253925268577, 0.019395476400866266, 0.19395476400866266, 0.0609572115455797, 0.1302267701201021, 0.14685146417798745, 0.013853911714904476, 0.27153666961212775, 0.10806051137625491, 0.04710329983067522, 0.008312347028942686, 0.12585739539127166, 0.021487847993631747, 0.3760373398885556, 0.12892708796179048, 0.1765073228048322, 0.07674231426297053, 0.0445105422725229, 0.03223177199044762, 0.016883309137853516, 0.20921852298571977, 0.7810824858133538, 0.30694428105135585, 0.061040055890894625, 0.05580805110024652, 0.17440015968827036, 0.12033611018490656, 0.05057604630959841, 0.12382411337867195, 0.05057604630959841, 0.036624033534536776, 0.01918401756570974, 0.01121560730333214, 0.1121560730333214, 0.874817369659907, 0.9749888432160947, 0.019657682007777864, 0.17155795206787955, 0.16977089006717247, 0.055398922021919435, 0.22874393609050606, 0.03574124001414157, 0.09471428603747517, 0.055398922021919435, 0.07684366603040438, 0.09292722403676809, 0.18083914380930194, 0.12765116033597784, 0.6595309950692189, 0.03191279008399446, 0.9742048834410391, 0.06398473309257456, 0.04265648872838304, 0.8744580189318523, 0.035523435362990026, 0.42628122435588034, 0.020299105921708586, 0.07865903544662077, 0.012686941201067867, 0.0050747764804271464, 0.327323082987551, 0.00761216472064072, 0.08119642368683434, 0.06819785359691767, 0.8638394788942906, 0.06819785359691767, 0.9844520093332992, 0.06114640091765885, 0.015286600229414712, 0.030573200458829424, 0.07643300114707356, 0.7796166117001504, 0.030573200458829424, 0.08218224394326651, 0.2549326750893165, 0.11404882832943107, 0.06876473472803932, 0.015094697867130583, 0.18113637440556699, 0.06373316877232912, 0.07715067798755632, 0.06876473472803932, 0.07044192337994272, 0.9593176229072935, 0.16530554169999362, 0.3363112744930905, 0.008550286639654844, 0.0399013376517226, 0.06555219757068713, 0.10545353522240973, 0.07695257975689358, 0.042751433198274215, 0.1596053506068904, 0.17076448455412, 0.06879720241029294, 0.0995102392006023, 0.08231093859802906, 0.24938985873731193, 0.08108241712641669, 0.12285214716123741, 0.0712542453535177, 0.030713036790309352, 0.024570429432247482, 0.06836491656592812, 0.1709122914148203, 0.1068201821342627, 0.05981930199518711, 0.10254737484889219, 0.012818421856111524, 0.134593429489171, 0.11536579670500371, 0.14954825498796778, 0.0790469347793544, 0.01431934515407442, 0.02863869030814884, 0.7446059480118699, 0.2147901773111163, 0.981179968783035, 0.4470934461031467, 0.11714238762527861, 0.05661882068555133, 0.029285596906319652, 0.0039047462541759535, 0.021476104397967745, 0.12104713387945457, 0.11519001449819063, 0.08590441759187098, 0.37871546734267386, 0.022497948555010326, 0.059994529480027536, 0.1274883751450585, 0.03749658092501721, 0.026247606647512047, 0.16498495607007574, 0.1762339303475809, 0.9509886538250425, 0.031179955863116147, 0.13450782784650142, 0.8294649383867587, 0.039604917643270975, 0.2904360627173205, 0.2693134399742426, 0.13201639214423658, 0.01848229490019312, 0.07128885175788775, 0.06336786822923356, 0.08449049097231141, 0.02904360627173205, 0.9479655725888289, 0.25833428968448674, 0.25508480176392717, 0.07473822217287038, 0.03899385504671498, 0.009748463761678745, 0.11210733325930557, 0.029245391285036233, 0.05524129464951289, 0.16897337186909825, 0.011623985247584692, 0.011623985247584692, 0.9182948345591907, 0.04649594099033877, 0.9607242297044176, 0.9835726736725336, 0.16900117233374798, 0.3556591835680368, 0.09332900561714441, 0.045403300029962144, 0.03026886668664143, 0.11350825007490536, 0.13368749453266632, 0.005044811114440238, 0.0529705167016225, 0.23105645865488691, 0.03675898205873201, 0.00525128315124743, 0.04201026520997944, 0.6826668096621659, 0.036246812166333485, 0.09424171163246706, 0.08699234919920036, 0.10874043649900046, 0.10149107406573375, 0.5726996322280691, 0.021830870920760984, 0.9387274495927224, 0.10859627845957599, 0.040723604422341, 0.027149069614893998, 0.203618022111705, 0.081447208844682, 0.067872674037235, 0.46832145085692145, 0.026581582984647724, 0.4891011269175181, 0.0478468493723659, 0.05847948256622499, 0.05847948256622499, 0.3136626792188431, 0.005316316596929545, 0.09027555626634046, 0.09027555626634046, 0.06620207459531634, 0.06620207459531634, 0.07222044501307237, 0.16249600127941283, 0.07222044501307237, 0.3791573363186299, 0.9760461626756151, 0.20052986020196142, 0.4698128153303096, 0.223447558510757, 0.09740021781238127, 0.0057294245771988975, 0.9625042359884409, 0.005622250803257207, 0.0843337620488581, 0.680292347194122, 0.12368951767165855, 0.028111254016286034, 0.011244501606514414, 0.03935575562280045, 0.028111254016286034, 0.014019412302382033, 0.9813588611667423, 0.33631326432076464, 0.04257129928110945, 0.08088546863410795, 0.0702426438138306, 0.07237120877788607, 0.17241376208849327, 0.13409959273549477, 0.059599818993553225, 0.00851425985622189, 0.023414214604610198, 0.9558796351308853, 0.013661922126889499, 0.9563345488822649, 0.013661922126889499, 0.18490765435068124, 0.16672001621782734, 0.11670401135247914, 0.0015156365110711577, 0.1106414653081945, 0.07426618904248672, 0.054562914398561674, 0.0394065492878501, 0.1652043797067562, 0.08487564461998483, 0.07835556063908736, 0.02938333523965776, 0.8815000571897327, 0.07840827448572213, 0.012380253866166653, 0.01650700515488887, 0.012380253866166653, 0.04952101546466661, 0.34252035696394406, 0.03714076159849996, 0.4456891391819995, 0.9338908492859536, 0.041506259968264604, 0.9579265526055254, 0.1590211647932099, 0.1743116614079416, 0.07033628442776592, 0.018348595937678066, 0.06727818510481957, 0.061161986458926884, 0.11620777427196108, 0.12232397291785377, 0.024464794583570752, 0.18960215802267333, 0.29903818202185245, 0.05606965912909733, 0.06354561367964365, 0.33267997749931083, 0.11587729553346783, 0.022427863651638933, 0.022427863651638933, 0.07475954550546311, 0.011213931825819467, 0.8969106242618355, 0.03660859690864635, 0.054912895362969526, 0.21826186585548932, 0.29610351032143306, 0.001526306754234191, 0.018315681050810294, 0.10531516604215918, 0.10378885928792499, 0.07936795122017794, 0.03968397561008897, 0.054947043152430874, 0.0854731782371147, 0.9475065276948956, 0.05771003393673178, 0.17972553426010757, 0.06430546638664399, 0.11212235164850747, 0.21764927084710273, 0.09728262863620502, 0.16323695313532705, 0.04946574337434153, 0.008244290562390255, 0.04946574337434153, 0.977949056083338, 0.21429583327781215, 0.10714791663890608, 0.05357395831945304, 0.180812109328154, 0.040180468739589775, 0.40180468739589775, 0.0636271269439126, 0.9119888195294141, 0.038108169605988354, 0.15243267842395342, 0.017321895275449254, 0.048501306771257906, 0.013857516220359401, 0.44690489810659073, 0.05196568582634776, 0.11432450881796506, 0.03464379055089851, 0.08314509732215641, 0.25128878415546757, 0.058895808786437714, 0.027484710767004268, 0.10993884306801707, 0.011779161757287543, 0.2473623969030384, 0.023558323514575086, 0.2709207204176135, 0.9783383554011615, 0.9825802906830775, 0.9598530506428132, 0.9813871634093284, 0.02926365738628486, 0.9657006937474004, 0.21416361568540865, 0.7424338677094167, 0.028555148758054486, 0.943921051297345, 0.019238946957935, 0.9427084009388149, 0.05325150223555308, 0.18933867461529985, 0.05325150223555308, 0.6981863626439182, 0.9577303578541474, 0.13086837194628334, 0.09659332215082816, 0.0856876244886379, 0.18228094663946606, 0.2149980396260369, 0.04206483383987678, 0.08412966767975356, 0.04673870426652976, 0.09036149491529087, 0.024927308942149205, 0.024873192115998446, 0.9203081082919425, 0.04974638423199689, 0.37328197312349776, 0.06445999535884576, 0.16935398780642208, 0.0685619950634996, 0.07852399434623031, 0.08028199421965337, 0.07207799481034573, 0.039261997173115154, 0.053911996118307375, 0.0005859999578076889, 0.03478528564233432, 0.019877306081333895, 0.1739264282116716, 0.009938653040666948, 0.1341718160490038, 0.1540491221303377, 0.10435585692700294, 0.004969326520333474, 0.3577915094640101, 0.004969326520333474, 0.9265680601474812, 0.04028556783249918, 0.14870579611751067, 0.6741329423993817, 0.049568598705836894, 0.049568598705836894, 0.009913719741167379, 0.06939603818817165, 0.9571525895324385, 0.9928091348990852, 0.9821225544399378, 0.9470239835164288, 0.3224454121937185, 0.04277337100528918, 0.019741555848595008, 0.09541751993487586, 0.1546421874806609, 0.22373763295074342, 0.019741555848595008, 0.07567596408628086, 0.04606363031338835, 0.9739123808417635, 0.9728472455075302, 0.9095018431881657, 0.04134099287218935, 0.020670496436094674, 0.020670496436094674, 0.013218477495809514, 0.25115107242038076, 0.7005793072779043, 0.02643695499161903, 0.9755810388657968, 0.048302775901511455, 0.9419041300794733, 0.9839614709049648, 0.9642688932585053, 0.031300814237603385, 0.9390244271281016, 0.021883913473423576, 0.9410082793572139, 0.021883913473423576, 0.9635748287374235, 0.10523498467557818, 0.8869805851227304, 0.9669183107551084, 0.08745582389674131, 0.28423142766440923, 0.13118373584511195, 0.15304769181929728, 0.060733211039403684, 0.1287544074035358, 0.0024293284415761473, 0.004858656883152295, 0.148189034936145, 0.02894729886851173, 0.9552608626608872, 0.25122392534281834, 0.7257580065459196, 0.00930458982751179, 0.9798220066535506, 0.9655355310499059, 0.016304158091010584, 0.016304158091010584, 0.9619453273696243, 0.9720854777529685, 0.13363745796003149, 0.01027980445846396, 0.16447687133542335, 0.6373478764247655, 0.0513990222923198, 0.9504080325418789, 0.9662916285822971, 0.016660200492798226, 0.016660200492798226, 0.955091832979107, 0.9785807229971625, 0.9801877616271641, 0.015558535898843874, 0.989792683106491, 0.9764453639417581, 0.967717802686532, 0.9555728814669232, 0.9761253932953888, 0.9815342965074861, 0.9723417566977448, 0.01664302742061515, 0.01664302742061515, 0.9486525629750636, 0.9873868048674914, 0.9624696665795792, 0.7954654482886556, 0.1948078648870177, 0.9632755036121388, 0.12491230481060299, 0.031228076202650747, 0.8223393400031364, 0.010409358734216915, 0.17285464102898532, 0.19642572844202877, 0.007857029137681151, 0.06285623310144921, 0.023571087413043455, 0.5342779813623183, 0.9681650275944931, 0.033517678745964806, 0.05027651811894721, 0.8044242899031554, 0.10055303623789442, 0.9870545877794578, 0.9694037564725188, 0.09663138268169535, 0.8696824441352582, 0.026176922265370085, 0.9685461238186932, 0.9740032297600698, 0.04011462093766856, 0.7755493381282588, 0.013371540312556187, 0.14708694343811804, 0.05324888874599542, 0.04141580235799644, 0.627153578563946, 0.04141580235799644, 0.23074518456598017, 0.9740526925274228, 0.1085081469511227, 0.11421910205381336, 0.08566432654036002, 0.011421910205381336, 0.38263399188027475, 0.011421910205381336, 0.09708623674574135, 0.011421910205381336, 0.17132865308072004, 0.9894026379226516, 0.03662446187935552, 0.07324892375871105, 0.5768352745998495, 0.045780577349194405, 0.05493669281903329, 0.03662446187935552, 0.10987338563806658, 0.07324892375871105, 0.038083907011631384, 0.9330557217849688, 0.9668623778740711, 0.9802920557565068, 0.9829056090540843, 0.9771506651553169, 0.9884348761093622, 0.9625230134296681, 0.9784041564178193, 0.9808205626434716, 0.05919642878762173, 0.9175446462081367, 0.9511824184417983, 0.947873106217739, 0.9804620562932211, 0.09873086400120522, 0.007594681846246555, 0.5923851840072313, 0.01518936369249311, 0.1518936369249311, 0.053162772923725884, 0.03037872738498622, 0.045568091077479334, 0.9819217772814134, 0.041975472471351694, 0.01399182415711723, 0.7555585044843305, 0.19588553819964125, 0.05783377763233711, 0.022243760627821966, 0.004448752125564393, 0.022243760627821966, 0.1957450935248333, 0.18239883714814012, 0.3825926827985378, 0.1334625637669318, 0.9666364850716282, 0.020794534412263834, 0.9149595141396086, 0.020794534412263834, 0.04158906882452767, 0.955919330751808, 0.9790555274559557, 0.06638833604368383, 0.5532361336973652, 0.0811412996089469, 0.13277667208736765, 0.03688240891315768, 0.014752963565263073, 0.02212944534789461, 0.08851778139157844, 0.007376481782631537, 0.12866471175072028, 0.07398220925666416, 0.0932819160192722, 0.054682502494056116, 0.17369736086347237, 0.07398220925666416, 0.30557869040796065, 0.006433235587536014, 0.08363206263796817, 0.00964985338130402, 0.9526702256463981, 0.9583081771083338, 0.973895548650716, 0.9499050691800487, 0.9726211362853695, 0.9827712476517323, 0.14533651443140216, 0.04567719024986926, 0.15087314355259845, 0.02491483104538323, 0.09965932418153292, 0.2712948269386174, 0.0027683145605981365, 0.004152471840897205, 0.11903752610571988, 0.13841572802990684, 0.028389153385729372, 0.9368420617290693, 0.22626258475841216, 0.12670704746471081, 0.03620201356134595, 0.5973332237622081, 0.009050503390336487, 0.08651569284581978, 0.21628923211454945, 0.10453979552203223, 0.21268441157930695, 0.14419282140969963, 0.0198265129438337, 0.03785061562004615, 0.08291087231057728, 0.09733015445154725, 0.27255148138906315, 0.07467163873672963, 0.048536565178874266, 0.02240149162101889, 0.15867723231555048, 0.1512100684418775, 0.001866790968418241, 0.05227014711571074, 0.06907126583147491, 0.14560969553662279, 0.023987828737007527, 0.010280498030146084, 0.34611010034825146, 0.003426832676715361, 0.20903679327963703, 0.1507806377754759, 0.23987828737007527, 0.010280498030146084, 0.003426832676715361, 0.014511054093879414, 0.9722406242899206, 0.9842850272757894, 0.9377790866381003, 0.1483945715986981, 0.1361977574946955, 0.060984070520012916, 0.08741050107868518, 0.0731808846240155, 0.272395514989391, 0.16465699040403486, 0.05082005876667743, 0.006098407052001291, 0.002032802350667097, 0.9671424101692093, 0.9553415895556847, 0.040721693161049094, 0.9230250449837796, 0.0271477954406994, 0.3750745225895078, 0.08264353887565426, 0.2002516518910084, 0.03814317178876351, 0.07628634357752702, 0.04132176943782713, 0.09535792947190877, 0.08582213652471789, 0.03512212271383641, 0.01170737423794547, 0.7375645769905647, 0.10536636814150924, 0.10536636814150924, 0.9879930412784771, 0.978006348773877, 0.06827861238343536, 0.017701862469779533, 0.04804791241797302, 0.0050576749913655815, 0.11379768730572558, 0.10621117481867721, 0.0809227998618493, 0.03793256243524186, 0.1947204871675749, 0.32622003694308, 0.9885256417622631, 0.964914947991278, 0.9705251853145155, 0.9775656501309197, 0.01792558323807266, 0.8066512457132697, 0.03585116647614532, 0.14340466590458129, 0.9811050023045236, 0.03448398577166627, 0.9483096087208223, 0.96040397448584, 0.9634433860875856, 0.044134938277336215, 0.10592385186560692, 0.33542553090775523, 0.09709686421013967, 0.022067469138668108, 0.2692231234917509, 0.08826987655467243, 0.013240481483200865, 0.022067469138668108, 0.06274855851972382, 0.7738988884099269, 0.12549711703944763, 0.02091618617324127, 0.010458093086620634, 0.0830001517720225, 0.13833358628670417, 0.760834724576873, 0.013833358628670417, 0.987486214420095, 0.1787798017168352, 0.2206218829697115, 0.011411476705329906, 0.10270329034796914, 0.08748798807419594, 0.007607651136886604, 0.27767926649636104, 0.01901912784221651, 0.08748798807419594, 0.007607651136886604, 0.21163736040944295, 0.01840324873125591, 0.19323411167818705, 0.5428958375720493, 0.009201624365627955, 0.01840324873125591, 0.1879893219339295, 0.7961900693672308, 0.011058195407878207, 0.05120893620288205, 0.025604468101441024, 0.9217608516518769, 0.9783872536958126, 0.9705606367908164, 0.014272950541041418, 0.9610513035879065, 0.01922102607175813, 0.960722876130298, 0.9585640255804766, 0.9800647816511545, 0.11380915241628645, 0.08535686431221483, 0.1666491160381337, 0.41865509638848225, 0.05690457620814322, 0.048775351035551334, 0.05690457620814322, 0.020323062931479723, 0.012193837758887834, 0.020323062931479723, 0.9659505459382717, 0.013415979804698218, 0.9530753837590981, 0.02296497035039742, 0.9415637843662942, 0.02296497035039742, 0.09078512693947005, 0.7444380409036544, 0.009078512693947004, 0.03631405077578802, 0.10894215232736405, 0.12042233617122695, 0.3576178468115225, 0.04014077872374232, 0.036491617021583926, 0.10582568936259337, 0.1350189829798605, 0.08393071914964302, 0.11677317446906856, 0.8821561742681008, 0.09939787879077193, 0.9492625406497108, 0.022728606220004742, 0.27274327464005693, 0.030304808293339657, 0.022728606220004742, 0.015152404146669829, 0.621248570013463, 0.015152404146669829, 0.2058924405507424, 0.02495665946069605, 0.0062391648651740125, 0.012478329730348025, 0.0062391648651740125, 0.03743498919104407, 0.5428073432701391, 0.16221828649452433, 0.9555397479248113, 0.9533600085189905, 0.018333846317672896, 0.9626971331038011, 0.0456140926797958, 0.9350888999358138, 0.935560626693224, 0.02563179799159518, 0.02563179799159518, 0.9658695522938018, 0.9810634571348235, 0.962001247690728, 0.9495984397556437, 0.09076032249505546, 0.0170175604678229, 0.0170175604678229, 0.5388894148143918, 0.07374276202723257, 0.0680702418712916, 0.05672520155940966, 0.05672520155940966, 0.08508780233911449, 0.013403540468508907, 0.13595019618059034, 0.18190519207262087, 0.07850645131555217, 0.1110579067390738, 0.0976543662705649, 0.20679748151413743, 0.019147914955012724, 0.07467686832454963, 0.08233603430655471, 0.013889016963858806, 0.10185279106829792, 0.39815181963061913, 0.24074296070688597, 0.06018574017672149, 0.018518689285145076, 0.0879637741044391, 0.0740747571405803, 0.004629672321286269, 0.9684959883760083, 0.046206884800759296, 0.4833951025310203, 0.11729439987885051, 0.18838191495694173, 0.03554375753904561, 0.031989381785141054, 0.007108751507809122, 0.056870012062472976, 0.031989381785141054, 0.9816924737452397, 0.016058727220337375, 0.004014681805084344, 0.08029363610168688, 0.24891027191522933, 0.04014681805084344, 0.08832299971185556, 0.06824959068643384, 0.0642349088813495, 0.38942413509318136, 0.044389921584048496, 0.11097480396012124, 0.13316976475214548, 0.6991412649487638, 0.8915027822467889, 0.09905586469408766, 0.9868251737853845, 0.1484344169778829, 0.8071121423172384, 0.009277151061117681, 0.009277151061117681, 0.018554302122235362, 0.8878690742528623, 0.061944354017641555, 0.02064811800588052, 0.9671664786954941, 0.14756028696191306, 0.06810474782857526, 0.11350791304762542, 0.6583458956762275, 0.011350791304762542, 0.9669083795457721, 0.9685037462722126, 0.9528873862355776, 0.985893731208233, 0.979399384380732, 0.03226554094683127, 0.9357006874581069, 0.9867007712783411, 0.028417457708124736, 0.9377761043681163, 0.10014431313669721, 0.7121373378609579, 0.022254291808154934, 0.12239860494485215, 0.011127145904077467, 0.033381437712232405, 0.1514764423831286, 0.009467277648945538, 0.08047186001603707, 0.08520549884050985, 0.14674280355865585, 0.17514463650549245, 0.3502892730109849, 0.9649288700768709, 0.9582345268084789, 0.013600492288179902, 0.04080147686453971, 0.19040689203451863, 0.7480270758498946, 0.9718485212167494, 0.042870639794024966, 0.9431540754685492, 0.16300866038885192, 0.08629870255880397, 0.7383333441142117, 0.9108400693806905, 0.01980087107349327, 0.059402613220479815, 0.5794469175487843, 0.3186958046518314, 0.007243086469359805, 0.08691703763231765, 0.9831984040000044, 0.9770166122871387, 0.02505170800736253, 0.10282235133700686, 0.28342058381354457, 0.03295588183878425, 0.00922764691485959, 0.13973293899644523, 0.18323470302364042, 0.1542335270055103, 0.06195705785691439, 0.02109176437682192, 0.00922764691485959, 0.18089719859061265, 0.7931646399742247, 0.013915169122354819, 0.10609600917002188, 0.10609600917002188, 0.1636909855766052, 0.03637577457257893, 0.06668892004972804, 0.12125258190859643, 0.05456366185886839, 0.13337784009945608, 0.20309807469689903, 0.009093943643144732, 0.2340795078910296, 0.43823907868320583, 0.05103989269804405, 0.05631988159784171, 0.017599962999325536, 0.014079970399460427, 0.019359959299258087, 0.08095982979689746, 0.08095982979689746, 0.008799981499662768, 0.161114725984693, 0.017417808214561407, 0.17417808214561406, 0.026126712321842112, 0.322229451969386, 0.09579794518008775, 0.20465924652109654, 0.015958967787266725, 0.00638358711490669, 0.35109729131986794, 0.028726142017080104, 0.035109729131986796, 0.39578240112421476, 0.1627814714301206, 0.003191793557453345, 0.9903046045961768, 0.9884871141786271, 0.11125043942254063, 0.010113676311140058, 0.27306926040078155, 0.010113676311140058, 0.5967069023572634, 0.04194282988183964, 0.10855791263534965, 0.037008379307505564, 0.03454115402033853, 0.0024672252871670375, 0.12089403907118484, 0.10115623677384854, 0.31087038618304674, 0.09868901148668151, 0.14309906665568817, 0.9283070990780958, 0.0598907805856836, 0.10250735668118002, 0.21707440238367534, 0.04823875608526119, 0.48841740536326955, 0.04823875608526119, 0.09044766765986473, 0.2724683682498719, 0.1610541771841348, 0.08824886421048483, 0.1312701855130962, 0.10810485865784392, 0.09817686143416438, 0.03529954568419393, 0.048536875315766656, 0.04412443210524242, 0.013237329631572724, 0.05206910018555691, 0.12149456709963279, 0.3384491512061199, 0.07810365027833537, 0.3558055179346389, 0.013017275046389228, 0.03471273345703794, 0.008678183364259484, 0.05683536500730565, 0.13261585168371318, 0.7388597450949734, 0.00947256083455094, 0.06630792584185659, 0.9837733287430269, 0.06414724507346614, 0.4009202817091634, 0.2245153577571315, 0.016036811268366535, 0.1977873389765206, 0.09622086761019921, 0.961479262892959, 0.9800477019731494, 0.9723331745763276, 0.9374084983485749, 0.1711005676557297, 0.7984693157267386, 0.982383880052096, 0.9622450949178216, 0.10185225784568337, 0.029100645098766677, 0.12610279542798894, 0.4510599990308835, 0.014550322549383338, 0.27160602092182234, 0.9627034171972845, 0.039965028630993785, 0.04206845119051977, 0.21454910107165084, 0.25030728458359264, 0.11989508589298135, 0.10306770541677344, 0.09675743773819548, 0.01472395791668192, 0.11779166333345537, 0.12207506284761722, 0.020345843807936203, 0.010172921903968101, 0.22380428188729823, 0.030518765711904306, 0.5900294704301499, 0.010172921903968101, 0.8493691795102785, 0.13067218146311976, 0.9644469711246326, 0.9833382119821025, 0.9713679380400563, 0.8662304179898229, 0.0412490675233249, 0.0824981350466498, 0.013749689174441634, 0.979698772470079, 0.9616642047939237, 0.9804930239995273, 0.9608739127074909, 0.11260289914089924, 0.055964315141884054, 0.12676254514065305, 0.1321566959977021, 0.057312852856146325, 0.1200198565693417, 0.23599409999589663, 0.11395143685516151, 0.022250872285327395, 0.022925141142458527, 0.10532945910781896, 0.8637015646841155, 0.9889182945461803, 0.9750212282284054, 0.958942882629203, 0.9760466635558086, 0.9651067917035792, 0.04563755696644605, 0.022818778483223025, 0.912751139328921, 0.23251081935663312, 0.2433252760708951, 0.09192288207122704, 0.01892529924995851, 0.01622168507139301, 0.005407228357131003, 0.16762407907106108, 0.2243999768209366, 0.96227758237446, 0.021869945053965, 0.9601024221548472, 0.9823191171038759, 0.9540416441519903, 0.9754096630774924, 0.07697471298015088, 0.3681399316441999, 0.10040179953932724, 0.07362798632883998, 0.0836681662827727, 0.13721579270374723, 0.026773813210487264, 0.13721579270374723, 0.011175967687098727, 0.122935644558086, 0.14808157185405815, 0.1424935880105088, 0.32130907100408845, 0.053085846513718955, 0.022351935374197454, 0.09778971726211387, 0.0782317738096911, 0.9790990049314698, 0.9750607518884584, 0.057499368964988876, 0.919989903439822, 0.0272445135980532, 0.23157836558345218, 0.7219796103484097, 0.9663167051191348, 0.02520004571071784, 0.07560013713215352, 0.07101831063929573, 0.04810917817500678, 0.08018196362501132, 0.17410940672859598, 0.03894552518929121, 0.05040009142143568, 0.2153458451643161, 0.2199276716571739, 0.9328484652867305, 0.045504803184718556, 0.9761953010745674, 0.06952054766210207, 0.3444427134167784, 0.1042808214931531, 0.06320049787463825, 0.06952054766210207, 0.2338418421361615, 0.09796077170568927, 0.0031600248937319123, 0.009480074681195737, 0.16462012935667247, 0.1671143737408645, 0.30928630363980886, 0.04988488768384014, 0.0673445983731842, 0.009976977536768029, 0.0024942443841920073, 0.2095165282721286, 0.019953955073536058, 0.16649673232940465, 0.7835140344913161, 0.00979392543114145, 0.02938177629342435, 0.15487063621041688, 0.16620263398191082, 0.2493039509728662, 0.09065598217195135, 0.022663995542987838, 0.3021866072398378, 0.011331997771493919, 0.9731377420290066, 0.4335370083429902, 0.005938863127986167, 0.023755452511944667, 0.534497681518755, 0.08368296537415712, 0.1642665616603825, 0.10227917990174759, 0.21075709797935868, 0.14567034713279203, 0.03099369087931745, 0.15496845439658727, 0.003099369087931745, 0.04958990540690792, 0.05268927449483967, 0.14369586447935198, 0.15139385721931728, 0.023093978219895856, 0.08211192255962971, 0.03848996369982643, 0.10520590077952556, 0.08211192255962971, 0.08980991529959499, 0.11290389351949084, 0.1719218378592247, 0.8764929094030562, 0.019334402413302712, 0.006444800804434238, 0.038668804826605424, 0.06444800804434238, 0.17729314700521645, 0.5762027277669535, 0.059097715668405486, 0.07387214458550687, 0.1034210024197096, 0.007387214458550686, 0.34941046009929433, 0.16815378392278538, 0.021838153756205896, 0.07643353814672063, 0.019654338380585307, 0.12010984565913242, 0.0414924921367912, 0.06769827664423828, 0.021838153756205896, 0.11355839953227065, 0.08512625475525429, 0.5987213251119552, 0.08796379658042944, 0.014187709125875716, 0.06526346197902828, 0.07377608745455372, 0.00851262547552543, 0.05675083650350286, 0.011350167300700572, 0.05448054612475209, 0.8989290110584095, 0.9725766366822413, 0.1350998212934355, 0.28916102101401986, 0.02765201020625873, 0.08216597318431165, 0.030022182509652336, 0.14063022333468725, 0.026861952771794196, 0.017381263558219773, 0.05056367580573025, 0.20146464578845646, 0.1034426676533441, 0.8792626750534249, 0.9613154622449714, 0.01875809256016865, 0.9754208131287699, 0.060115063328737804, 0.9217643043739796, 0.0200383544429126, 0.9813089925040123, 0.2073838725370427, 0.010369193626852137, 0.010369193626852137, 0.7673203283870581, 0.14148545719701525, 0.006431157145318875, 0.1972221524564455, 0.10718595242198126, 0.05573669525943025, 0.036443223823473626, 0.18435983816580775, 0.22509050008616063, 0.045018100017232124, 0.259514831291747, 0.01038059325166988, 0.7058803411135518, 0.02076118650333976, 0.23667029835263562, 0.38702554671783945, 0.13504128788356268, 0.02645138628647104, 0.02645138628647104, 0.06404019837777199, 0.06682455482897948, 0.020882673384056086, 0.01252960403043365, 0.0250592080608673, 0.13612007547421376, 0.07424731389502567, 0.09899641852670091, 0.016499403087783485, 0.03299880617556697, 0.04124850771945871, 0.11137097084253852, 0.33823776329956146, 0.14849462779005135, 0.9586339192733712, 0.17185469794998906, 0.5327495636449661, 0.042963674487497265, 0.21481837243748633, 0.03437093958999781], \"Term\": [\"accompany\", \"accustomed\", \"acquaintance\", \"acquaintance\", \"act\", \"act\", \"act\", \"act\", \"action\", \"action\", \"action\", \"action\", \"action\", \"action\", \"actually\", \"actually\", \"actually\", \"acute\", \"acute\", \"add\", \"admit\", \"admit\", \"advance\", \"advance\", \"advantage\", \"agreed\", \"agreed\", \"ah\", \"ah\", \"ahead\", \"ahead\", \"aint\", \"allow\", \"alteration\", \"alteration\", \"always\", \"always\", \"always\", \"always\", \"always\", \"amusement\", \"ancestor\", \"anxious\", \"anything\", \"anything\", \"anything\", \"anything\", \"apparatus\", \"appetite\", \"approaching\", \"army\", \"article\", \"article\", \"artificial\", \"artificial\", \"aside\", \"ask\", \"ask\", \"ask\", \"attachment\", \"attention\", \"attention\", \"attention\", \"attention\", \"attention\", \"authority\", \"authority\", \"autumn\", \"awaken\", \"back\", \"back\", \"back\", \"back\", \"back\", \"back\", \"back\", \"back\", \"back\", \"bad\", \"bad\", \"bade\", \"bandage\", \"bare\", \"beat\", \"beautiful\", \"beautiful\", \"bell\", \"benefit\", \"best\", \"best\", \"best\", \"best\", \"best\", \"best\", \"best\", \"best\", \"best\", \"bestow\", \"beyond\", \"beyond\", \"beyond\", \"beyond\", \"beyond\", \"beyond\", \"beyond\", \"beyond\", \"beyond\", \"big\", \"big\", \"block\", \"block\", \"bottom\", \"bottom\", \"bottom\", \"bottom\", \"box\", \"box\", \"box\", \"box\", \"boy\", \"boy\", \"boy\", \"break\", \"break\", \"breaking\", \"breast\", \"breath\", \"breath\", \"breath\", \"breath\", \"breeze\", \"breeze\", \"bridge\", \"brilliant\", \"brother\", \"brother\", \"brother\", \"brother\", \"business\", \"business\", \"business\", \"business\", \"business\", \"cabin\", \"cabin\", \"calm\", \"calm\", \"calm\", \"calm\", \"calm\", \"calm\", \"came\", \"came\", \"came\", \"came\", \"came\", \"came\", \"came\", \"came\", \"came\", \"came\", \"candle\", \"candle\", \"cant\", \"cant\", \"capable\", \"captain\", \"captain\", \"captain\", \"casual\", \"cause\", \"cause\", \"cause\", \"cause\", \"cause\", \"cause\", \"cause\", \"cellar\", \"certain\", \"certain\", \"certain\", \"certain\", \"certain\", \"certain\", \"certain\", \"certain\", \"certain\", \"chair\", \"chair\", \"chaos\", \"chapter\", \"character\", \"character\", \"character\", \"character\", \"character\", \"character\", \"character\", \"character\", \"character\", \"charge\", \"charge\", \"chess\", \"church\", \"church\", \"city\", \"city\", \"city\", \"city\", \"city\", \"city\", \"city\", \"city\", \"city\", \"claw\", \"clock\", \"clock\", \"close\", \"close\", \"close\", \"close\", \"closely\", \"come\", \"come\", \"come\", \"come\", \"come\", \"come\", \"come\", \"come\", \"come\", \"come\", \"coming\", \"coming\", \"coming\", \"communication\", \"communication\", \"company\", \"company\", \"company\", \"company\", \"company\", \"compartment\", \"complaint\", \"conceive\", \"conceive\", \"conjecture\", \"consider\", \"consideration\", \"consolation\", \"constant\", \"convey\", \"convinced\", \"copy\", \"could\", \"could\", \"could\", \"could\", \"could\", \"could\", \"could\", \"could\", \"could\", \"could\", \"countryside\", \"cousin\", \"cousin\", \"covered\", \"covered\", \"covered\", \"credit\", \"crime\", \"crime\", \"crime\", \"crowd\", \"crowd\", \"crowded\", \"crowned\", \"cruel\", \"curiosity\", \"curiosity\", \"curiosity\", \"curiosity\", \"curiously\", \"cursed\", \"curtain\", \"custom\", \"customary\", \"danger\", \"danger\", \"danger\", \"danger\", \"dangerous\", \"dare\", \"dare\", \"dare\", \"dare\", \"dark\", \"dark\", \"dark\", \"dark\", \"dark\", \"dark\", \"dark\", \"dark\", \"dark\", \"dark\", \"dawn\", \"dawn\", \"day\", \"day\", \"day\", \"day\", \"day\", \"day\", \"day\", \"day\", \"day\", \"de\", \"de\", \"de\", \"de\", \"de\", \"de\", \"de\", \"death\", \"death\", \"death\", \"death\", \"death\", \"death\", \"death\", \"death\", \"death\", \"decidedly\", \"deck\", \"deeply\", \"delight\", \"delight\", \"delight\", \"delight\", \"demand\", \"departure\", \"departure\", \"departure\", \"departure\", \"descent\", \"descent\", \"desired\", \"desolation\", \"despair\", \"despair\", \"despair\", \"despair\", \"despair\", \"despair\", \"despair\", \"destiny\", \"devoted\", \"devoted\", \"die\", \"die\", \"die\", \"die\", \"direct\", \"direct\", \"distinctly\", \"doctor\", \"dollar\", \"done\", \"done\", \"done\", \"done\", \"done\", \"door\", \"door\", \"door\", \"door\", \"door\", \"door\", \"door\", \"door\", \"door\", \"door\", \"draw\", \"draw\", \"drawer\", \"dread\", \"dread\", \"dread\", \"dream\", \"dream\", \"dream\", \"dream\", \"dream\", \"dream\", \"dream\", \"due\", \"dwelling\", \"dwelt\", \"dwelt\", \"dying\", \"dying\", \"dying\", \"dying\", \"eagerly\", \"earth\", \"earth\", \"earth\", \"earth\", \"earth\", \"earth\", \"earth\", \"earth\", \"earth\", \"earth\", \"eastern\", \"elder\", \"electric\", \"em\", \"employed\", \"employed\", \"empty\", \"end\", \"end\", \"end\", \"end\", \"end\", \"end\", \"end\", \"endeavor\", \"endure\", \"engaged\", \"engaged\", \"engaged\", \"enough\", \"enough\", \"enough\", \"enough\", \"enough\", \"entity\", \"entreaty\", \"estate\", \"eve\", \"even\", \"even\", \"even\", \"even\", \"even\", \"even\", \"even\", \"even\", \"even\", \"even\", \"evening\", \"evening\", \"evening\", \"evening\", \"evening\", \"ever\", \"ever\", \"ever\", \"ever\", \"ever\", \"ever\", \"ever\", \"ever\", \"ever\", \"ever\", \"every\", \"every\", \"every\", \"every\", \"every\", \"every\", \"every\", \"every\", \"every\", \"examination\", \"example\", \"example\", \"exception\", \"experiment\", \"extended\", \"eye\", \"eye\", \"eye\", \"eye\", \"eye\", \"eye\", \"eye\", \"eye\", \"eye\", \"eye\", \"eyed\", \"fail\", \"failure\", \"faintly\", \"fair\", \"fair\", \"fair\", \"fair\", \"fallen\", \"fallen\", \"fallen\", \"fallen\", \"fat\", \"fatal\", \"father\", \"father\", \"father\", \"father\", \"father\", \"father\", \"father\", \"father\", \"fearfully\", \"feeble\", \"feeble\", \"feeble\", \"feeling\", \"feeling\", \"feeling\", \"feeling\", \"feeling\", \"feeling\", \"feeling\", \"feeling\", \"feeling\", \"fell\", \"fell\", \"fell\", \"fell\", \"fell\", \"fell\", \"fell\", \"fever\", \"fever\", \"fiend\", \"fiend\", \"figure\", \"figure\", \"figure\", \"figure\", \"figure\", \"figure\", \"figure\", \"finding\", \"finding\", \"finding\", \"first\", \"first\", \"first\", \"first\", \"first\", \"first\", \"first\", \"first\", \"first\", \"first\", \"fitted\", \"fly\", \"fly\", \"fly\", \"flying\", \"following\", \"following\", \"food\", \"food\", \"food\", \"food\", \"foot\", \"foot\", \"foot\", \"foot\", \"foot\", \"foot\", \"foot\", \"foot\", \"foot\", \"foot\", \"footstep\", \"footstep\", \"forbidden\", \"foreign\", \"found\", \"found\", \"found\", \"found\", \"found\", \"found\", \"found\", \"found\", \"found\", \"found\", \"foundation\", \"fragment\", \"frame\", \"frame\", \"frantic\", \"friend\", \"friend\", \"friend\", \"friend\", \"friend\", \"friend\", \"friend\", \"friend\", \"friend\", \"friend\", \"friendship\", \"fright\", \"fro\", \"fruit\", \"fully\", \"fully\", \"fully\", \"fully\", \"furtive\", \"garret\", \"gas\", \"gate\", \"gate\", \"gate\", \"gate\", \"gate\", \"generation\", \"geneva\", \"geneva\", \"gentle\", \"gentle\", \"gentle\", \"gentle\", \"gentle\", \"gentle\", \"gentle\", \"getting\", \"girl\", \"girl\", \"girl\", \"girl\", \"git\", \"given\", \"given\", \"given\", \"given\", \"given\", \"given\", \"given\", \"gloom\", \"gloomy\", \"gloomy\", \"go\", \"go\", \"go\", \"go\", \"go\", \"go\", \"go\", \"god\", \"god\", \"god\", \"god\", \"god\", \"god\", \"god\", \"gold\", \"gold\", \"gold\", \"gold\", \"gold\", \"gold\", \"good\", \"good\", \"good\", \"good\", \"good\", \"good\", \"good\", \"good\", \"good\", \"good\", \"grace\", \"grace\", \"grace\", \"graceful\", \"graceful\", \"graceful\", \"graceful\", \"gradually\", \"gradually\", \"gradually\", \"grand\", \"grave\", \"grave\", \"great\", \"great\", \"great\", \"great\", \"great\", \"great\", \"great\", \"great\", \"great\", \"great\", \"ground\", \"ground\", \"ground\", \"ground\", \"ground\", \"ground\", \"ground\", \"ground\", \"grow\", \"hand\", \"hand\", \"hand\", \"hand\", \"hand\", \"hand\", \"hand\", \"hand\", \"hand\", \"handed\", \"heart\", \"heart\", \"heart\", \"heart\", \"heart\", \"heart\", \"heart\", \"heart\", \"heart\", \"heart\", \"heat\", \"heavy\", \"heavy\", \"heavy\", \"heavy\", \"heavy\", \"heavy\", \"hellish\", \"highest\", \"hill\", \"hill\", \"hill\", \"hill\", \"hill\", \"hill\", \"hill\", \"history\", \"history\", \"hole\", \"hole\", \"hole\", \"holy\", \"home\", \"home\", \"home\", \"home\", \"home\", \"home\", \"hope\", \"hope\", \"hope\", \"hope\", \"hope\", \"hope\", \"hope\", \"hope\", \"horror\", \"horror\", \"horror\", \"horror\", \"horror\", \"horror\", \"horror\", \"horror\", \"horror\", \"hospital\", \"hotel\", \"hour\", \"hour\", \"hour\", \"hour\", \"hour\", \"hour\", \"hour\", \"hour\", \"hour\", \"hour\", \"house\", \"house\", \"house\", \"house\", \"house\", \"house\", \"house\", \"house\", \"house\", \"house\", \"however\", \"however\", \"however\", \"however\", \"however\", \"however\", \"however\", \"however\", \"however\", \"however\", \"hue\", \"humanity\", \"hundred\", \"hundred\", \"ice\", \"ice\", \"identity\", \"imagine\", \"imagine\", \"immediately\", \"immediately\", \"immediately\", \"immediately\", \"immediately\", \"immediately\", \"immediately\", \"immediately\", \"impossible\", \"impossible\", \"impossible\", \"impossible\", \"impossible\", \"inch\", \"inch\", \"inch\", \"indeed\", \"indeed\", \"indeed\", \"indeed\", \"indeed\", \"indeed\", \"indeed\", \"indeed\", \"indeed\", \"indeed\", \"informed\", \"ingenuity\", \"injury\", \"inspire\", \"instead\", \"instead\", \"interest\", \"interest\", \"interest\", \"interest\", \"interest\", \"interest\", \"invention\", \"investigation\", \"ivory\", \"jest\", \"join\", \"journal\", \"judge\", \"judge\", \"june\", \"key\", \"key\", \"key\", \"key\", \"knew\", \"knew\", \"knew\", \"knew\", \"knew\", \"knew\", \"knew\", \"knew\", \"knew\", \"knew\", \"know\", \"know\", \"know\", \"know\", \"know\", \"know\", \"know\", \"know\", \"know\", \"known\", \"known\", \"known\", \"known\", \"known\", \"known\", \"known\", \"known\", \"lake\", \"lake\", \"lamp\", \"lapse\", \"large\", \"large\", \"large\", \"large\", \"large\", \"large\", \"large\", \"late\", \"late\", \"late\", \"late\", \"late\", \"late\", \"laughter\", \"law\", \"law\", \"law\", \"lay\", \"lay\", \"lay\", \"lay\", \"lay\", \"lay\", \"lay\", \"lay\", \"leaf\", \"leaf\", \"leaf\", \"leave\", \"leave\", \"leave\", \"leave\", \"leave\", \"left\", \"left\", \"left\", \"left\", \"left\", \"left\", \"left\", \"left\", \"left\", \"left\", \"lest\", \"let\", \"let\", \"let\", \"let\", \"let\", \"let\", \"let\", \"let\", \"let\", \"level\", \"level\", \"liberty\", \"liberty\", \"library\", \"lid\", \"life\", \"life\", \"life\", \"life\", \"life\", \"life\", \"life\", \"life\", \"life\", \"life\", \"light\", \"light\", \"light\", \"light\", \"light\", \"light\", \"light\", \"light\", \"light\", \"light\", \"like\", \"like\", \"like\", \"like\", \"like\", \"like\", \"like\", \"like\", \"like\", \"limb\", \"limb\", \"little\", \"little\", \"little\", \"little\", \"little\", \"little\", \"little\", \"little\", \"little\", \"little\", \"live\", \"live\", \"live\", \"locked\", \"long\", \"long\", \"long\", \"long\", \"long\", \"long\", \"long\", \"long\", \"long\", \"long\", \"lord\", \"lord\", \"lord\", \"lord\", \"lot\", \"loud\", \"loud\", \"loud\", \"love\", \"love\", \"love\", \"love\", \"love\", \"love\", \"love\", \"love\", \"love\", \"lovely\", \"lovely\", \"lovely\", \"luxury\", \"machine\", \"machine\", \"machine\", \"machine\", \"machine\", \"machine\", \"made\", \"made\", \"made\", \"made\", \"made\", \"made\", \"made\", \"made\", \"made\", \"made\", \"magnificent\", \"make\", \"make\", \"make\", \"make\", \"make\", \"make\", \"make\", \"make\", \"make\", \"man\", \"man\", \"man\", \"man\", \"man\", \"man\", \"man\", \"man\", \"man\", \"man\", \"many\", \"many\", \"many\", \"many\", \"many\", \"many\", \"many\", \"many\", \"many\", \"many\", \"marble\", \"marble\", \"marble\", \"marble\", \"married\", \"may\", \"may\", \"may\", \"may\", \"may\", \"may\", \"may\", \"may\", \"may\", \"mean\", \"mean\", \"mean\", \"mean\", \"mean\", \"mean\", \"mean\", \"mean\", \"meaning\", \"meaning\", \"meeting\", \"meeting\", \"men\", \"men\", \"men\", \"men\", \"men\", \"men\", \"men\", \"men\", \"men\", \"merit\", \"might\", \"might\", \"might\", \"might\", \"might\", \"might\", \"might\", \"might\", \"might\", \"mile\", \"mile\", \"mile\", \"mile\", \"mille\", \"million\", \"mind\", \"mind\", \"mind\", \"mind\", \"mind\", \"mind\", \"mind\", \"mind\", \"mind\", \"minute\", \"minute\", \"minute\", \"minute\", \"minute\", \"misery\", \"misery\", \"misery\", \"misery\", \"misery\", \"misery\", \"monstrous\", \"monstrous\", \"month\", \"month\", \"month\", \"month\", \"month\", \"month\", \"month\", \"moon\", \"moon\", \"moon\", \"moon\", \"moon\", \"moon\", \"moon\", \"morning\", \"morning\", \"morning\", \"morning\", \"morning\", \"morning\", \"morning\", \"morning\", \"morrow\", \"mother\", \"mother\", \"mother\", \"mother\", \"mother\", \"motive\", \"mountain\", \"mountain\", \"mountain\", \"mountain\", \"mountain\", \"mountain\", \"mountain\", \"mountain\", \"move\", \"move\", \"much\", \"much\", \"much\", \"much\", \"much\", \"much\", \"much\", \"much\", \"much\", \"much\", \"multitude\", \"murder\", \"murder\", \"murder\", \"must\", \"must\", \"must\", \"must\", \"must\", \"must\", \"must\", \"must\", \"must\", \"must\", \"mystery\", \"mystery\", \"mystery\", \"name\", \"name\", \"name\", \"name\", \"name\", \"name\", \"name\", \"name\", \"nameless\", \"nameless\", \"narrative\", \"nature\", \"nature\", \"nature\", \"nature\", \"nature\", \"nature\", \"nature\", \"nature\", \"nature\", \"nature\", \"near\", \"near\", \"near\", \"near\", \"near\", \"near\", \"near\", \"near\", \"near\", \"necessity\", \"necessity\", \"necessity\", \"never\", \"never\", \"never\", \"never\", \"never\", \"never\", \"never\", \"never\", \"never\", \"never\", \"newspaper\", \"night\", \"night\", \"night\", \"night\", \"night\", \"night\", \"night\", \"night\", \"night\", \"night\", \"nightmare\", \"none\", \"none\", \"none\", \"none\", \"none\", \"none\", \"noon\", \"noon\", \"nothing\", \"nothing\", \"nothing\", \"nothing\", \"nothing\", \"nothing\", \"nothing\", \"nothing\", \"nothing\", \"nothing\", \"object\", \"object\", \"object\", \"object\", \"object\", \"object\", \"object\", \"object\", \"obliged\", \"observation\", \"observe\", \"obtain\", \"obvious\", \"obvious\", \"occasion\", \"occasion\", \"occasion\", \"occasional\", \"occupation\", \"occupation\", \"oh\", \"oh\", \"oh\", \"oh\", \"oil\", \"old\", \"old\", \"old\", \"old\", \"old\", \"old\", \"old\", \"old\", \"old\", \"old\", \"older\", \"older\", \"older\", \"one\", \"one\", \"one\", \"one\", \"one\", \"one\", \"one\", \"one\", \"one\", \"one\", \"open\", \"open\", \"open\", \"open\", \"open\", \"open\", \"open\", \"open\", \"open\", \"open\", \"operation\", \"operation\", \"order\", \"order\", \"order\", \"order\", \"order\", \"order\", \"organic\", \"original\", \"originally\", \"painter\", \"part\", \"part\", \"part\", \"part\", \"part\", \"part\", \"part\", \"part\", \"part\", \"partially\", \"particularly\", \"partly\", \"partly\", \"partly\", \"partly\", \"path\", \"path\", \"path\", \"path\", \"patience\", \"pay\", \"pay\", \"peak\", \"peasant\", \"peculiarly\", \"peculiarly\", \"permitted\", \"permitted\", \"permitted\", \"phrase\", \"physician\", \"physician\", \"pity\", \"place\", \"place\", \"place\", \"place\", \"place\", \"place\", \"place\", \"place\", \"place\", \"plainly\", \"plainly\", \"plan\", \"plan\", \"plan\", \"planet\", \"player\", \"pocket\", \"pocket\", \"pocket\", \"poet\", \"position\", \"position\", \"position\", \"position\", \"position\", \"positive\", \"possession\", \"possession\", \"possession\", \"prayer\", \"prefect\", \"prepared\", \"prepared\", \"prevent\", \"previous\", \"previously\", \"priest\", \"print\", \"prison\", \"probable\", \"proceed\", \"proceed\", \"proceed\", \"proceeding\", \"produce\", \"profound\", \"profound\", \"pronounced\", \"public\", \"public\", \"public\", \"public\", \"purpose\", \"purpose\", \"purpose\", \"purpose\", \"purpose\", \"purpose\", \"pursuit\", \"queer\", \"queer\", \"queer\", \"queer\", \"quiet\", \"quietly\", \"quitted\", \"quitted\", \"rage\", \"rage\", \"rank\", \"ray\", \"ray\", \"ray\", \"ray\", \"read\", \"read\", \"read\", \"read\", \"read\", \"readily\", \"reason\", \"reason\", \"reason\", \"reason\", \"reason\", \"reason\", \"reason\", \"reason\", \"reason\", \"receive\", \"received\", \"received\", \"received\", \"received\", \"received\", \"received\", \"received\", \"received\", \"recollection\", \"recollection\", \"reflect\", \"regular\", \"related\", \"remains\", \"repeated\", \"request\", \"resemble\", \"reserved\", \"residence\", \"residence\", \"resistance\", \"resource\", \"restless\", \"returned\", \"returned\", \"returned\", \"returned\", \"returned\", \"returned\", \"returned\", \"returned\", \"revolution\", \"rich\", \"rich\", \"rich\", \"rich\", \"right\", \"right\", \"right\", \"right\", \"right\", \"right\", \"right\", \"right\", \"rim\", \"ring\", \"ring\", \"ring\", \"ring\", \"risen\", \"rising\", \"river\", \"river\", \"river\", \"river\", \"river\", \"river\", \"river\", \"river\", \"river\", \"room\", \"room\", \"room\", \"room\", \"room\", \"room\", \"room\", \"room\", \"room\", \"room\", \"root\", \"rotting\", \"rue\", \"rule\", \"rush\", \"safe\", \"said\", \"said\", \"said\", \"said\", \"said\", \"said\", \"said\", \"said\", \"said\", \"said\", \"sank\", \"sank\", \"sat\", \"sat\", \"sat\", \"sat\", \"sat\", \"saw\", \"saw\", \"saw\", \"saw\", \"saw\", \"saw\", \"saw\", \"saw\", \"saw\", \"say\", \"say\", \"say\", \"say\", \"say\", \"say\", \"say\", \"say\", \"say\", \"say\", \"sea\", \"sea\", \"sea\", \"sea\", \"sea\", \"sea\", \"sea\", \"sea\", \"sea\", \"search\", \"search\", \"seated\", \"secure\", \"see\", \"see\", \"see\", \"see\", \"see\", \"see\", \"see\", \"see\", \"see\", \"see\", \"seeing\", \"seeking\", \"seem\", \"seem\", \"seem\", \"seen\", \"seen\", \"seen\", \"seen\", \"seen\", \"seen\", \"seen\", \"seen\", \"servant\", \"servant\", \"servant\", \"servant\", \"servant\", \"setting\", \"shake\", \"shall\", \"shall\", \"shall\", \"shall\", \"shall\", \"shall\", \"shall\", \"shall\", \"shall\", \"shall\", \"sharp\", \"shine\", \"shock\", \"shortly\", \"shoulder\", \"shoulder\", \"shoulder\", \"shoulder\", \"shrill\", \"shut\", \"shut\", \"shutter\", \"sick\", \"side\", \"side\", \"side\", \"side\", \"side\", \"side\", \"side\", \"side\", \"side\", \"silence\", \"silence\", \"silence\", \"silence\", \"silence\", \"similar\", \"similar\", \"similar\", \"similar\", \"simple\", \"since\", \"since\", \"since\", \"since\", \"since\", \"since\", \"since\", \"since\", \"since\", \"since\", \"sir\", \"sir\", \"sir\", \"sir\", \"sir\", \"sir\", \"sister\", \"sister\", \"sister\", \"sit\", \"sit\", \"sit\", \"situated\", \"size\", \"size\", \"skull\", \"skull\", \"slater\", \"slip\", \"slumber\", \"small\", \"small\", \"small\", \"small\", \"small\", \"small\", \"small\", \"small\", \"small\", \"small\", \"society\", \"society\", \"soil\", \"soldier\", \"soldier\", \"soldier\", \"sought\", \"sought\", \"sought\", \"sought\", \"sought\", \"soul\", \"soul\", \"soul\", \"soul\", \"soul\", \"soul\", \"soul\", \"soul\", \"source\", \"source\", \"southward\", \"space\", \"space\", \"space\", \"space\", \"space\", \"space\", \"space\", \"speak\", \"speak\", \"speak\", \"speak\", \"speak\", \"speak\", \"speak\", \"speak\", \"sphere\", \"spoken\", \"spoken\", \"sprang\", \"square\", \"square\", \"stand\", \"stand\", \"stand\", \"start\", \"stated\", \"steep\", \"steeple\", \"step\", \"step\", \"step\", \"step\", \"step\", \"step\", \"step\", \"step\", \"step\", \"still\", \"still\", \"still\", \"still\", \"still\", \"still\", \"still\", \"still\", \"still\", \"still\", \"stone\", \"stone\", \"stone\", \"stone\", \"stone\", \"stone\", \"stone\", \"stone\", \"stone\", \"store\", \"strange\", \"strange\", \"strange\", \"strange\", \"strange\", \"strange\", \"strange\", \"strange\", \"strange\", \"strangely\", \"street\", \"street\", \"street\", \"street\", \"street\", \"street\", \"street\", \"street\", \"street\", \"strength\", \"strength\", \"strength\", \"strength\", \"strong\", \"strong\", \"strove\", \"study\", \"study\", \"study\", \"study\", \"study\", \"substance\", \"substance\", \"substance\", \"sufferer\", \"sufficient\", \"sufficient\", \"sufficient\", \"sufficient\", \"sufficient\", \"superstition\", \"support\", \"supreme\", \"surprise\", \"surrounded\", \"suspect\", \"suspect\", \"suspicion\", \"syllable\", \"syllable\", \"sympathy\", \"sympathy\", \"sympathy\", \"sympathy\", \"sympathy\", \"sympathy\", \"take\", \"take\", \"take\", \"take\", \"take\", \"take\", \"take\", \"talent\", \"talking\", \"task\", \"task\", \"task\", \"task\", \"te\", \"teeth\", \"teeth\", \"ten\", \"ten\", \"ten\", \"theory\", \"theory\", \"theory\", \"therefore\", \"therefore\", \"therefore\", \"therefore\", \"thick\", \"thicket\", \"thicket\", \"thing\", \"thing\", \"thing\", \"thing\", \"thing\", \"thing\", \"thing\", \"thing\", \"thing\", \"thing\", \"third\", \"third\", \"third\", \"though\", \"though\", \"though\", \"though\", \"though\", \"though\", \"though\", \"though\", \"though\", \"though\", \"thought\", \"thought\", \"thought\", \"thought\", \"thought\", \"thought\", \"thought\", \"thought\", \"thought\", \"thought\", \"thousand\", \"thousand\", \"thousand\", \"thousand\", \"thousand\", \"thousand\", \"thousand\", \"three\", \"three\", \"three\", \"three\", \"three\", \"three\", \"three\", \"three\", \"throughout\", \"throw\", \"thrown\", \"thrown\", \"thrown\", \"thrown\", \"thrown\", \"thus\", \"thus\", \"thus\", \"thus\", \"thus\", \"thus\", \"thus\", \"thus\", \"thus\", \"thus\", \"thy\", \"thy\", \"till\", \"till\", \"till\", \"till\", \"till\", \"till\", \"time\", \"time\", \"time\", \"time\", \"time\", \"time\", \"time\", \"time\", \"time\", \"time\", \"told\", \"told\", \"told\", \"told\", \"told\", \"told\", \"told\", \"told\", \"top\", \"top\", \"top\", \"top\", \"top\", \"torn\", \"town\", \"town\", \"town\", \"town\", \"town\", \"town\", \"traveller\", \"treasure\", \"trembling\", \"trod\", \"truly\", \"truly\", \"trust\", \"tumult\", \"turned\", \"turned\", \"turned\", \"turned\", \"turned\", \"turned\", \"twelve\", \"two\", \"two\", \"two\", \"two\", \"two\", \"two\", \"two\", \"two\", \"two\", \"uncle\", \"uncle\", \"uncle\", \"uncle\", \"uncle\", \"uncle\", \"uncle\", \"understanding\", \"understanding\", \"undoubtedly\", \"unfortunate\", \"universal\", \"universe\", \"universe\", \"universe\", \"universe\", \"unless\", \"unseen\", \"unusual\", \"unutterable\", \"upon\", \"upon\", \"upon\", \"upon\", \"upon\", \"upon\", \"upon\", \"upon\", \"upon\", \"upon\", \"upper\", \"upper\", \"used\", \"value\", \"variation\", \"vegetation\", \"violent\", \"vivid\", \"vivid\", \"vivid\", \"voice\", \"voice\", \"voice\", \"voice\", \"voice\", \"voice\", \"voice\", \"voice\", \"volume\", \"volume\", \"wait\", \"waking\", \"walking\", \"warren\", \"water\", \"water\", \"water\", \"water\", \"water\", \"water\", \"water\", \"water\", \"way\", \"way\", \"way\", \"way\", \"way\", \"way\", \"way\", \"way\", \"way\", \"weak\", \"wealth\", \"weather\", \"weather\", \"weight\", \"weight\", \"weight\", \"weird\", \"well\", \"well\", \"well\", \"well\", \"well\", \"well\", \"well\", \"well\", \"well\", \"well\", \"wept\", \"wept\", \"whence\", \"whole\", \"whole\", \"whole\", \"whole\", \"whole\", \"whole\", \"whole\", \"whole\", \"whole\", \"whose\", \"whose\", \"whose\", \"whose\", \"whose\", \"whose\", \"whose\", \"whose\", \"whose\", \"wife\", \"wife\", \"wife\", \"wife\", \"window\", \"window\", \"window\", \"window\", \"window\", \"window\", \"window\", \"wine\", \"wish\", \"wish\", \"wish\", \"wish\", \"within\", \"within\", \"within\", \"within\", \"within\", \"within\", \"within\", \"within\", \"within\", \"within\", \"without\", \"without\", \"without\", \"without\", \"without\", \"without\", \"without\", \"without\", \"without\", \"without\", \"wonder\", \"wonder\", \"wonder\", \"wonder\", \"wonder\", \"wood\", \"wood\", \"wood\", \"wood\", \"wood\", \"wood\", \"word\", \"word\", \"word\", \"word\", \"word\", \"word\", \"word\", \"word\", \"word\", \"word\", \"world\", \"world\", \"world\", \"world\", \"world\", \"world\", \"world\", \"world\", \"world\", \"worm\", \"worm\", \"worthy\", \"would\", \"would\", \"would\", \"would\", \"would\", \"would\", \"would\", \"would\", \"would\", \"would\", \"write\", \"write\", \"writhing\", \"writing\", \"writing\", \"written\", \"written\", \"written\", \"wrote\", \"ye\", \"ye\", \"ye\", \"ye\", \"year\", \"year\", \"year\", \"year\", \"year\", \"year\", \"year\", \"year\", \"year\", \"yes\", \"yes\", \"yes\", \"yes\", \"yet\", \"yet\", \"yet\", \"yet\", \"yet\", \"yet\", \"yet\", \"yet\", \"yet\", \"yet\", \"young\", \"young\", \"young\", \"young\", \"young\", \"young\", \"young\", \"young\", \"young\", \"younger\", \"youth\", \"youth\", \"youth\", \"youth\", \"youth\"]}, \"R\": 30, \"lambda.step\": 0.01, \"plot.opts\": {\"xlab\": \"PC1\", \"ylab\": \"PC2\"}, \"topic.order\": [2, 8, 6, 7, 4, 1, 5, 9, 10, 3]};\n",
       "\n",
       "function LDAvis_load_lib(url, callback){\n",
       "  var s = document.createElement('script');\n",
       "  s.src = url;\n",
       "  s.async = true;\n",
       "  s.onreadystatechange = s.onload = callback;\n",
       "  s.onerror = function(){console.warn(\"failed to load library \" + url);};\n",
       "  document.getElementsByTagName(\"head\")[0].appendChild(s);\n",
       "}\n",
       "\n",
       "if(typeof(LDAvis) !== \"undefined\"){\n",
       "   // already loaded: just create the visualization\n",
       "   !function(LDAvis){\n",
       "       new LDAvis(\"#\" + \"ldavis_el578811401836321648967056760615\", ldavis_el578811401836321648967056760615_data);\n",
       "   }(LDAvis);\n",
       "}else if(typeof define === \"function\" && define.amd){\n",
       "   // require.js is available: use it to load d3/LDAvis\n",
       "   require.config({paths: {d3: \"https://d3js.org/d3.v5\"}});\n",
       "   require([\"d3\"], function(d3){\n",
       "      window.d3 = d3;\n",
       "      LDAvis_load_lib(\"https://cdn.jsdelivr.net/gh/bmabey/pyLDAvis@3.3.1/pyLDAvis/js/ldavis.v3.0.0.js\", function(){\n",
       "        new LDAvis(\"#\" + \"ldavis_el578811401836321648967056760615\", ldavis_el578811401836321648967056760615_data);\n",
       "      });\n",
       "    });\n",
       "}else{\n",
       "    // require.js not available: dynamically load d3 & LDAvis\n",
       "    LDAvis_load_lib(\"https://d3js.org/d3.v5.js\", function(){\n",
       "         LDAvis_load_lib(\"https://cdn.jsdelivr.net/gh/bmabey/pyLDAvis@3.3.1/pyLDAvis/js/ldavis.v3.0.0.js\", function(){\n",
       "                 new LDAvis(\"#\" + \"ldavis_el578811401836321648967056760615\", ldavis_el578811401836321648967056760615_data);\n",
       "            })\n",
       "         });\n",
       "}\n",
       "</script>"
      ],
      "text/plain": [
       "PreparedData(topic_coordinates=              x         y  topics  cluster       Freq\n",
       "topic                                                \n",
       "1      0.035932 -0.014981       1        1  13.905319\n",
       "7      0.050032  0.025259       2        1  13.484923\n",
       "5     -0.114151  0.042996       3        1  12.032406\n",
       "6     -0.099121  0.099617       4        1   9.820873\n",
       "3     -0.085082 -0.048190       5        1   9.489567\n",
       "0      0.025097 -0.125821       6        1   9.045516\n",
       "4     -0.089080 -0.064689       7        1   8.699382\n",
       "8      0.060807  0.218420       8        1   8.276233\n",
       "9     -0.046742 -0.093365       9        1   7.832292\n",
       "2      0.262308 -0.039244      10        1   7.413490, topic_info=       Term         Freq        Total Category  logprob  loglift\n",
       "144   would  1265.000000  1265.000000  Default  30.0000  30.0000\n",
       "389    upon  1483.000000  1483.000000  Default  29.0000  29.0000\n",
       "121   could  1391.000000  1391.000000  Default  28.0000  28.0000\n",
       "915  friend   374.000000   374.000000  Default  27.0000  27.0000\n",
       "376    said   722.000000   722.000000  Default  26.0000  26.0000\n",
       "..      ...          ...          ...      ...      ...      ...\n",
       "424    ever    61.525417   455.894189  Topic10  -5.5906   0.5991\n",
       "141    thus    57.626406   405.313615  Topic10  -5.6561   0.6512\n",
       "6      make    56.207852   350.865430  Topic10  -5.6810   0.7705\n",
       "198    must    56.280082   659.788803  Topic10  -5.6797   0.1403\n",
       "915  friend    56.126438   374.426941  Topic10  -5.6825   0.7041\n",
       "\n",
       "[805 rows x 6 columns], token_table=      Topic      Freq          Term\n",
       "term                               \n",
       "2048      9  0.969913     accompany\n",
       "874       8  0.970333    accustomed\n",
       "4281      2  0.017487  acquaintance\n",
       "4281      9  0.961803  acquaintance\n",
       "422       1  0.287814           act\n",
       "...     ...       ...           ...\n",
       "99        3  0.171855         youth\n",
       "99        4  0.532750         youth\n",
       "99        7  0.042964         youth\n",
       "99        8  0.214818         youth\n",
       "99       10  0.034371         youth\n",
       "\n",
       "[2256 rows x 3 columns], R=30, lambda_step=0.01, plot_opts={'xlab': 'PC1', 'ylab': 'PC2'}, topic_order=[2, 8, 6, 7, 4, 1, 5, 9, 10, 3])"
      ]
     },
     "execution_count": 26,
     "metadata": {},
     "output_type": "execute_result"
    }
   ],
   "source": [
    "import pyLDAvis\n",
    "import pyLDAvis.gensim_models\n",
    "\n",
    "pyLDAvis.enable_notebook()\n",
    "vis = pyLDAvis.gensim_models.prepare(lda, corpus, dictionary=lda.id2word)\n",
    "vis"
   ]
  },
  {
   "cell_type": "markdown",
   "id": "ad64bc3a",
   "metadata": {
    "id": "ad64bc3a"
   },
   "source": [
    "## Additive regularization of topic models "
   ]
  },
  {
   "cell_type": "code",
   "execution_count": 19,
   "id": "61c0cbba",
   "metadata": {
    "colab": {
     "base_uri": "https://localhost:8080/"
    },
    "id": "61c0cbba",
    "outputId": "f3f4f18a-e1d0-48ab-e586-55ca83b22616"
   },
   "outputs": [
    {
     "name": "stdout",
     "output_type": "stream",
     "text": [
      "Collecting bigartm\n",
      "  Downloading bigartm-0.9.2-cp37-cp37m-manylinux1_x86_64.whl (1.9 MB)\n",
      "\u001b[K     |████████████████████████████████| 1.9 MB 5.2 MB/s \n",
      "\u001b[?25hRequirement already satisfied: tqdm in /usr/local/lib/python3.7/dist-packages (from bigartm) (4.63.0)\n",
      "Requirement already satisfied: protobuf>=3.0 in /usr/local/lib/python3.7/dist-packages (from bigartm) (3.17.3)\n",
      "Requirement already satisfied: pandas in /usr/local/lib/python3.7/dist-packages (from bigartm) (1.3.5)\n",
      "Requirement already satisfied: numpy in /usr/local/lib/python3.7/dist-packages (from bigartm) (1.21.5)\n",
      "Requirement already satisfied: six>=1.9 in /usr/local/lib/python3.7/dist-packages (from protobuf>=3.0->bigartm) (1.15.0)\n",
      "Requirement already satisfied: python-dateutil>=2.7.3 in /usr/local/lib/python3.7/dist-packages (from pandas->bigartm) (2.8.2)\n",
      "Requirement already satisfied: pytz>=2017.3 in /usr/local/lib/python3.7/dist-packages (from pandas->bigartm) (2018.9)\n",
      "Installing collected packages: bigartm\n",
      "Successfully installed bigartm-0.9.2\n"
     ]
    }
   ],
   "source": [
    "!pip install bigartm"
   ]
  },
  {
   "cell_type": "code",
   "execution_count": 20,
   "id": "45b2fe8b",
   "metadata": {
    "id": "45b2fe8b"
   },
   "outputs": [],
   "source": [
    "import artm"
   ]
  },
  {
   "cell_type": "markdown",
   "id": "Rb9CFPJQHPjz",
   "metadata": {
    "id": "Rb9CFPJQHPjz"
   },
   "source": [
    "Create artm topic model fit it to the data. Try to change hyperparameters (number of specific and background topics) to better fit the dataset. Play with smoothing and sparsing coefficients (use grid), try to add decorrelator. Print out resulting topics."
   ]
  },
  {
   "cell_type": "code",
   "execution_count": 27,
   "id": "O_yUT6-pVFHv",
   "metadata": {
    "id": "O_yUT6-pVFHv"
   },
   "outputs": [],
   "source": [
    "#ARTM model \n",
    "model_dict_create = artm.Dictionary()\n",
    "model_dict_create.gather(data_path= bv.data_path)\n",
    "model_dict_create.save_text(dictionary_path = 'dict.txt')"
   ]
  },
  {
   "cell_type": "code",
   "execution_count": 28,
   "id": "AvFQOoISVKmB",
   "metadata": {
    "id": "AvFQOoISVKmB"
   },
   "outputs": [],
   "source": [
    "model_dict = artm.Dictionary()\n",
    "model_dict.load_text(dictionary_path = 'dict.txt')"
   ]
  },
  {
   "cell_type": "code",
   "execution_count": 60,
   "id": "Bld25bl2K0q8",
   "metadata": {
    "colab": {
     "base_uri": "https://localhost:8080/"
    },
    "id": "Bld25bl2K0q8",
    "outputId": "62dcc4ee-65af-43fc-bc38-296fc200b029"
   },
   "outputs": [
    {
     "name": "stderr",
     "output_type": "stream",
     "text": [
      "/usr/local/lib/python3.7/dist-packages/sklearn/utils/deprecation.py:87: FutureWarning:\n",
      "\n",
      "Function get_feature_names is deprecated; get_feature_names is deprecated in 1.0 and will be removed in 1.2. Please use get_feature_names_out instead.\n",
      "\n"
     ]
    }
   ],
   "source": [
    "#ARTM model \n",
    "#batch_vectorizer\n",
    "\n",
    "cv = CountVectorizer(max_features=1000, stop_words='english')\n",
    "n_wd = array(cv.fit_transform(X).todense()).T\n",
    "vocabulary = cv.get_feature_names()\n",
    "\n",
    "bv = artm.BatchVectorizer(data_format='bow_n_wd', n_wd=n_wd, vocabulary=vocabulary)\n",
    "n = 10\n",
    "topic_names = ['topic_{}'.format(i) for i in range(n)]\n",
    "\n",
    "\n"
   ]
  },
  {
   "cell_type": "code",
   "execution_count": 82,
   "id": "wX6t88EFYFDo",
   "metadata": {
    "id": "wX6t88EFYFDo"
   },
   "outputs": [],
   "source": [
    "artm_1 = artm.ARTM(num_topics=n, \n",
    "                            topic_names=topic_names , dictionary=model_dict\n",
    "                   , scores=[artm.PerplexityScore(name='PerplexityScore',\n",
    "                                                    dictionary=model_dict)]\n",
    "                   ,regularizers=[artm.SmoothSparseThetaRegularizer(name='SparseTheta',\n",
    "                                                                       tau=-0.15)]\n",
    "                   ,cache_theta = True)\n",
    "\n",
    "         \n",
    "artm_2 = artm.ARTM(num_topics=n, \n",
    "                            topic_names=topic_names , dictionary=model_dict\n",
    "                   , scores=[artm.PerplexityScore(name='PerplexityScore',\n",
    "                                                    dictionary=model_dict)]\n",
    "            \n",
    "                   ,cache_theta = True)\n",
    "\n",
    "\n",
    "artm_3 = artm.ARTM(num_topics=n, \n",
    "                            topic_names=topic_names , dictionary=model_dict\n",
    "                   , scores=[artm.PerplexityScore(name='PerplexityScore',\n",
    "                                                    dictionary=model_dict)]\n",
    "                    ,regularizers=[artm.SmoothSparseThetaRegularizer(name='SparseTheta',\n",
    "                                                                       tau=-0.55)]\n",
    "                   ,cache_theta = True)"
   ]
  },
  {
   "cell_type": "code",
   "execution_count": 83,
   "id": "_6x16fHVK2Su",
   "metadata": {
    "id": "_6x16fHVK2Su"
   },
   "outputs": [],
   "source": [
    "\n",
    "#artm_1.scores.add(artm.SparsityPhiScore(name='SparsityPhiScore', class_id='text'))\n",
    "artm_1.scores.add(artm.TopTokensScore(name='TopTokensScore',num_tokens=50))\n",
    "artm_1.scores.add(artm.SparsityThetaScore(name='SparsityThetaScore'))\n",
    "artm_1.scores.add(artm.SparsityThetaScore(name='SparsityPhiScore'))\n",
    "artm_1.scores.add(artm.TopicKernelScore(name='TopicKernelScore',\n",
    "                                                  probability_mass_threshold=0.3))\n",
    "\n",
    "artm_1.regularizers.add(artm.SmoothSparsePhiRegularizer(name='sparse_phi_reg',tau = -0.1))\n",
    "artm_1.regularizers.add(artm.SmoothSparseThetaRegularizer(name='sparse_theta_reg',tau = -0.15))\n",
    "artm_1.regularizers.add(artm.DecorrelatorPhiRegularizer(name='decorellator_phi_reg',tau = 1.5e+5))\n",
    "\n",
    "\n",
    "\n",
    "artm_2.scores.add(artm.TopTokensScore(name='TopTokensScore',num_tokens=50))\n",
    "artm_2.scores.add(artm.SparsityThetaScore(name='SparsityThetaScore'))\n",
    "artm_2.scores.add(artm.SparsityThetaScore(name='SparsityPhiScore'))\n",
    "artm_2.scores.add(artm.TopicKernelScore(name='TopicKernelScore',\n",
    "                                                  probability_mass_threshold=0.3))\n",
    "\n",
    "artm_3.scores.add(artm.TopTokensScore(name='TopTokensScore',num_tokens=100))\n",
    "artm_3.scores.add(artm.SparsityThetaScore(name='SparsityThetaScore'))\n",
    "artm_3.scores.add(artm.SparsityThetaScore(name='SparsityPhiScore'))\n",
    "artm_3.scores.add(artm.TopicKernelScore(name='TopicKernelScore',\n",
    "                                                  probability_mass_threshold=0.5))\n",
    "\n",
    "artm_3.regularizers.add(artm.SmoothSparsePhiRegularizer(name='sparse_phi_reg',tau = -0.25))\n",
    "artm_3.regularizers.add(artm.SmoothSparseThetaRegularizer(name='sparse_theta_reg',tau = -1))\n",
    "artm_3.regularizers.add(artm.DecorrelatorPhiRegularizer(name='decorellator_phi_reg',tau = 5.5e+5))\n"
   ]
  },
  {
   "cell_type": "code",
   "execution_count": 84,
   "id": "mrK5gZnOUlMU",
   "metadata": {
    "id": "mrK5gZnOUlMU"
   },
   "outputs": [],
   "source": [
    "artm_1.num_document_passes = 1\n",
    "artm_2.num_document_passes = 1\n",
    "artm_3.num_document_passes = 1\n",
    "\n",
    "artm_1.fit_offline(bv, num_collection_passes=20)\n",
    "artm_2.fit_offline(bv, num_collection_passes=20)\n",
    "artm_3.fit_offline(bv, num_collection_passes=20)"
   ]
  },
  {
   "cell_type": "code",
   "execution_count": 85,
   "id": "C-Sx6bV0YamT",
   "metadata": {
    "colab": {
     "base_uri": "https://localhost:8080/"
    },
    "id": "C-Sx6bV0YamT",
    "outputId": "fbb578a6-3012-402d-a036-b3b61880cb75"
   },
   "outputs": [
    {
     "name": "stdout",
     "output_type": "stream",
     "text": [
      "\n",
      "Topic #0:\n",
      "['night', 'mind', 'room', 'felt', 'let', 'dream', 'away', 'strange', 'human', 'soon', 'return', 'change', 'doubt', 'spoke', 'mountain', 'state', 'longer', 'tear', 'poor', 'rest', 'figure', 'affection', 'passion', 'leave', 'bed', 'week', 'necessary', 'impossible', 'sister', 'design', 'escape', 'kept', 'girl', 'party', 'various', 'plague', 'later', 'danger', 'horrible', 'fate', 'tried', 'apartment', 'struck', 'fallen', 'bring', 'wished', 'outside', 'cried', 'daughter', 'respect']\n",
      "----------------------------------------------------------------------\n",
      "\n",
      "Topic #1:\n",
      "['life', 'great', 'year', 'word', 'heart', 'left', 'head', 'new', 'look', 'dark', 'certain', 'manner', 'sight', 'reason', 'question', 'fell', 'heaven', 'attention', 'age', 'believe', 'possible', 'wonder', 'given', 'event', 'happiness', 'happy', 'natural', 'cold', 'discovered', 'knowledge', 'altogether', 'hear', 'green', 'sorrow', 'hold', 'usual', 'vision', 'number', 'live', 'especially', 'single', 'cut', 'lord', 'beloved', 'ago', 'closed', 'public', 'frame', 'broken', 'folk']\n",
      "----------------------------------------------------------------------\n",
      "\n",
      "Topic #2:\n",
      "['long', 'came', 'hour', 'earth', 'world', 'scene', 'deep', 'moon', 'degree', 'ground', 'shadow', 'speak', 'grew', 'sense', 'dear', 'fellow', 'past', 'creature', 'star', 'wood', 'gone', 'gentle', 'existence', 'imagination', 'joy', 'filled', 'forth', 'fancy', 'action', 'die', 'force', 'sir', 'sought', 'art', 'grief', 'arose', 'study', 'entirely', 'passage', 'met', 'flower', 'distant', 'influence', 'instant', 'strength', 'thou', 'born', 'east', 'brain', 'drew']\n",
      "----------------------------------------------------------------------\n",
      "\n",
      "Topic #3:\n",
      "['man', 'death', 'place', 'far', 'door', 'come', 'way', 'good', 'hope', 'foot', 'took', 'person', 'home', 'work', 'case', 'land', 'line', 'woman', 'best', 'cause', 'care', 'difficulty', 'short', 'desire', 'save', 'attempt', 'received', 'ye', 'coming', 'fall', 'shore', 'ordinary', 'tone', 'discovery', 'business', 'making', 'lie', 'brother', 'particular', 'hardly', 'watch', 'seek', 'village', 'enemy', 'solitude', 'stranger', 'fearful', 'similar', 'struggle', 'following']\n",
      "----------------------------------------------------------------------\n",
      "\n",
      "Topic #4:\n",
      "['said', 'like', 'saw', 'friend', 'light', 'love', 'voice', 'fear', 'knew', 'spirit', 'sound', 'feeling', 'young', 'end', 'god', 'country', 'wild', 'general', 'true', 'better', 'appearance', 'countenance', 'expression', 'read', 'looking', 'oh', 'hideous', 'mere', 'misery', 'result', 'living', 'gentleman', 'self', 'somewhat', 'uncle', 'sensation', 'calm', 'going', 'servant', 'feature', 'certainly', 'hung', 'material', 'evidently', 'term', 'courage', 'peace', 'observation', 'emotion', 'determined']\n",
      "----------------------------------------------------------------------\n",
      "\n",
      "Topic #5:\n",
      "['eye', 'nature', 'body', 'half', 'form', 'small', 'child', 'course', 'open', 'black', 'known', 'turned', 'wind', 'feel', 'present', 'stone', 'brought', 'book', 'suddenly', 'floor', 'period', 'view', 'white', 'effect', 'unknown', 'river', 'blood', 'table', 'really', 'wife', 'boat', 'cast', 'wide', 'region', 'position', 'resolved', 'visible', 'thrown', 'singular', 'road', 'opinion', 'apparently', 'clear', 'slight', 'got', 'society', 'simple', 'blue', 'temple', 'company']\n",
      "----------------------------------------------------------------------\n",
      "\n",
      "Topic #6:\n",
      "['little', 'hand', 'know', 'shall', 'length', 'air', 'mean', 'gave', 'object', 'power', 'lost', 'sun', 'circumstance', 'set', 'west', 'truth', 'letter', 'beneath', 'close', 'chamber', 'paper', 'immediately', 'lady', 'ear', 'late', 'direction', 'peculiar', 'remember', 'scarcely', 'rose', 'surface', 'animal', 'possessed', 'visit', 'smile', 'fully', 'building', 'atmosphere', 'balloon', 'piece', 'machine', 'extreme', 'king', 'miserable', 'sign', 'ruin', 'bear', 'sufficient', 'reach', 'principle']\n",
      "----------------------------------------------------------------------\n",
      "\n",
      "Topic #7:\n",
      "['day', 'thing', 'thought', 'say', 'house', 'make', 'seen', 'water', 'street', 'window', 'near', 'matter', 'went', 'kind', 'town', 'ancient', 'stood', 'family', 'wish', 'account', 'quite', 'vast', 'sky', 'evening', 'terror', 'led', 'sure', 'distance', 'cloud', 'silence', 'use', 'mad', 'regard', 'turn', 'common', 'condition', 'valley', 'field', 'impression', 'round', 'island', 'dog', 'shape', 'main', 'century', 'faint', 'roof', 'ala', 'south', 'language']\n",
      "----------------------------------------------------------------------\n",
      "\n",
      "Topic #8:\n",
      "['old', 'men', 'face', 'city', 'point', 'wall', 'horror', 'think', 'told', 'high', 'arm', 'right', 'fact', 'thousand', 'morning', 'character', 'mother', 'large', 'continued', 'evil', 'memory', 'tale', 'merely', 'youth', 'ill', 'formed', 'corpse', 'grave', 'hair', 'finally', 'beautiful', 'cottage', 'early', 'story', 'heavy', 'boy', 'odd', 'beheld', 'plan', 'tomb', 'lovely', 'mile', 'red', 'easily', 'silent', 'excited', 'act', 'madame', 'real', 'note']\n",
      "----------------------------------------------------------------------\n",
      "\n",
      "Topic #9:\n",
      "['moment', 'father', 'sea', 'idea', 'soul', 'lay', 'dead', 'tree', 'tell', 'hill', 'second', 'nearly', 'taken', 'people', 'step', 'secret', 'sleep', 'minute', 'till', 'low', 'despair', 'purpose', 'space', 'subject', 'companion', 'sat', 'spot', 'portion', 'motion', 'lip', 'greater', 'pleasure', 'order', 'pain', 'box', 'delight', 'native', 'sweet', 'lived', 'presence', 'north', 'plain', 'path', 'reflection', 'understand', 'duty', 'yes', 'height', 'mystery', 'apparent']\n",
      "----------------------------------------------------------------------\n"
     ]
    }
   ],
   "source": [
    "for i, topic_name in enumerate(artm_1.topic_names):\n",
    "      print(\"\\nTopic #{}:\".format(i))\n",
    "      print(artm_1.score_tracker['TopTokensScore'].last_tokens[topic_name])\n",
    "      print(\"-\"*70)\n"
   ]
  },
  {
   "cell_type": "code",
   "execution_count": 86,
   "id": "6huDIHblh_E0",
   "metadata": {
    "colab": {
     "base_uri": "https://localhost:8080/"
    },
    "id": "6huDIHblh_E0",
    "outputId": "70220520-b2c8-49e4-8506-b13cd810f256"
   },
   "outputs": [
    {
     "name": "stdout",
     "output_type": "stream",
     "text": [
      "\n",
      "Topic #0:\n",
      "['night', 'mind', 'felt', 'room', 'let', 'away', 'strange', 'soon', 'change', 'doubt', 'spoke', 'mountain', 'state', 'return', 'longer', 'tear', 'poor', 'spirit', 'dear', 'rest', 'figure', 'affection', 'passion', 'leave', 'bed', 'week', 'necessary', 'impossible', 'sister', 'escape', 'girl', 'kept', 'party', 'various', 'plague', 'later', 'danger', 'horrible', 'fate', 'tried', 'apartment', 'struck', 'fallen', 'servant', 'ala', 'wished', 'feature', 'bring', 'cried', 'outside']\n",
      "----------------------------------------------------------------------\n",
      "\n",
      "Topic #1:\n",
      "['great', 'year', 'word', 'heart', 'head', 'dream', 'new', 'look', 'manner', 'sight', 'town', 'dark', 'reason', 'question', 'fell', 'heaven', 'certain', 'attention', 'believe', 'possible', 'eye', 'wonder', 'given', 'event', 'happy', 'discovered', 'knowledge', 'altogether', 'hear', 'green', 'sorrow', 'hold', 'usual', 'vision', 'live', 'especially', 'cut', 'single', 'lord', 'beloved', 'closed', 'public', 'broken', 'frame', 'folk', 'need', 'mouth', 'promise', 'dont', 'help']\n",
      "----------------------------------------------------------------------\n",
      "\n",
      "Topic #2:\n",
      "['long', 'came', 'world', 'hour', 'sound', 'soul', 'scene', 'deep', 'moon', 'hill', 'degree', 'ground', 'speak', 'shadow', 'grew', 'sense', 'fellow', 'past', 'creature', 'star', 'gone', 'wood', 'age', 'cold', 'gentle', 'imagination', 'joy', 'filled', 'fancy', 'forth', 'action', 'die', 'force', 'sir', 'sought', 'art', 'grief', 'arose', 'study', 'passage', 'flower', 'met', 'influence', 'distant', 'instant', 'strength', 'thou', 'born', 'son', 'reflection']\n",
      "----------------------------------------------------------------------\n",
      "\n",
      "Topic #3:\n",
      "['man', 'life', 'death', 'place', 'far', 'shall', 'men', 'come', 'way', 'good', 'hope', 'foot', 'took', 'person', 'think', 'home', 'work', 'case', 'feel', 'wish', 'land', 'secret', 'happiness', 'returned', 'cause', 'best', 'care', 'difficulty', 'desire', 'attempt', 'received', 'ye', 'fall', 'shore', 'ordinary', 'discovery', 'business', 'making', 'particular', 'lie', 'seek', 'watch', 'free', 'enemy', 'perceive', 'stranger', 'solitude', 'prepared', 'spirit', 'similar']\n",
      "----------------------------------------------------------------------\n",
      "\n",
      "Topic #4:\n",
      "['said', 'thought', 'saw', 'like', 'friend', 'light', 'voice', 'fear', 'knew', 'feeling', 'young', 'end', 'god', 'earth', 'country', 'general', 'true', 'better', 'appearance', 'countenance', 'expression', 'read', 'looking', 'oh', 'beauty', 'hideous', 'mere', 'misery', 'result', 'gentleman', 'self', 'silence', 'somewhat', 'possessed', 'uncle', 'sensation', 'want', 'calm', 'going', 'material', 'hung', 'pale', 'evidently', 'term', 'courage', 'observation', 'peace', 'corner', 'emotion', 'perfect']\n",
      "----------------------------------------------------------------------\n",
      "\n",
      "Topic #5:\n",
      "['eye', 'door', 'body', 'human', 'half', 'form', 'small', 'child', 'course', 'open', 'black', 'known', 'turned', 'present', 'stone', 'brought', 'book', 'floor', 'suddenly', 'period', 'wild', 'wind', 'unknown', 'effect', 'river', 'view', 'blood', 'living', 'table', 'really', 'formed', 'boat', 'wife', 'save', 'cast', 'wide', 'rock', 'position', 'white', 'resolved', 'visible', 'thrown', 'singular', 'road', 'ship', 'opinion', 'short', 'apparently', 'trace', 'clear']\n",
      "----------------------------------------------------------------------\n",
      "\n",
      "Topic #6:\n",
      "['time', 'little', 'say', 'hand', 'know', 'length', 'air', 'mean', 'gave', 'object', 'power', 'lost', 'sun', 'morning', 'circumstance', 'set', 'truth', 'west', 'letter', 'beneath', 'close', 'chamber', 'paper', 'immediately', 'lady', 'space', 'ear', 'late', 'peculiar', 'remember', 'scarcely', 'rose', 'surface', 'animal', 'visit', 'fully', 'atmosphere', 'balloon', 'smile', 'extreme', 'machine', 'piece', 'miserable', 'king', 'bear', 'sign', 'sufficient', 'spent', 'principle', 'absence']\n",
      "----------------------------------------------------------------------\n",
      "\n",
      "Topic #7:\n",
      "['day', 'thing', 'house', 'make', 'seen', 'water', 'street', 'window', 'near', 'went', 'tree', 'kind', 'character', 'ancient', 'stood', 'step', 'family', 'account', 'line', 'vast', 'sky', 'evening', 'terror', 'like', 'led', 'sure', 'distance', 'cloud', 'use', 'regard', 'common', 'box', 'region', 'valley', 'presence', 'impression', 'field', 'island', 'building', 'round', 'main', 'dog', 'narrow', 'roof', 'faint', 'south', 'ruin', 'language', 'deserted', 'palace']\n",
      "----------------------------------------------------------------------\n",
      "\n",
      "Topic #8:\n",
      "['old', 'city', 'face', 'point', 'wall', 'horror', 'matter', 'told', 'high', 'right', 'fact', 'large', 'mother', 'thousand', 'continued', 'quite', 'memory', 'tale', 'woman', 'merely', 'ill', 'corpse', 'grave', 'hair', 'mad', 'finally', 'natural', 'beautiful', 'story', 'early', 'heavy', 'entirely', 'cottage', 'boy', 'odd', 'beheld', 'tomb', 'plan', 'mile', 'lovely', 'red', 'tone', 'coming', 'easily', 'second', 'evil', 'shape', 'excited', 'simple', 'act']\n",
      "----------------------------------------------------------------------\n",
      "\n",
      "Topic #9:\n",
      "['left', 'love', 'moment', 'father', 'nature', 'idea', 'lay', 'sea', 'dead', 'arm', 'tell', 'nearly', 'taken', 'people', 'sleep', 'month', 'minute', 'till', 'despair', 'low', 'purpose', 'subject', 'companion', 'sat', 'spot', 'portion', 'motion', 'greater', 'order', 'pain', 'lip', 'native', 'design', 'sweet', 'delight', 'turn', 'condition', 'second', 'pleasure', 'lived', 'north', 'plain', 'path', 'duty', 'understand', 'yes', 'height', 'apparent', 'mystery', 'effort']\n",
      "----------------------------------------------------------------------\n"
     ]
    }
   ],
   "source": [
    "for i, topic_name in enumerate(artm_2.topic_names):\n",
    "      print(\"\\nTopic #{}:\".format(i))\n",
    "      print(artm_2.score_tracker['TopTokensScore'].last_tokens[topic_name])\n",
    "      print(\"-\"*70)\n"
   ]
  },
  {
   "cell_type": "code",
   "execution_count": 87,
   "id": "3VBU0AxliDkL",
   "metadata": {
    "colab": {
     "base_uri": "https://localhost:8080/"
    },
    "id": "3VBU0AxliDkL",
    "outputId": "12d0bf82-2323-447a-fa0c-6642c2d97686"
   },
   "outputs": [
    {
     "name": "stdout",
     "output_type": "stream",
     "text": [
      "\n",
      "Topic #0:\n",
      "['art', 'meaning', 'mere', 'morning', 'circumstance']\n",
      "----------------------------------------------------------------------\n",
      "\n",
      "Topic #1:\n",
      "['place', 'make', 'dead', 'scene', 'change', 'manner', 'took', 'white', 'wind', 'sight', 'kind', 'space', 'shadow', 'degree', 'fell', 'cold', 'return', 'fact', 'past', 'despair', 'hear', 'calm', 'green', 'existence', 'cottage', 'field', 'youth', 'blue', 'boy', 'angle', 'kept', 'bosom', 'sympathy', 'rise', 'school', 'unusual', 'midnight', 'behold', 'complete']\n",
      "----------------------------------------------------------------------\n",
      "\n",
      "Topic #2:\n",
      "['thy', 'ear']\n",
      "----------------------------------------------------------------------\n",
      "\n",
      "Topic #3:\n",
      "['ye', 'thousand', 'good', 'tell', 'mean', 'ancient', 'tale', 'ago', 'pleasure', 'cat', 'devil', 'filled', 'brow']\n",
      "----------------------------------------------------------------------\n",
      "\n",
      "Topic #4:\n",
      "['room', 'horror', 'star', 'right', 'brought', 'terror', 'lost', 'atmosphere', 'theory', 'use', 'live', 'boat']\n",
      "----------------------------------------------------------------------\n",
      "\n",
      "Topic #5:\n",
      "['river', 'main', 'force', 'continued', 'usual']\n",
      "----------------------------------------------------------------------\n",
      "\n",
      "Topic #6:\n",
      "['set', 'period', 'rock', 'memory', 'beneath', 'heavy', 'led', 'proper']\n",
      "----------------------------------------------------------------------\n",
      "\n",
      "Topic #7:\n",
      "['hour', 'sound', 'moon', 'knew', 'step', 'course', 'soon', 'went', 'sky', 'cloud', 'vast', 'gave', 'stood', 'valley', 'direction', 'north', 'terrible', 'joy', 'unknown', 'spoke', 'lake', 'happiness', 'machine', 'speak', 'neck']\n",
      "----------------------------------------------------------------------\n",
      "\n",
      "Topic #8:\n",
      "['human', 'evil', 'think', 'feel', 'second', 'secret', 'odd', 'lady', 'gone', 'beautiful', 'business', 'distant', 'deeply', 'evidently', 'yard', 'shut', 'broken', 'admiration']\n",
      "----------------------------------------------------------------------\n",
      "\n",
      "Topic #9:\n",
      "['round', 'lip', 'floor', 'nearly', 'frame', 'danger', 'son']\n",
      "----------------------------------------------------------------------\n"
     ]
    }
   ],
   "source": [
    "for i, topic_name in enumerate(artm_3.topic_names):\n",
    "      print(\"\\nTopic #{}:\".format(i))\n",
    "      print(artm_3.score_tracker['TopTokensScore'].last_tokens[topic_name])\n",
    "      print(\"-\"*70)"
   ]
  },
  {
   "cell_type": "markdown",
   "id": "IpxUmMfMjwcs",
   "metadata": {
    "id": "IpxUmMfMjwcs"
   },
   "source": [
    "Write a function to convert new documents to topics probabilities vectors."
   ]
  },
  {
   "cell_type": "code",
   "execution_count": 88,
   "id": "EkfJAbrYjvy-",
   "metadata": {
    "colab": {
     "base_uri": "https://localhost:8080/",
     "height": 456
    },
    "id": "EkfJAbrYjvy-",
    "outputId": "5d96087a-3e95-44ee-be7f-e92003fc8db6"
   },
   "outputs": [
    {
     "data": {
      "text/html": [
       "\n",
       "  <div id=\"df-69fccf50-3bfd-470b-a046-ca745919f03f\">\n",
       "    <div class=\"colab-df-container\">\n",
       "      <div>\n",
       "<style scoped>\n",
       "    .dataframe tbody tr th:only-of-type {\n",
       "        vertical-align: middle;\n",
       "    }\n",
       "\n",
       "    .dataframe tbody tr th {\n",
       "        vertical-align: top;\n",
       "    }\n",
       "\n",
       "    .dataframe thead th {\n",
       "        text-align: right;\n",
       "    }\n",
       "</style>\n",
       "<table border=\"1\" class=\"dataframe\">\n",
       "  <thead>\n",
       "    <tr style=\"text-align: right;\">\n",
       "      <th></th>\n",
       "      <th>14000</th>\n",
       "      <th>14001</th>\n",
       "      <th>14002</th>\n",
       "      <th>14003</th>\n",
       "      <th>14004</th>\n",
       "      <th>14005</th>\n",
       "      <th>14006</th>\n",
       "      <th>14007</th>\n",
       "      <th>14008</th>\n",
       "      <th>14009</th>\n",
       "      <th>...</th>\n",
       "      <th>19569</th>\n",
       "      <th>19570</th>\n",
       "      <th>19571</th>\n",
       "      <th>19572</th>\n",
       "      <th>19573</th>\n",
       "      <th>19574</th>\n",
       "      <th>19575</th>\n",
       "      <th>19576</th>\n",
       "      <th>19577</th>\n",
       "      <th>19578</th>\n",
       "    </tr>\n",
       "  </thead>\n",
       "  <tbody>\n",
       "    <tr>\n",
       "      <th>topic_0</th>\n",
       "      <td>0.000000</td>\n",
       "      <td>0.000000</td>\n",
       "      <td>0.092896</td>\n",
       "      <td>0.000000</td>\n",
       "      <td>0.000000</td>\n",
       "      <td>0.113146</td>\n",
       "      <td>0.333333</td>\n",
       "      <td>0.184783</td>\n",
       "      <td>0.000000</td>\n",
       "      <td>0.000000</td>\n",
       "      <td>...</td>\n",
       "      <td>0.5</td>\n",
       "      <td>0.000000</td>\n",
       "      <td>0.000000</td>\n",
       "      <td>0.000000</td>\n",
       "      <td>0.000000</td>\n",
       "      <td>0.0</td>\n",
       "      <td>0.1</td>\n",
       "      <td>0.0</td>\n",
       "      <td>0.0</td>\n",
       "      <td>0.0</td>\n",
       "    </tr>\n",
       "    <tr>\n",
       "      <th>topic_1</th>\n",
       "      <td>0.000000</td>\n",
       "      <td>0.333333</td>\n",
       "      <td>0.256831</td>\n",
       "      <td>0.000000</td>\n",
       "      <td>0.102941</td>\n",
       "      <td>0.113146</td>\n",
       "      <td>0.000000</td>\n",
       "      <td>0.075986</td>\n",
       "      <td>0.000000</td>\n",
       "      <td>0.000000</td>\n",
       "      <td>...</td>\n",
       "      <td>0.0</td>\n",
       "      <td>0.000000</td>\n",
       "      <td>0.000000</td>\n",
       "      <td>0.303371</td>\n",
       "      <td>0.000000</td>\n",
       "      <td>0.0</td>\n",
       "      <td>0.1</td>\n",
       "      <td>0.0</td>\n",
       "      <td>0.0</td>\n",
       "      <td>0.5</td>\n",
       "    </tr>\n",
       "    <tr>\n",
       "      <th>topic_2</th>\n",
       "      <td>0.330954</td>\n",
       "      <td>0.000000</td>\n",
       "      <td>0.038251</td>\n",
       "      <td>0.000000</td>\n",
       "      <td>0.247182</td>\n",
       "      <td>0.000000</td>\n",
       "      <td>0.000000</td>\n",
       "      <td>0.184783</td>\n",
       "      <td>0.354167</td>\n",
       "      <td>0.000000</td>\n",
       "      <td>...</td>\n",
       "      <td>0.5</td>\n",
       "      <td>0.215190</td>\n",
       "      <td>0.447368</td>\n",
       "      <td>0.078652</td>\n",
       "      <td>0.000000</td>\n",
       "      <td>0.5</td>\n",
       "      <td>0.1</td>\n",
       "      <td>0.0</td>\n",
       "      <td>0.0</td>\n",
       "      <td>0.0</td>\n",
       "    </tr>\n",
       "    <tr>\n",
       "      <th>topic_3</th>\n",
       "      <td>0.000000</td>\n",
       "      <td>0.000000</td>\n",
       "      <td>0.092896</td>\n",
       "      <td>0.725490</td>\n",
       "      <td>0.000000</td>\n",
       "      <td>0.000000</td>\n",
       "      <td>0.000000</td>\n",
       "      <td>0.000000</td>\n",
       "      <td>0.145833</td>\n",
       "      <td>0.548387</td>\n",
       "      <td>...</td>\n",
       "      <td>0.0</td>\n",
       "      <td>0.088608</td>\n",
       "      <td>0.184211</td>\n",
       "      <td>0.191011</td>\n",
       "      <td>0.548387</td>\n",
       "      <td>0.0</td>\n",
       "      <td>0.1</td>\n",
       "      <td>0.0</td>\n",
       "      <td>0.5</td>\n",
       "      <td>0.0</td>\n",
       "    </tr>\n",
       "    <tr>\n",
       "      <th>topic_4</th>\n",
       "      <td>0.000000</td>\n",
       "      <td>0.000000</td>\n",
       "      <td>0.038251</td>\n",
       "      <td>0.000000</td>\n",
       "      <td>0.000000</td>\n",
       "      <td>0.113146</td>\n",
       "      <td>0.333333</td>\n",
       "      <td>0.184884</td>\n",
       "      <td>0.000000</td>\n",
       "      <td>0.225806</td>\n",
       "      <td>...</td>\n",
       "      <td>0.0</td>\n",
       "      <td>0.215190</td>\n",
       "      <td>0.184211</td>\n",
       "      <td>0.078652</td>\n",
       "      <td>0.000000</td>\n",
       "      <td>0.0</td>\n",
       "      <td>0.1</td>\n",
       "      <td>0.0</td>\n",
       "      <td>0.5</td>\n",
       "      <td>0.0</td>\n",
       "    </tr>\n",
       "    <tr>\n",
       "      <th>topic_5</th>\n",
       "      <td>0.333333</td>\n",
       "      <td>0.000000</td>\n",
       "      <td>0.038251</td>\n",
       "      <td>0.137255</td>\n",
       "      <td>0.250000</td>\n",
       "      <td>0.110995</td>\n",
       "      <td>0.333333</td>\n",
       "      <td>0.184783</td>\n",
       "      <td>0.000000</td>\n",
       "      <td>0.225806</td>\n",
       "      <td>...</td>\n",
       "      <td>0.0</td>\n",
       "      <td>0.215190</td>\n",
       "      <td>0.000000</td>\n",
       "      <td>0.000000</td>\n",
       "      <td>0.225806</td>\n",
       "      <td>0.0</td>\n",
       "      <td>0.1</td>\n",
       "      <td>0.0</td>\n",
       "      <td>0.0</td>\n",
       "      <td>0.0</td>\n",
       "    </tr>\n",
       "    <tr>\n",
       "      <th>topic_6</th>\n",
       "      <td>0.000000</td>\n",
       "      <td>0.000000</td>\n",
       "      <td>0.366120</td>\n",
       "      <td>0.000000</td>\n",
       "      <td>0.000000</td>\n",
       "      <td>0.436421</td>\n",
       "      <td>0.000000</td>\n",
       "      <td>0.000000</td>\n",
       "      <td>0.000000</td>\n",
       "      <td>0.000000</td>\n",
       "      <td>...</td>\n",
       "      <td>0.0</td>\n",
       "      <td>0.088608</td>\n",
       "      <td>0.000000</td>\n",
       "      <td>0.078652</td>\n",
       "      <td>0.000000</td>\n",
       "      <td>0.0</td>\n",
       "      <td>0.1</td>\n",
       "      <td>0.0</td>\n",
       "      <td>0.0</td>\n",
       "      <td>0.0</td>\n",
       "    </tr>\n",
       "    <tr>\n",
       "      <th>topic_7</th>\n",
       "      <td>0.000000</td>\n",
       "      <td>0.000000</td>\n",
       "      <td>0.038251</td>\n",
       "      <td>0.000000</td>\n",
       "      <td>0.399877</td>\n",
       "      <td>0.000000</td>\n",
       "      <td>0.000000</td>\n",
       "      <td>0.000000</td>\n",
       "      <td>0.354167</td>\n",
       "      <td>0.000000</td>\n",
       "      <td>...</td>\n",
       "      <td>0.0</td>\n",
       "      <td>0.088608</td>\n",
       "      <td>0.000000</td>\n",
       "      <td>0.191011</td>\n",
       "      <td>0.225806</td>\n",
       "      <td>0.0</td>\n",
       "      <td>0.1</td>\n",
       "      <td>1.0</td>\n",
       "      <td>0.0</td>\n",
       "      <td>0.0</td>\n",
       "    </tr>\n",
       "    <tr>\n",
       "      <th>topic_8</th>\n",
       "      <td>0.000000</td>\n",
       "      <td>0.333333</td>\n",
       "      <td>0.000000</td>\n",
       "      <td>0.137255</td>\n",
       "      <td>0.000000</td>\n",
       "      <td>0.113146</td>\n",
       "      <td>0.000000</td>\n",
       "      <td>0.000000</td>\n",
       "      <td>0.145833</td>\n",
       "      <td>0.000000</td>\n",
       "      <td>...</td>\n",
       "      <td>0.0</td>\n",
       "      <td>0.000000</td>\n",
       "      <td>0.184211</td>\n",
       "      <td>0.000000</td>\n",
       "      <td>0.000000</td>\n",
       "      <td>0.0</td>\n",
       "      <td>0.1</td>\n",
       "      <td>0.0</td>\n",
       "      <td>0.0</td>\n",
       "      <td>0.0</td>\n",
       "    </tr>\n",
       "    <tr>\n",
       "      <th>topic_9</th>\n",
       "      <td>0.335713</td>\n",
       "      <td>0.333333</td>\n",
       "      <td>0.038251</td>\n",
       "      <td>0.000000</td>\n",
       "      <td>0.000000</td>\n",
       "      <td>0.000000</td>\n",
       "      <td>0.000000</td>\n",
       "      <td>0.184783</td>\n",
       "      <td>0.000000</td>\n",
       "      <td>0.000000</td>\n",
       "      <td>...</td>\n",
       "      <td>0.0</td>\n",
       "      <td>0.088608</td>\n",
       "      <td>0.000000</td>\n",
       "      <td>0.078652</td>\n",
       "      <td>0.000000</td>\n",
       "      <td>0.5</td>\n",
       "      <td>0.1</td>\n",
       "      <td>0.0</td>\n",
       "      <td>0.0</td>\n",
       "      <td>0.5</td>\n",
       "    </tr>\n",
       "  </tbody>\n",
       "</table>\n",
       "<p>10 rows × 19579 columns</p>\n",
       "</div>\n",
       "      <button class=\"colab-df-convert\" onclick=\"convertToInteractive('df-69fccf50-3bfd-470b-a046-ca745919f03f')\"\n",
       "              title=\"Convert this dataframe to an interactive table.\"\n",
       "              style=\"display:none;\">\n",
       "        \n",
       "  <svg xmlns=\"http://www.w3.org/2000/svg\" height=\"24px\"viewBox=\"0 0 24 24\"\n",
       "       width=\"24px\">\n",
       "    <path d=\"M0 0h24v24H0V0z\" fill=\"none\"/>\n",
       "    <path d=\"M18.56 5.44l.94 2.06.94-2.06 2.06-.94-2.06-.94-.94-2.06-.94 2.06-2.06.94zm-11 1L8.5 8.5l.94-2.06 2.06-.94-2.06-.94L8.5 2.5l-.94 2.06-2.06.94zm10 10l.94 2.06.94-2.06 2.06-.94-2.06-.94-.94-2.06-.94 2.06-2.06.94z\"/><path d=\"M17.41 7.96l-1.37-1.37c-.4-.4-.92-.59-1.43-.59-.52 0-1.04.2-1.43.59L10.3 9.45l-7.72 7.72c-.78.78-.78 2.05 0 2.83L4 21.41c.39.39.9.59 1.41.59.51 0 1.02-.2 1.41-.59l7.78-7.78 2.81-2.81c.8-.78.8-2.07 0-2.86zM5.41 20L4 18.59l7.72-7.72 1.47 1.35L5.41 20z\"/>\n",
       "  </svg>\n",
       "      </button>\n",
       "      \n",
       "  <style>\n",
       "    .colab-df-container {\n",
       "      display:flex;\n",
       "      flex-wrap:wrap;\n",
       "      gap: 12px;\n",
       "    }\n",
       "\n",
       "    .colab-df-convert {\n",
       "      background-color: #E8F0FE;\n",
       "      border: none;\n",
       "      border-radius: 50%;\n",
       "      cursor: pointer;\n",
       "      display: none;\n",
       "      fill: #1967D2;\n",
       "      height: 32px;\n",
       "      padding: 0 0 0 0;\n",
       "      width: 32px;\n",
       "    }\n",
       "\n",
       "    .colab-df-convert:hover {\n",
       "      background-color: #E2EBFA;\n",
       "      box-shadow: 0px 1px 2px rgba(60, 64, 67, 0.3), 0px 1px 3px 1px rgba(60, 64, 67, 0.15);\n",
       "      fill: #174EA6;\n",
       "    }\n",
       "\n",
       "    [theme=dark] .colab-df-convert {\n",
       "      background-color: #3B4455;\n",
       "      fill: #D2E3FC;\n",
       "    }\n",
       "\n",
       "    [theme=dark] .colab-df-convert:hover {\n",
       "      background-color: #434B5C;\n",
       "      box-shadow: 0px 1px 3px 1px rgba(0, 0, 0, 0.15);\n",
       "      filter: drop-shadow(0px 1px 2px rgba(0, 0, 0, 0.3));\n",
       "      fill: #FFFFFF;\n",
       "    }\n",
       "  </style>\n",
       "\n",
       "      <script>\n",
       "        const buttonEl =\n",
       "          document.querySelector('#df-69fccf50-3bfd-470b-a046-ca745919f03f button.colab-df-convert');\n",
       "        buttonEl.style.display =\n",
       "          google.colab.kernel.accessAllowed ? 'block' : 'none';\n",
       "\n",
       "        async function convertToInteractive(key) {\n",
       "          const element = document.querySelector('#df-69fccf50-3bfd-470b-a046-ca745919f03f');\n",
       "          const dataTable =\n",
       "            await google.colab.kernel.invokeFunction('convertToInteractive',\n",
       "                                                     [key], {});\n",
       "          if (!dataTable) return;\n",
       "\n",
       "          const docLinkHtml = 'Like what you see? Visit the ' +\n",
       "            '<a target=\"_blank\" href=https://colab.research.google.com/notebooks/data_table.ipynb>data table notebook</a>'\n",
       "            + ' to learn more about interactive tables.';\n",
       "          element.innerHTML = '';\n",
       "          dataTable['output_type'] = 'display_data';\n",
       "          await google.colab.output.renderOutput(dataTable, element);\n",
       "          const docLink = document.createElement('div');\n",
       "          docLink.innerHTML = docLinkHtml;\n",
       "          element.appendChild(docLink);\n",
       "        }\n",
       "      </script>\n",
       "    </div>\n",
       "  </div>\n",
       "  "
      ],
      "text/plain": [
       "            14000     14001     14002     14003     14004     14005     14006  \\\n",
       "topic_0  0.000000  0.000000  0.092896  0.000000  0.000000  0.113146  0.333333   \n",
       "topic_1  0.000000  0.333333  0.256831  0.000000  0.102941  0.113146  0.000000   \n",
       "topic_2  0.330954  0.000000  0.038251  0.000000  0.247182  0.000000  0.000000   \n",
       "topic_3  0.000000  0.000000  0.092896  0.725490  0.000000  0.000000  0.000000   \n",
       "topic_4  0.000000  0.000000  0.038251  0.000000  0.000000  0.113146  0.333333   \n",
       "topic_5  0.333333  0.000000  0.038251  0.137255  0.250000  0.110995  0.333333   \n",
       "topic_6  0.000000  0.000000  0.366120  0.000000  0.000000  0.436421  0.000000   \n",
       "topic_7  0.000000  0.000000  0.038251  0.000000  0.399877  0.000000  0.000000   \n",
       "topic_8  0.000000  0.333333  0.000000  0.137255  0.000000  0.113146  0.000000   \n",
       "topic_9  0.335713  0.333333  0.038251  0.000000  0.000000  0.000000  0.000000   \n",
       "\n",
       "            14007     14008     14009  ...  19569     19570     19571  \\\n",
       "topic_0  0.184783  0.000000  0.000000  ...    0.5  0.000000  0.000000   \n",
       "topic_1  0.075986  0.000000  0.000000  ...    0.0  0.000000  0.000000   \n",
       "topic_2  0.184783  0.354167  0.000000  ...    0.5  0.215190  0.447368   \n",
       "topic_3  0.000000  0.145833  0.548387  ...    0.0  0.088608  0.184211   \n",
       "topic_4  0.184884  0.000000  0.225806  ...    0.0  0.215190  0.184211   \n",
       "topic_5  0.184783  0.000000  0.225806  ...    0.0  0.215190  0.000000   \n",
       "topic_6  0.000000  0.000000  0.000000  ...    0.0  0.088608  0.000000   \n",
       "topic_7  0.000000  0.354167  0.000000  ...    0.0  0.088608  0.000000   \n",
       "topic_8  0.000000  0.145833  0.000000  ...    0.0  0.000000  0.184211   \n",
       "topic_9  0.184783  0.000000  0.000000  ...    0.0  0.088608  0.000000   \n",
       "\n",
       "            19572     19573  19574  19575  19576  19577  19578  \n",
       "topic_0  0.000000  0.000000    0.0    0.1    0.0    0.0    0.0  \n",
       "topic_1  0.303371  0.000000    0.0    0.1    0.0    0.0    0.5  \n",
       "topic_2  0.078652  0.000000    0.5    0.1    0.0    0.0    0.0  \n",
       "topic_3  0.191011  0.548387    0.0    0.1    0.0    0.5    0.0  \n",
       "topic_4  0.078652  0.000000    0.0    0.1    0.0    0.5    0.0  \n",
       "topic_5  0.000000  0.225806    0.0    0.1    0.0    0.0    0.0  \n",
       "topic_6  0.078652  0.000000    0.0    0.1    0.0    0.0    0.0  \n",
       "topic_7  0.191011  0.225806    0.0    0.1    1.0    0.0    0.0  \n",
       "topic_8  0.000000  0.000000    0.0    0.1    0.0    0.0    0.0  \n",
       "topic_9  0.078652  0.000000    0.5    0.1    0.0    0.0    0.5  \n",
       "\n",
       "[10 rows x 19579 columns]"
      ]
     },
     "execution_count": 88,
     "metadata": {},
     "output_type": "execute_result"
    }
   ],
   "source": [
    "topics = artm_1.transform(bv)\n",
    "topics"
   ]
  },
  {
   "cell_type": "markdown",
   "id": "nvLzhKFAlDcc",
   "metadata": {
    "id": "nvLzhKFAlDcc"
   },
   "source": [
    "Calculate the quality scores for each model. Make a barplot to compare the quality."
   ]
  },
  {
   "cell_type": "code",
   "execution_count": 89,
   "id": "hoFY5EVydI3y",
   "metadata": {
    "colab": {
     "base_uri": "https://localhost:8080/",
     "height": 655
    },
    "id": "hoFY5EVydI3y",
    "outputId": "5d3bc9f2-751e-4bc5-b62c-684a3671e3bb"
   },
   "outputs": [
    {
     "data": {
      "image/png": "[encoded data removed]",
      "text/plain": [
       "<Figure size 720x360 with 1 Axes>"
      ]
     },
     "metadata": {
      "needs_background": "light"
     },
     "output_type": "display_data"
    },
    {
     "data": {
      "image/png": "[encoded data removed]",
      "text/plain": [
       "<Figure size 720x360 with 1 Axes>"
      ]
     },
     "metadata": {
      "needs_background": "light"
     },
     "output_type": "display_data"
    }
   ],
   "source": [
    "plt.figure( figsize = (10,5) )\n",
    "plt.plot(range(artm_1.num_phi_updates), artm_1.score_tracker['SparsityPhiScore'].value, 'b',\n",
    "         range(artm_2.num_phi_updates), artm_2.score_tracker['SparsityPhiScore'].value, 'r',\n",
    "         range(artm_3.num_phi_updates), artm_3.score_tracker['SparsityPhiScore'].value, 'orange',\n",
    "         linewidth=2)\n",
    "plt.xlabel('Iterations count')\n",
    "plt.ylabel('Phi sp.')\n",
    "plt.legend(['Model 1', 'Model 2 (without regul.)', 'Model 3'])\n",
    "plt.grid(True)\n",
    "plt.show()\n",
    "\n",
    "plt.figure( figsize = (10,5) )\n",
    "plt.plot(range(artm_1.num_phi_updates), artm_1.score_tracker['SparsityThetaScore'].value, 'b',\n",
    "         range(artm_2.num_phi_updates), artm_2.score_tracker['SparsityThetaScore'].value, 'r', \n",
    "         range(artm_3.num_phi_updates), artm_3.score_tracker['SparsityThetaScore'].value, 'orange', \n",
    "         linewidth=2)\n",
    "plt.xlabel('Iterations count')\n",
    "plt.ylabel('Theta sp.')\n",
    "plt.legend(['Model 1', 'Model 2 (without regul.)', 'Model 3'])\n",
    "plt.grid(True)\n",
    "plt.show()"
   ]
  },
  {
   "cell_type": "code",
   "execution_count": 90,
   "id": "xMyxGCwJksDj",
   "metadata": {
    "colab": {
     "base_uri": "https://localhost:8080/",
     "height": 651
    },
    "id": "xMyxGCwJksDj",
    "outputId": "533539ce-b412-4a42-d4c6-8736fda54b63"
   },
   "outputs": [
    {
     "data": {
      "image/png": "[encoded data removed]",
      "text/plain": [
       "<Figure size 720x360 with 1 Axes>"
      ]
     },
     "metadata": {
      "needs_background": "light"
     },
     "output_type": "display_data"
    },
    {
     "data": {
      "image/png": "[encoded data removed]",
      "text/plain": [
       "<Figure size 720x360 with 1 Axes>"
      ]
     },
     "metadata": {
      "needs_background": "light"
     },
     "output_type": "display_data"
    }
   ],
   "source": [
    "# THE BEST MODEL 3\n",
    "\n",
    "plt.figure( figsize = (10,5) )\n",
    "plt.plot(range(artm_3.num_phi_updates), artm_3.score_tracker['SparsityPhiScore'].value, 'orange',\n",
    "         linewidth=2)\n",
    "plt.xlabel('Iterations count')\n",
    "plt.ylabel('Phi sp.')\n",
    "plt.legend(['Model 3'])\n",
    "plt.grid(True)\n",
    "plt.show()\n",
    "\n",
    "plt.figure( figsize = (10,5) )\n",
    "plt.plot(range(artm_3.num_phi_updates), artm_3.score_tracker['SparsityThetaScore'].value, 'orange', \n",
    "         linewidth=2)\n",
    "plt.xlabel('Iterations count')\n",
    "plt.ylabel('Theta sp.')\n",
    "plt.legend(['Model 3'])\n",
    "plt.grid(True)\n",
    "plt.show()"
   ]
  },
  {
   "cell_type": "markdown",
   "id": "XGj1SPFHkMtO",
   "metadata": {
    "id": "XGj1SPFHkMtO"
   },
   "source": [
    "Adding a regularizer and varying the parameters improves the quality of the model"
   ]
  },
  {
   "cell_type": "code",
   "execution_count": 111,
   "id": "-RzpVogElLHQ",
   "metadata": {
    "id": "-RzpVogElLHQ"
   },
   "outputs": [],
   "source": [
    "def measures(model_1, model_2, model_3):\n",
    "    df = pd.DataFrame(data = {\"model\" : ['model 1', 'model 2', 'model 3']})\n",
    "    df['SparsityPhiScore'] = [model_1.score_tracker['SparsityPhiScore'].last_value,\n",
    "        model_2.score_tracker['SparsityPhiScore'].last_value,\n",
    "        model_3.score_tracker['SparsityPhiScore'].last_value]\n",
    "    df['SparsityThetaScore'] = [model_1.score_tracker['SparsityThetaScore'].last_value,\n",
    "        model_2.score_tracker['SparsityThetaScore'].last_value,\n",
    "        model_3.score_tracker['SparsityThetaScore'].last_value]\n",
    "    df['Kernel contrast'] = [model_1.score_tracker['TopicKernelScore'].last_average_contrast,\n",
    "        model_2.score_tracker['TopicKernelScore'].last_average_contrast,\n",
    "        model_3.score_tracker['TopicKernelScore'].last_average_contrast]\n",
    "    df['Kernel purity'] = [model_1.score_tracker['TopicKernelScore'].last_average_purity,\n",
    "        model_2.score_tracker['TopicKernelScore'].last_average_purity,\n",
    "        model_3.score_tracker['TopicKernelScore'].last_average_purity]\n",
    "    df['Perplexity'] = [model_1.score_tracker['PerplexityScore'].last_value,\n",
    "        model_2.score_tracker['PerplexityScore'].last_value,\n",
    "        model_3.score_tracker['PerplexityScore'].last_value]\n",
    "\n",
    "    return df \n",
    "    \n",
    "measures_res = measures(artm_1, artm_2,artm_3)\n"
   ]
  },
  {
   "cell_type": "code",
   "execution_count": 113,
   "id": "HctZJpIxqR8x",
   "metadata": {
    "colab": {
     "base_uri": "https://localhost:8080/",
     "height": 143
    },
    "id": "HctZJpIxqR8x",
    "outputId": "e5bcc88f-0b79-4be7-81d1-aff83b9c8214"
   },
   "outputs": [
    {
     "data": {
      "text/html": [
       "\n",
       "  <div id=\"df-5632396a-b583-47fa-b6b6-8d0dbc089a57\">\n",
       "    <div class=\"colab-df-container\">\n",
       "      <div>\n",
       "<style scoped>\n",
       "    .dataframe tbody tr th:only-of-type {\n",
       "        vertical-align: middle;\n",
       "    }\n",
       "\n",
       "    .dataframe tbody tr th {\n",
       "        vertical-align: top;\n",
       "    }\n",
       "\n",
       "    .dataframe thead th {\n",
       "        text-align: right;\n",
       "    }\n",
       "</style>\n",
       "<table border=\"1\" class=\"dataframe\">\n",
       "  <thead>\n",
       "    <tr style=\"text-align: right;\">\n",
       "      <th></th>\n",
       "      <th>model</th>\n",
       "      <th>SparsityPhiScore</th>\n",
       "      <th>SparsityThetaScore</th>\n",
       "      <th>Kernel contrast</th>\n",
       "      <th>Kernel purity</th>\n",
       "      <th>Perplexity</th>\n",
       "    </tr>\n",
       "  </thead>\n",
       "  <tbody>\n",
       "    <tr>\n",
       "      <th>0</th>\n",
       "      <td>model 1</td>\n",
       "      <td>0.598304</td>\n",
       "      <td>0.598304</td>\n",
       "      <td>0.991662</td>\n",
       "      <td>0.988206</td>\n",
       "      <td>323.820557</td>\n",
       "    </tr>\n",
       "    <tr>\n",
       "      <th>1</th>\n",
       "      <td>model 2</td>\n",
       "      <td>0.000000</td>\n",
       "      <td>0.000000</td>\n",
       "      <td>0.958817</td>\n",
       "      <td>0.978035</td>\n",
       "      <td>329.947723</td>\n",
       "    </tr>\n",
       "    <tr>\n",
       "      <th>2</th>\n",
       "      <td>model 3</td>\n",
       "      <td>0.959405</td>\n",
       "      <td>0.959405</td>\n",
       "      <td>1.000000</td>\n",
       "      <td>1.000000</td>\n",
       "      <td>662.834595</td>\n",
       "    </tr>\n",
       "  </tbody>\n",
       "</table>\n",
       "</div>\n",
       "      <button class=\"colab-df-convert\" onclick=\"convertToInteractive('df-5632396a-b583-47fa-b6b6-8d0dbc089a57')\"\n",
       "              title=\"Convert this dataframe to an interactive table.\"\n",
       "              style=\"display:none;\">\n",
       "        \n",
       "  <svg xmlns=\"http://www.w3.org/2000/svg\" height=\"24px\"viewBox=\"0 0 24 24\"\n",
       "       width=\"24px\">\n",
       "    <path d=\"M0 0h24v24H0V0z\" fill=\"none\"/>\n",
       "    <path d=\"M18.56 5.44l.94 2.06.94-2.06 2.06-.94-2.06-.94-.94-2.06-.94 2.06-2.06.94zm-11 1L8.5 8.5l.94-2.06 2.06-.94-2.06-.94L8.5 2.5l-.94 2.06-2.06.94zm10 10l.94 2.06.94-2.06 2.06-.94-2.06-.94-.94-2.06-.94 2.06-2.06.94z\"/><path d=\"M17.41 7.96l-1.37-1.37c-.4-.4-.92-.59-1.43-.59-.52 0-1.04.2-1.43.59L10.3 9.45l-7.72 7.72c-.78.78-.78 2.05 0 2.83L4 21.41c.39.39.9.59 1.41.59.51 0 1.02-.2 1.41-.59l7.78-7.78 2.81-2.81c.8-.78.8-2.07 0-2.86zM5.41 20L4 18.59l7.72-7.72 1.47 1.35L5.41 20z\"/>\n",
       "  </svg>\n",
       "      </button>\n",
       "      \n",
       "  <style>\n",
       "    .colab-df-container {\n",
       "      display:flex;\n",
       "      flex-wrap:wrap;\n",
       "      gap: 12px;\n",
       "    }\n",
       "\n",
       "    .colab-df-convert {\n",
       "      background-color: #E8F0FE;\n",
       "      border: none;\n",
       "      border-radius: 50%;\n",
       "      cursor: pointer;\n",
       "      display: none;\n",
       "      fill: #1967D2;\n",
       "      height: 32px;\n",
       "      padding: 0 0 0 0;\n",
       "      width: 32px;\n",
       "    }\n",
       "\n",
       "    .colab-df-convert:hover {\n",
       "      background-color: #E2EBFA;\n",
       "      box-shadow: 0px 1px 2px rgba(60, 64, 67, 0.3), 0px 1px 3px 1px rgba(60, 64, 67, 0.15);\n",
       "      fill: #174EA6;\n",
       "    }\n",
       "\n",
       "    [theme=dark] .colab-df-convert {\n",
       "      background-color: #3B4455;\n",
       "      fill: #D2E3FC;\n",
       "    }\n",
       "\n",
       "    [theme=dark] .colab-df-convert:hover {\n",
       "      background-color: #434B5C;\n",
       "      box-shadow: 0px 1px 3px 1px rgba(0, 0, 0, 0.15);\n",
       "      filter: drop-shadow(0px 1px 2px rgba(0, 0, 0, 0.3));\n",
       "      fill: #FFFFFF;\n",
       "    }\n",
       "  </style>\n",
       "\n",
       "      <script>\n",
       "        const buttonEl =\n",
       "          document.querySelector('#df-5632396a-b583-47fa-b6b6-8d0dbc089a57 button.colab-df-convert');\n",
       "        buttonEl.style.display =\n",
       "          google.colab.kernel.accessAllowed ? 'block' : 'none';\n",
       "\n",
       "        async function convertToInteractive(key) {\n",
       "          const element = document.querySelector('#df-5632396a-b583-47fa-b6b6-8d0dbc089a57');\n",
       "          const dataTable =\n",
       "            await google.colab.kernel.invokeFunction('convertToInteractive',\n",
       "                                                     [key], {});\n",
       "          if (!dataTable) return;\n",
       "\n",
       "          const docLinkHtml = 'Like what you see? Visit the ' +\n",
       "            '<a target=\"_blank\" href=https://colab.research.google.com/notebooks/data_table.ipynb>data table notebook</a>'\n",
       "            + ' to learn more about interactive tables.';\n",
       "          element.innerHTML = '';\n",
       "          dataTable['output_type'] = 'display_data';\n",
       "          await google.colab.output.renderOutput(dataTable, element);\n",
       "          const docLink = document.createElement('div');\n",
       "          docLink.innerHTML = docLinkHtml;\n",
       "          element.appendChild(docLink);\n",
       "        }\n",
       "      </script>\n",
       "    </div>\n",
       "  </div>\n",
       "  "
      ],
      "text/plain": [
       "     model  SparsityPhiScore  SparsityThetaScore  Kernel contrast  \\\n",
       "0  model 1          0.598304            0.598304         0.991662   \n",
       "1  model 2          0.000000            0.000000         0.958817   \n",
       "2  model 3          0.959405            0.959405         1.000000   \n",
       "\n",
       "   Kernel purity  Perplexity  \n",
       "0       0.988206  323.820557  \n",
       "1       0.978035  329.947723  \n",
       "2       1.000000  662.834595  "
      ]
     },
     "execution_count": 113,
     "metadata": {},
     "output_type": "execute_result"
    }
   ],
   "source": [
    "measures_res"
   ]
  },
  {
   "cell_type": "code",
   "execution_count": 122,
   "id": "bIZ2tO11oQMe",
   "metadata": {
    "colab": {
     "base_uri": "https://localhost:8080/",
     "height": 606
    },
    "id": "bIZ2tO11oQMe",
    "outputId": "5c7dc100-84eb-4091-9f44-02b317fe4ec3"
   },
   "outputs": [
    {
     "data": {
      "image/png": "[encoded data removed]",
      "text/plain": [
       "<Figure size 1440x720 with 6 Axes>"
      ]
     },
     "metadata": {
      "needs_background": "light"
     },
     "output_type": "display_data"
    }
   ],
   "source": [
    "figure, ax = plt.subplots(2, 3, figsize=(20, 10))\n",
    "\n",
    "sns.barplot(x = 'SparsityPhiScore', y ='model',ax=ax[0, 0], data = measures_res[['model','SparsityPhiScore']] , palette = \"husl\" )\n",
    "sns.barplot(x = 'SparsityThetaScore', y ='model',ax=ax[0, 1], data = measures_res[['model','SparsityThetaScore']] , palette = \"husl\" )\n",
    "sns.barplot(x = 'Kernel contrast', y ='model',ax=ax[0, 2], data = measures_res[['model','Kernel contrast']] , palette = \"husl\" )\n",
    "sns.barplot(x = 'Kernel purity', y ='model', ax=ax[1, 0], data = measures_res[['model','Kernel purity']] , palette = \"husl\" )\n",
    "sns.barplot(x = 'Perplexity', y ='model', ax=ax[1, 1], data = measures_res[['model','Perplexity']] , palette = \"husl\" )\n",
    "plt.show()"
   ]
  }
 ],
 "metadata": {
  "colab": {
   "collapsed_sections": [],
   "name": "Без_названия.ipynb",
   "provenance": []
  },
  "kernelspec": {
   "display_name": "Python 3.9.7 ('base')",
   "language": "python",
   "name": "python397jvsc74a57bd040d3a090f54c6569ab1632332b64b2c03c39dcf918b08424e98f38b5ae0af88f"
  },
  "language_info": {
   "codemirror_mode": {
    "name": "ipython",
    "version": 3
   },
   "file_extension": ".py",
   "mimetype": "text/x-python",
   "name": "python",
   "nbconvert_exporter": "python",
   "pygments_lexer": "ipython3",
   "version": "3.9.7"
  },
  "toc": {
   "base_numbering": 1,
   "nav_menu": {},
   "number_sections": true,
   "sideBar": true,
   "skip_h1_title": false,
   "title_cell": "Table of Contents",
   "title_sidebar": "Contents",
   "toc_cell": false,
   "toc_position": {},
   "toc_section_display": true,
   "toc_window_display": false
  },
  "varInspector": {
   "cols": {
    "lenName": 16,
    "lenType": 16,
    "lenVar": 40
   },
   "kernels_config": {
    "python": {
     "delete_cmd_postfix": "",
     "delete_cmd_prefix": "del ",
     "library": "var_list.py",
     "varRefreshCmd": "print(var_dic_list())"
    },
    "r": {
     "delete_cmd_postfix": ") ",
     "delete_cmd_prefix": "rm(",
     "library": "var_list.r",
     "varRefreshCmd": "cat(var_dic_list()) "
    }
   },
   "types_to_exclude": [
    "module",
    "function",
    "builtin_function_or_method",
    "instance",
    "_Feature"
   ],
   "window_display": false
  }
 },
 "nbformat": 4,
 "nbformat_minor": 5
}
